{
 "cells": [
  {
   "cell_type": "markdown",
   "id": "66067dca",
   "metadata": {},
   "source": [
    "# Movie Recommendation engine using Collaborative filtering and Content filtering"
   ]
  },
  {
   "cell_type": "code",
   "execution_count": 94,
   "id": "b2d0858b",
   "metadata": {},
   "outputs": [
    {
     "name": "stdout",
     "output_type": "stream",
     "text": [
      "<class 'pandas.core.frame.DataFrame'>\n",
      "RangeIndex: 9742 entries, 0 to 9741\n",
      "Data columns (total 3 columns):\n",
      " #   Column   Non-Null Count  Dtype \n",
      "---  ------   --------------  ----- \n",
      " 0   movieId  9742 non-null   int64 \n",
      " 1   title    9742 non-null   object\n",
      " 2   genres   9742 non-null   object\n",
      "dtypes: int64(1), object(2)\n",
      "memory usage: 228.5+ KB\n",
      "<class 'pandas.core.frame.DataFrame'>\n",
      "RangeIndex: 100836 entries, 0 to 100835\n",
      "Data columns (total 4 columns):\n",
      " #   Column     Non-Null Count   Dtype  \n",
      "---  ------     --------------   -----  \n",
      " 0   userId     100836 non-null  int64  \n",
      " 1   movieId    100836 non-null  int64  \n",
      " 2   rating     100836 non-null  float64\n",
      " 3   timestamp  100836 non-null  int64  \n",
      "dtypes: float64(1), int64(3)\n",
      "memory usage: 3.1 MB\n",
      "<class 'pandas.core.frame.DataFrame'>\n",
      "Int64Index: 100836 entries, 0 to 100835\n",
      "Data columns (total 6 columns):\n",
      " #   Column     Non-Null Count   Dtype  \n",
      "---  ------     --------------   -----  \n",
      " 0   userId     100836 non-null  int64  \n",
      " 1   movieId    100836 non-null  int64  \n",
      " 2   rating     100836 non-null  float64\n",
      " 3   timestamp  100836 non-null  int64  \n",
      " 4   title      100836 non-null  object \n",
      " 5   genres     100836 non-null  object \n",
      "dtypes: float64(1), int64(3), object(2)\n",
      "memory usage: 5.4+ MB\n"
     ]
    }
   ],
   "source": [
    "import pandas as pd\n",
    "import numpy as np\n",
    "import re\n",
    "\n",
    "\n",
    "df_movies = pd.read_csv(\"movies.csv\")\n",
    "\n",
    "#creating a sample dataset of 20 rows for reference\n",
    "df1 = df_movies.sample(20)\n",
    "#df1\n",
    "\n",
    "df_movies.info()\n",
    "\n",
    "#checking duplicates\n",
    "df_movies.duplicated().sum()\n",
    "\n",
    "df_ratings = pd.read_csv(\"ratings.csv\")\n",
    "# df_ratings.head()\n",
    "\n",
    "df_ratings.info()\n",
    "\n",
    "\n",
    "# Merge the two tables based on the movieId column\n",
    "df = pd.merge(df_ratings, df_movies, on='movieId')\n",
    "\n",
    "# Preview the merged table\n",
    "#df.sample(5)\n",
    "\n",
    "\n",
    "df.info()"
   ]
  },
  {
   "cell_type": "code",
   "execution_count": null,
   "id": "37a7ea86",
   "metadata": {},
   "outputs": [],
   "source": []
  },
  {
   "cell_type": "markdown",
   "id": "aeea53b6",
   "metadata": {},
   "source": [
    "# seperating year from the title"
   ]
  },
  {
   "cell_type": "code",
   "execution_count": 95,
   "id": "dc52341d",
   "metadata": {},
   "outputs": [
    {
     "data": {
      "text/html": [
       "<div>\n",
       "<style scoped>\n",
       "    .dataframe tbody tr th:only-of-type {\n",
       "        vertical-align: middle;\n",
       "    }\n",
       "\n",
       "    .dataframe tbody tr th {\n",
       "        vertical-align: top;\n",
       "    }\n",
       "\n",
       "    .dataframe thead th {\n",
       "        text-align: right;\n",
       "    }\n",
       "</style>\n",
       "<table border=\"1\" class=\"dataframe\">\n",
       "  <thead>\n",
       "    <tr style=\"text-align: right;\">\n",
       "      <th></th>\n",
       "      <th>userId</th>\n",
       "      <th>movieId</th>\n",
       "      <th>rating</th>\n",
       "      <th>timestamp</th>\n",
       "      <th>title</th>\n",
       "      <th>genres</th>\n",
       "    </tr>\n",
       "  </thead>\n",
       "  <tbody>\n",
       "    <tr>\n",
       "      <th>0</th>\n",
       "      <td>1</td>\n",
       "      <td>1</td>\n",
       "      <td>4.0</td>\n",
       "      <td>964982703</td>\n",
       "      <td>Toy Story (1995)</td>\n",
       "      <td>Adventure|Animation|Children|Comedy|Fantasy</td>\n",
       "    </tr>\n",
       "    <tr>\n",
       "      <th>1</th>\n",
       "      <td>5</td>\n",
       "      <td>1</td>\n",
       "      <td>4.0</td>\n",
       "      <td>847434962</td>\n",
       "      <td>Toy Story (1995)</td>\n",
       "      <td>Adventure|Animation|Children|Comedy|Fantasy</td>\n",
       "    </tr>\n",
       "    <tr>\n",
       "      <th>2</th>\n",
       "      <td>7</td>\n",
       "      <td>1</td>\n",
       "      <td>4.5</td>\n",
       "      <td>1106635946</td>\n",
       "      <td>Toy Story (1995)</td>\n",
       "      <td>Adventure|Animation|Children|Comedy|Fantasy</td>\n",
       "    </tr>\n",
       "    <tr>\n",
       "      <th>3</th>\n",
       "      <td>15</td>\n",
       "      <td>1</td>\n",
       "      <td>2.5</td>\n",
       "      <td>1510577970</td>\n",
       "      <td>Toy Story (1995)</td>\n",
       "      <td>Adventure|Animation|Children|Comedy|Fantasy</td>\n",
       "    </tr>\n",
       "    <tr>\n",
       "      <th>4</th>\n",
       "      <td>17</td>\n",
       "      <td>1</td>\n",
       "      <td>4.5</td>\n",
       "      <td>1305696483</td>\n",
       "      <td>Toy Story (1995)</td>\n",
       "      <td>Adventure|Animation|Children|Comedy|Fantasy</td>\n",
       "    </tr>\n",
       "  </tbody>\n",
       "</table>\n",
       "</div>"
      ],
      "text/plain": [
       "   userId  movieId  rating   timestamp             title  \\\n",
       "0       1        1     4.0   964982703  Toy Story (1995)   \n",
       "1       5        1     4.0   847434962  Toy Story (1995)   \n",
       "2       7        1     4.5  1106635946  Toy Story (1995)   \n",
       "3      15        1     2.5  1510577970  Toy Story (1995)   \n",
       "4      17        1     4.5  1305696483  Toy Story (1995)   \n",
       "\n",
       "                                        genres  \n",
       "0  Adventure|Animation|Children|Comedy|Fantasy  \n",
       "1  Adventure|Animation|Children|Comedy|Fantasy  \n",
       "2  Adventure|Animation|Children|Comedy|Fantasy  \n",
       "3  Adventure|Animation|Children|Comedy|Fantasy  \n",
       "4  Adventure|Animation|Children|Comedy|Fantasy  "
      ]
     },
     "execution_count": 95,
     "metadata": {},
     "output_type": "execute_result"
    }
   ],
   "source": [
    "df.head()"
   ]
  },
  {
   "cell_type": "code",
   "execution_count": 3,
   "id": "933523a9",
   "metadata": {},
   "outputs": [],
   "source": [
    "df['timestamp'] = pd.to_datetime(df['timestamp'], unit='s')"
   ]
  },
  {
   "cell_type": "code",
   "execution_count": null,
   "id": "babdc20e",
   "metadata": {},
   "outputs": [],
   "source": []
  },
  {
   "cell_type": "markdown",
   "id": "a0210d95",
   "metadata": {},
   "source": [
    "**Timestamp**: In some cases, the timestamp can provide valuable information for collaborative filtering. For example, in a movie recommendation system, the time at which a user watched a movie can be indicative of their preferences. It can help capture temporal dynamics such as trending movies, seasonal preferences, or changing tastes over time. Incorporating the timestamp can enable the recommendation system to give more weight to recent interactions and adjust recommendations accordingly.\n",
    "\n",
    "**Genres:** Genres can be highly relevant in collaborative filtering, especially in domains where items can be categorized into distinct genres or categories. For instance, in a movie recommendation system, users may have preferences for specific genres like action, romance, or comedy. By considering the genre information, collaborative filtering algorithms can recommend items that align with users' preferred genres. This can be particularly helpful when users have well-defined genre preferences or when they explicitly indicate their genre preferences in their profiles.\n",
    "\n",
    "- right now im just gonna drop timestamp and genres cause its not required for this basic recommendation engine"
   ]
  },
  {
   "cell_type": "code",
   "execution_count": 69,
   "id": "9d9d5a48",
   "metadata": {},
   "outputs": [],
   "source": [
    "df1 = df.drop(['timestamp','genres'], axis=1)"
   ]
  },
  {
   "cell_type": "code",
   "execution_count": 70,
   "id": "fb721a31",
   "metadata": {
    "scrolled": true
   },
   "outputs": [
    {
     "data": {
      "text/html": [
       "<div>\n",
       "<style scoped>\n",
       "    .dataframe tbody tr th:only-of-type {\n",
       "        vertical-align: middle;\n",
       "    }\n",
       "\n",
       "    .dataframe tbody tr th {\n",
       "        vertical-align: top;\n",
       "    }\n",
       "\n",
       "    .dataframe thead th {\n",
       "        text-align: right;\n",
       "    }\n",
       "</style>\n",
       "<table border=\"1\" class=\"dataframe\">\n",
       "  <thead>\n",
       "    <tr style=\"text-align: right;\">\n",
       "      <th></th>\n",
       "      <th>userId</th>\n",
       "      <th>movieId</th>\n",
       "      <th>rating</th>\n",
       "      <th>title</th>\n",
       "    </tr>\n",
       "  </thead>\n",
       "  <tbody>\n",
       "    <tr>\n",
       "      <th>0</th>\n",
       "      <td>1</td>\n",
       "      <td>1</td>\n",
       "      <td>4.0</td>\n",
       "      <td>Toy Story</td>\n",
       "    </tr>\n",
       "    <tr>\n",
       "      <th>1</th>\n",
       "      <td>5</td>\n",
       "      <td>1</td>\n",
       "      <td>4.0</td>\n",
       "      <td>Toy Story</td>\n",
       "    </tr>\n",
       "    <tr>\n",
       "      <th>2</th>\n",
       "      <td>7</td>\n",
       "      <td>1</td>\n",
       "      <td>4.5</td>\n",
       "      <td>Toy Story</td>\n",
       "    </tr>\n",
       "    <tr>\n",
       "      <th>3</th>\n",
       "      <td>15</td>\n",
       "      <td>1</td>\n",
       "      <td>2.5</td>\n",
       "      <td>Toy Story</td>\n",
       "    </tr>\n",
       "    <tr>\n",
       "      <th>4</th>\n",
       "      <td>17</td>\n",
       "      <td>1</td>\n",
       "      <td>4.5</td>\n",
       "      <td>Toy Story</td>\n",
       "    </tr>\n",
       "  </tbody>\n",
       "</table>\n",
       "</div>"
      ],
      "text/plain": [
       "   userId  movieId  rating      title\n",
       "0       1        1     4.0  Toy Story\n",
       "1       5        1     4.0  Toy Story\n",
       "2       7        1     4.5  Toy Story\n",
       "3      15        1     2.5  Toy Story\n",
       "4      17        1     4.5  Toy Story"
      ]
     },
     "execution_count": 70,
     "metadata": {},
     "output_type": "execute_result"
    }
   ],
   "source": [
    "df1.head()"
   ]
  },
  {
   "cell_type": "code",
   "execution_count": null,
   "id": "7d74ec07",
   "metadata": {},
   "outputs": [],
   "source": []
  },
  {
   "cell_type": "code",
   "execution_count": null,
   "id": "4bcca64c",
   "metadata": {},
   "outputs": [],
   "source": []
  },
  {
   "cell_type": "markdown",
   "id": "afb542e2",
   "metadata": {},
   "source": [
    "# What Next ?\n",
    "- Step 1: Create a user-item matrix\n",
    "- Step 2: Choose a collaborative filtering algorithm\n",
    "- Step 3: Implement the collaborative filtering algorithm\n",
    "* Step 4: Generate movie recommendations"
   ]
  },
  {
   "cell_type": "markdown",
   "id": "51660198",
   "metadata": {},
   "source": [
    "- How do you determine which users or items are similar to one another?\n",
    "- Given that you know which users are similar, how do you determine the rating that a user would give to an item based on the ratings of similar users?\n",
    "- How do you measure the accuracy of the ratings you calculate?"
   ]
  },
  {
   "cell_type": "code",
   "execution_count": 71,
   "id": "d632b0ab",
   "metadata": {},
   "outputs": [],
   "source": [
    " # Match whitespace, parentheses, and the four-digit year at the end\n",
    "df1['title'] = df1['title'].str.replace(r'\\(\\d{4}\\)', '', regex=True).str.strip()"
   ]
  },
  {
   "cell_type": "code",
   "execution_count": 72,
   "id": "3104eac0",
   "metadata": {},
   "outputs": [],
   "source": [
    "#df1.sample(10)"
   ]
  },
  {
   "cell_type": "code",
   "execution_count": 73,
   "id": "7556384d",
   "metadata": {},
   "outputs": [
    {
     "data": {
      "text/plain": [
       "userId     0\n",
       "movieId    0\n",
       "rating     0\n",
       "title      0\n",
       "dtype: int64"
      ]
     },
     "execution_count": 73,
     "metadata": {},
     "output_type": "execute_result"
    }
   ],
   "source": [
    "df1.isna().sum()"
   ]
  },
  {
   "cell_type": "code",
   "execution_count": 74,
   "id": "2d68d82b",
   "metadata": {},
   "outputs": [],
   "source": [
    "# set userId as the index\n",
    "df1 = df1.set_index('userId')"
   ]
  },
  {
   "cell_type": "code",
   "execution_count": 66,
   "id": "989e9d6f",
   "metadata": {},
   "outputs": [],
   "source": [
    "#df1.head()"
   ]
  },
  {
   "cell_type": "code",
   "execution_count": 75,
   "id": "46e1c696",
   "metadata": {},
   "outputs": [],
   "source": [
    "from sklearn.metrics.pairwise import cosine_similarity\n",
    "from scipy.sparse import csr_matrix"
   ]
  },
  {
   "cell_type": "code",
   "execution_count": 76,
   "id": "c73c5e21",
   "metadata": {},
   "outputs": [
    {
     "name": "stdout",
     "output_type": "stream",
     "text": [
      "title   '71  'Hellboy': The Seeds of Creation  'Round Midnight  'Salem's Lot  \\\n",
      "userId                                                                         \n",
      "1         0                                 0              0.0             0   \n",
      "2         0                                 0              0.0             0   \n",
      "3         0                                 0              0.0             0   \n",
      "4         0                                 0              0.0             0   \n",
      "5         0                                 0              0.0             0   \n",
      "...     ...                               ...              ...           ...   \n",
      "606       0                                 0              0.0             0   \n",
      "607       0                                 0              0.0             0   \n",
      "608       0                                 0              0.0             0   \n",
      "609       0                                 0              0.0             0   \n",
      "610       4                                 0              0.0             0   \n",
      "\n",
      "title   'Til There Was You  'Tis the Season for Love  'burbs, The  \\\n",
      "userId                                                              \n",
      "1                        0                       0.0          0.0   \n",
      "2                        0                       0.0          0.0   \n",
      "3                        0                       0.0          0.0   \n",
      "4                        0                       0.0          0.0   \n",
      "5                        0                       0.0          0.0   \n",
      "...                    ...                       ...          ...   \n",
      "606                      0                       0.0          0.0   \n",
      "607                      0                       0.0          0.0   \n",
      "608                      0                       0.0          0.0   \n",
      "609                      0                       0.0          0.0   \n",
      "610                      0                       0.0          0.0   \n",
      "\n",
      "title   'night Mother  (500) Days of Summer  *batteries not included  ...  \\\n",
      "userId                                                                ...   \n",
      "1                   0                   0.0                      0.0  ...   \n",
      "2                   0                   0.0                      0.0  ...   \n",
      "3                   0                   0.0                      0.0  ...   \n",
      "4                   0                   0.0                      0.0  ...   \n",
      "5                   0                   0.0                      0.0  ...   \n",
      "...               ...                   ...                      ...  ...   \n",
      "606                 0                   0.0                      0.0  ...   \n",
      "607                 0                   0.0                      0.0  ...   \n",
      "608                 0                   0.0                      0.0  ...   \n",
      "609                 0                   0.0                      0.0  ...   \n",
      "610                 0                   3.5                      0.0  ...   \n",
      "\n",
      "title   Zulu  [REC]  [REC]²  [REC]³ 3 Génesis  \\\n",
      "userId                                          \n",
      "1        0.0    0.0     0.0                 0   \n",
      "2        0.0    0.0     0.0                 0   \n",
      "3        0.0    0.0     0.0                 0   \n",
      "4        0.0    0.0     0.0                 0   \n",
      "5        0.0    0.0     0.0                 0   \n",
      "...      ...    ...     ...               ...   \n",
      "606      0.0    0.0     0.0                 0   \n",
      "607      0.0    0.0     0.0                 0   \n",
      "608      0.0    0.0     0.0                 0   \n",
      "609      0.0    0.0     0.0                 0   \n",
      "610      0.0    4.0     3.5                 3   \n",
      "\n",
      "title   anohana: The Flower We Saw That Day - The Movie  eXistenZ  xXx  \\\n",
      "userId                                                                   \n",
      "1                                                     0       0.0  0.0   \n",
      "2                                                     0       0.0  0.0   \n",
      "3                                                     0       0.0  0.0   \n",
      "4                                                     0       0.0  0.0   \n",
      "5                                                     0       0.0  0.0   \n",
      "...                                                 ...       ...  ...   \n",
      "606                                                   0       0.0  0.0   \n",
      "607                                                   0       0.0  0.0   \n",
      "608                                                   0       4.5  3.5   \n",
      "609                                                   0       0.0  0.0   \n",
      "610                                                   0       0.0  2.0   \n",
      "\n",
      "title   xXx: State of the Union  ¡Three Amigos!  \\\n",
      "userId                                            \n",
      "1                           0.0             4.0   \n",
      "2                           0.0             0.0   \n",
      "3                           0.0             0.0   \n",
      "4                           0.0             0.0   \n",
      "5                           0.0             0.0   \n",
      "...                         ...             ...   \n",
      "606                         0.0             0.0   \n",
      "607                         0.0             0.0   \n",
      "608                         0.0             0.0   \n",
      "609                         0.0             0.0   \n",
      "610                         1.5             0.0   \n",
      "\n",
      "title   À nous la liberté (Freedom for Us)  \n",
      "userId                                      \n",
      "1                                        0  \n",
      "2                                        0  \n",
      "3                                        0  \n",
      "4                                        0  \n",
      "5                                        0  \n",
      "...                                    ...  \n",
      "606                                      0  \n",
      "607                                      0  \n",
      "608                                      0  \n",
      "609                                      0  \n",
      "610                                      0  \n",
      "\n",
      "[610 rows x 9446 columns]\n"
     ]
    }
   ],
   "source": [
    "# Create a pivot table with userId as rows, movieId as columns, and ratings as values\n",
    "pivot_table = pd.pivot_table(df1, values='rating', index='userId', columns='title', fill_value=0)\n",
    "print(pivot_table)"
   ]
  },
  {
   "cell_type": "code",
   "execution_count": 61,
   "id": "e1e47a8d",
   "metadata": {},
   "outputs": [
    {
     "name": "stdout",
     "output_type": "stream",
     "text": [
      "  (0, 46)\t4.0\n",
      "  (0, 64)\t4.0\n",
      "  (0, 198)\t4.0\n",
      "  (0, 241)\t5.0\n",
      "  (0, 318)\t5.0\n",
      "  (0, 319)\t4.0\n",
      "  (0, 338)\t5.0\n",
      "  (0, 396)\t5.0\n",
      "  (0, 411)\t5.0\n",
      "  (0, 431)\t5.0\n",
      "  (0, 550)\t4.0\n",
      "  (0, 657)\t5.0\n",
      "  (0, 724)\t5.0\n",
      "  (0, 726)\t4.0\n",
      "  (0, 766)\t5.0\n",
      "  (0, 806)\t5.0\n",
      "  (0, 813)\t4.0\n",
      "  (0, 818)\t3.0\n",
      "  (0, 892)\t5.0\n",
      "  (0, 900)\t4.0\n",
      "  (0, 921)\t4.0\n",
      "  (0, 956)\t4.0\n",
      "  (0, 998)\t4.0\n",
      "  (0, 1021)\t5.0\n",
      "  (0, 1035)\t4.0\n",
      "  :\t:\n",
      "  (609, 9338)\t4.0\n",
      "  (609, 9344)\t2.5\n",
      "  (609, 9345)\t3.5\n",
      "  (609, 9346)\t1.0\n",
      "  (609, 9347)\t3.5\n",
      "  (609, 9348)\t4.0\n",
      "  (609, 9349)\t4.0\n",
      "  (609, 9350)\t3.0\n",
      "  (609, 9351)\t4.0\n",
      "  (609, 9380)\t4.5\n",
      "  (609, 9396)\t2.5\n",
      "  (609, 9403)\t4.0\n",
      "  (609, 9406)\t3.5\n",
      "  (609, 9411)\t4.0\n",
      "  (609, 9420)\t3.5\n",
      "  (609, 9424)\t5.0\n",
      "  (609, 9425)\t3.5\n",
      "  (609, 9428)\t3.5\n",
      "  (609, 9432)\t4.0\n",
      "  (609, 9435)\t4.0\n",
      "  (609, 9437)\t4.0\n",
      "  (609, 9438)\t3.5\n",
      "  (609, 9439)\t3.0\n",
      "  (609, 9442)\t2.0\n",
      "  (609, 9443)\t1.5\n"
     ]
    }
   ],
   "source": [
    "# Convert the pivot table to a sparse matrix\n",
    "sparse_matrix = csr_matrix(pivot_table.values)\n",
    "print(sparse_matrix)"
   ]
  },
  {
   "cell_type": "markdown",
   "id": "1ed5533a",
   "metadata": {},
   "source": [
    "One important thing to keep in mind is that in an approach based purely on collaborative filtering, the similarity is not calculated using factors like the age of users, genre of the movie, or any other data about users or items. It is calculated only on the basis of the rating (explicit or implicit) a user gives to an item. For example, two users can be considered similar if they give the same ratings to ten movies despite there being a big difference in their age."
   ]
  },
  {
   "cell_type": "code",
   "execution_count": null,
   "id": "c1a22653",
   "metadata": {},
   "outputs": [],
   "source": [
    "# Calculate cosine similarity between users\n",
    "user_similarity = cosine_similarity(sparse_matrix)\n",
    "\n",
    "# Convert cosine similarity matrix to a DataFrame\n",
    "similarity_df = pd.DataFrame(user_similarity, index=pivot_table.index, columns=pivot_table.index)\n",
    "\n",
    "print(similarity_df)\n",
    "\n",
    "# import seaborn as sns\n",
    "# import matplotlib.pyplot as plt\n",
    "# # Create a heatmap\n",
    "# plt.figure(figsize=(10, 8))\n",
    "# sns.heatmap(similarity_df, cmap='coolwarm', annot=True, fmt=\".2f\")\n",
    "# plt.title(\"Cosine Similarity between Users\")\n",
    "# plt.xlabel(\"User ID\")\n",
    "# plt.ylabel(\"User ID\")\n",
    "# plt.show()\n"
   ]
  },
  {
   "cell_type": "code",
   "execution_count": null,
   "id": "4d12fea3",
   "metadata": {},
   "outputs": [],
   "source": [
    "# Get the index of the user for whom you want to generate recommendations\n",
    "target_user_index = 10"
   ]
  },
  {
   "cell_type": "code",
   "execution_count": null,
   "id": "5e721a25",
   "metadata": {},
   "outputs": [],
   "source": [
    "# Calculate the average rating of the target user\n",
    "target_user_avg_rating = pivot_table.iloc[target_user_index].mean()"
   ]
  },
  {
   "cell_type": "code",
   "execution_count": null,
   "id": "2baa7060",
   "metadata": {},
   "outputs": [],
   "source": [
    "# Calculate the weighted average of ratings based on user similarity\n",
    "weighted_ratings = user_similarity[target_user_index].dot(pivot_table.values - target_user_avg_rating)"
   ]
  },
  {
   "cell_type": "code",
   "execution_count": null,
   "id": "820ff50c",
   "metadata": {},
   "outputs": [],
   "source": [
    "# Create a DataFrame to store the recommendation results\n",
    "recommendations = pd.DataFrame({\n",
    "    'title': pivot_table.columns,\n",
    "    'weighted_rating': weighted_ratings\n",
    "})"
   ]
  },
  {
   "cell_type": "code",
   "execution_count": null,
   "id": "65e66604",
   "metadata": {},
   "outputs": [],
   "source": [
    "# Sort the recommendations by weighted rating in descending order\n",
    "recommendations = recommendations.sort_values('weighted_rating', ascending=False)"
   ]
  },
  {
   "cell_type": "code",
   "execution_count": null,
   "id": "8da431dc",
   "metadata": {},
   "outputs": [],
   "source": [
    "# Print the top 5 recommendations\n",
    "top_recommendations = recommendations.head(5)\n",
    "print(top_recommendations)"
   ]
  },
  {
   "cell_type": "code",
   "execution_count": null,
   "id": "235993ab",
   "metadata": {},
   "outputs": [],
   "source": [
    "# Calculate cosine similarity between users\n",
    "user_similarity = cosine_similarity(sparse_matrix)\n",
    "\n",
    "# Convert cosine similarity matrix to a DataFrame\n",
    "similarity_df = pd.DataFrame(user_similarity, index=pivot_table.index, columns=pivot_table.index)"
   ]
  },
  {
   "cell_type": "code",
   "execution_count": null,
   "id": "9d3cada2",
   "metadata": {},
   "outputs": [],
   "source": [
    "#pivot table\n",
    "import pandas as pd\n",
    "import matplotlib.pyplot as plt\n",
    "\n",
    "# create a sample dataset\n",
    "data = {'Name': ['Alice', 'Bob', 'Charlie', 'David', 'Eva'],\n",
    "        'Year': [2019, 2020, 2020, 2021, 2021],\n",
    "        'Sales': [100, 200, 300, 400, 500]}\n",
    "\n",
    "df = pd.DataFrame(data)\n",
    "\n",
    "# create a pivot table\n",
    "pivot_table = df.pivot_table(index='Name', columns='Year', values='Sales')\n",
    "\n",
    "print(pivot_table)"
   ]
  },
  {
   "cell_type": "code",
   "execution_count": null,
   "id": "47ed5c22",
   "metadata": {},
   "outputs": [],
   "source": [
    "#sparse Matrix\n",
    "import matplotlib.pyplot as plt\n",
    "import numpy as np\n",
    "from scipy.sparse import csr_matrix\n",
    "\n",
    "# Create a random sparse matrix\n",
    "data = np.array([1, 2, 3, 4, 5])\n",
    "row = np.array([0, 0, 1, 2, 2])\n",
    "col = np.array([1, 2, 0, 1, 2])\n",
    "sparse_matrix = csr_matrix((data, (row, col)), shape=(3, 3))\n",
    "\n",
    "print(sparse_matrix)"
   ]
  },
  {
   "cell_type": "code",
   "execution_count": null,
   "id": "e375a7c9",
   "metadata": {},
   "outputs": [],
   "source": []
  },
  {
   "cell_type": "markdown",
   "id": "7be0d90e",
   "metadata": {},
   "source": [
    "# 2nd approach"
   ]
  },
  {
   "cell_type": "code",
   "execution_count": 77,
   "id": "330228dc",
   "metadata": {},
   "outputs": [
    {
     "data": {
      "text/html": [
       "<div>\n",
       "<style scoped>\n",
       "    .dataframe tbody tr th:only-of-type {\n",
       "        vertical-align: middle;\n",
       "    }\n",
       "\n",
       "    .dataframe tbody tr th {\n",
       "        vertical-align: top;\n",
       "    }\n",
       "\n",
       "    .dataframe thead th {\n",
       "        text-align: right;\n",
       "    }\n",
       "</style>\n",
       "<table border=\"1\" class=\"dataframe\">\n",
       "  <thead>\n",
       "    <tr style=\"text-align: right;\">\n",
       "      <th></th>\n",
       "      <th>userId</th>\n",
       "      <th>movieId</th>\n",
       "      <th>rating</th>\n",
       "      <th>timestamp</th>\n",
       "      <th>title</th>\n",
       "      <th>genres</th>\n",
       "    </tr>\n",
       "  </thead>\n",
       "  <tbody>\n",
       "    <tr>\n",
       "      <th>0</th>\n",
       "      <td>1</td>\n",
       "      <td>1</td>\n",
       "      <td>4.0</td>\n",
       "      <td>2000-07-30</td>\n",
       "      <td>Toy Story</td>\n",
       "      <td>Adventure|Animation|Children|Comedy|Fantasy</td>\n",
       "    </tr>\n",
       "    <tr>\n",
       "      <th>1</th>\n",
       "      <td>5</td>\n",
       "      <td>1</td>\n",
       "      <td>4.0</td>\n",
       "      <td>1996-11-08</td>\n",
       "      <td>Toy Story</td>\n",
       "      <td>Adventure|Animation|Children|Comedy|Fantasy</td>\n",
       "    </tr>\n",
       "    <tr>\n",
       "      <th>2</th>\n",
       "      <td>7</td>\n",
       "      <td>1</td>\n",
       "      <td>4.5</td>\n",
       "      <td>2005-01-25</td>\n",
       "      <td>Toy Story</td>\n",
       "      <td>Adventure|Animation|Children|Comedy|Fantasy</td>\n",
       "    </tr>\n",
       "    <tr>\n",
       "      <th>3</th>\n",
       "      <td>15</td>\n",
       "      <td>1</td>\n",
       "      <td>2.5</td>\n",
       "      <td>2017-11-13</td>\n",
       "      <td>Toy Story</td>\n",
       "      <td>Adventure|Animation|Children|Comedy|Fantasy</td>\n",
       "    </tr>\n",
       "    <tr>\n",
       "      <th>4</th>\n",
       "      <td>17</td>\n",
       "      <td>1</td>\n",
       "      <td>4.5</td>\n",
       "      <td>2011-05-18</td>\n",
       "      <td>Toy Story</td>\n",
       "      <td>Adventure|Animation|Children|Comedy|Fantasy</td>\n",
       "    </tr>\n",
       "  </tbody>\n",
       "</table>\n",
       "</div>"
      ],
      "text/plain": [
       "   userId  movieId  rating  timestamp      title  \\\n",
       "0       1        1     4.0 2000-07-30  Toy Story   \n",
       "1       5        1     4.0 1996-11-08  Toy Story   \n",
       "2       7        1     4.5 2005-01-25  Toy Story   \n",
       "3      15        1     2.5 2017-11-13  Toy Story   \n",
       "4      17        1     4.5 2011-05-18  Toy Story   \n",
       "\n",
       "                                        genres  \n",
       "0  Adventure|Animation|Children|Comedy|Fantasy  \n",
       "1  Adventure|Animation|Children|Comedy|Fantasy  \n",
       "2  Adventure|Animation|Children|Comedy|Fantasy  \n",
       "3  Adventure|Animation|Children|Comedy|Fantasy  \n",
       "4  Adventure|Animation|Children|Comedy|Fantasy  "
      ]
     },
     "execution_count": 77,
     "metadata": {},
     "output_type": "execute_result"
    }
   ],
   "source": [
    "df.head()"
   ]
  },
  {
   "cell_type": "code",
   "execution_count": 78,
   "id": "be929d47",
   "metadata": {},
   "outputs": [],
   "source": [
    "pattern = re.compile(r'(\\d{2}/:\\d{2}/:\\d{2})')"
   ]
  },
  {
   "cell_type": "code",
   "execution_count": 6,
   "id": "f5bd3bbd",
   "metadata": {},
   "outputs": [],
   "source": [
    "df_time = df[\"timestamp\"]"
   ]
  },
  {
   "cell_type": "code",
   "execution_count": 7,
   "id": "d72e1d26",
   "metadata": {},
   "outputs": [],
   "source": [
    "pattern = re.compile(r'(\\d{2}:\\d{2}:\\d{2})')\n",
    "for row in df_time:\n",
    "    row_str = str(row)  # Convert row to string\n",
    "    match = pattern.findall(row_str)\n",
    "    #print(match)\n"
   ]
  },
  {
   "cell_type": "code",
   "execution_count": 8,
   "id": "6a045d2e",
   "metadata": {},
   "outputs": [
    {
     "name": "stdout",
     "output_type": "stream",
     "text": [
      "<class 'pandas.core.series.Series'>\n",
      "Int64Index: 100836 entries, 0 to 100835\n",
      "Series name: timestamp\n",
      "Non-Null Count   Dtype         \n",
      "--------------   -----         \n",
      "100836 non-null  datetime64[ns]\n",
      "dtypes: datetime64[ns](1)\n",
      "memory usage: 1.5 MB\n"
     ]
    }
   ],
   "source": [
    "df['timestamp'].info()"
   ]
  },
  {
   "cell_type": "code",
   "execution_count": null,
   "id": "0ad475b3",
   "metadata": {},
   "outputs": [],
   "source": [
    "# error\n",
    "#df[\"timestamp\"] = df[\"timestamp\"].str.replace(r'(\\d{2}:\\d{2}:\\d{2})', '', regex=True).str.strip()"
   ]
  },
  {
   "cell_type": "code",
   "execution_count": 9,
   "id": "25bdbef2",
   "metadata": {},
   "outputs": [],
   "source": [
    "df[\"timestamp\"] = df[\"timestamp\"].astype(str).str.replace(r'(\\d{2}:\\d{2}:\\d{2})', '', regex=True).str.strip()\n",
    "df['timestamp'] = pd.to_datetime(df['timestamp'])"
   ]
  },
  {
   "cell_type": "code",
   "execution_count": 10,
   "id": "cfa9fc73",
   "metadata": {},
   "outputs": [],
   "source": [
    "#df['title'] = df['title'].str.replace(r'(d{4})', '', regex = True).str.strip()\n",
    "df['title'] = df['title'].str.replace(r'\\(\\d{4}\\)', '', regex=True).str.strip()"
   ]
  },
  {
   "cell_type": "code",
   "execution_count": 11,
   "id": "2d84ea0c",
   "metadata": {},
   "outputs": [
    {
     "data": {
      "text/html": [
       "<div>\n",
       "<style scoped>\n",
       "    .dataframe tbody tr th:only-of-type {\n",
       "        vertical-align: middle;\n",
       "    }\n",
       "\n",
       "    .dataframe tbody tr th {\n",
       "        vertical-align: top;\n",
       "    }\n",
       "\n",
       "    .dataframe thead th {\n",
       "        text-align: right;\n",
       "    }\n",
       "</style>\n",
       "<table border=\"1\" class=\"dataframe\">\n",
       "  <thead>\n",
       "    <tr style=\"text-align: right;\">\n",
       "      <th></th>\n",
       "      <th>userId</th>\n",
       "      <th>movieId</th>\n",
       "      <th>rating</th>\n",
       "      <th>timestamp</th>\n",
       "      <th>title</th>\n",
       "      <th>genres</th>\n",
       "    </tr>\n",
       "  </thead>\n",
       "  <tbody>\n",
       "    <tr>\n",
       "      <th>0</th>\n",
       "      <td>1</td>\n",
       "      <td>1</td>\n",
       "      <td>4.0</td>\n",
       "      <td>2000-07-30</td>\n",
       "      <td>Toy Story</td>\n",
       "      <td>Adventure|Animation|Children|Comedy|Fantasy</td>\n",
       "    </tr>\n",
       "    <tr>\n",
       "      <th>1</th>\n",
       "      <td>5</td>\n",
       "      <td>1</td>\n",
       "      <td>4.0</td>\n",
       "      <td>1996-11-08</td>\n",
       "      <td>Toy Story</td>\n",
       "      <td>Adventure|Animation|Children|Comedy|Fantasy</td>\n",
       "    </tr>\n",
       "    <tr>\n",
       "      <th>2</th>\n",
       "      <td>7</td>\n",
       "      <td>1</td>\n",
       "      <td>4.5</td>\n",
       "      <td>2005-01-25</td>\n",
       "      <td>Toy Story</td>\n",
       "      <td>Adventure|Animation|Children|Comedy|Fantasy</td>\n",
       "    </tr>\n",
       "    <tr>\n",
       "      <th>3</th>\n",
       "      <td>15</td>\n",
       "      <td>1</td>\n",
       "      <td>2.5</td>\n",
       "      <td>2017-11-13</td>\n",
       "      <td>Toy Story</td>\n",
       "      <td>Adventure|Animation|Children|Comedy|Fantasy</td>\n",
       "    </tr>\n",
       "    <tr>\n",
       "      <th>4</th>\n",
       "      <td>17</td>\n",
       "      <td>1</td>\n",
       "      <td>4.5</td>\n",
       "      <td>2011-05-18</td>\n",
       "      <td>Toy Story</td>\n",
       "      <td>Adventure|Animation|Children|Comedy|Fantasy</td>\n",
       "    </tr>\n",
       "  </tbody>\n",
       "</table>\n",
       "</div>"
      ],
      "text/plain": [
       "   userId  movieId  rating  timestamp      title  \\\n",
       "0       1        1     4.0 2000-07-30  Toy Story   \n",
       "1       5        1     4.0 1996-11-08  Toy Story   \n",
       "2       7        1     4.5 2005-01-25  Toy Story   \n",
       "3      15        1     2.5 2017-11-13  Toy Story   \n",
       "4      17        1     4.5 2011-05-18  Toy Story   \n",
       "\n",
       "                                        genres  \n",
       "0  Adventure|Animation|Children|Comedy|Fantasy  \n",
       "1  Adventure|Animation|Children|Comedy|Fantasy  \n",
       "2  Adventure|Animation|Children|Comedy|Fantasy  \n",
       "3  Adventure|Animation|Children|Comedy|Fantasy  \n",
       "4  Adventure|Animation|Children|Comedy|Fantasy  "
      ]
     },
     "execution_count": 11,
     "metadata": {},
     "output_type": "execute_result"
    }
   ],
   "source": [
    "df.head()"
   ]
  },
  {
   "cell_type": "code",
   "execution_count": null,
   "id": "e922d81f",
   "metadata": {},
   "outputs": [],
   "source": []
  },
  {
   "cell_type": "code",
   "execution_count": 25,
   "id": "7ce1d9d2",
   "metadata": {},
   "outputs": [],
   "source": [
    "#df['movieId'].groupby(by = 2)\n",
    "filtered_df = df[df['movieId'] == 4]"
   ]
  },
  {
   "cell_type": "code",
   "execution_count": 27,
   "id": "00c7c81b",
   "metadata": {},
   "outputs": [
    {
     "data": {
      "text/html": [
       "<div>\n",
       "<style scoped>\n",
       "    .dataframe tbody tr th:only-of-type {\n",
       "        vertical-align: middle;\n",
       "    }\n",
       "\n",
       "    .dataframe tbody tr th {\n",
       "        vertical-align: top;\n",
       "    }\n",
       "\n",
       "    .dataframe thead th {\n",
       "        text-align: right;\n",
       "    }\n",
       "</style>\n",
       "<table border=\"1\" class=\"dataframe\">\n",
       "  <thead>\n",
       "    <tr style=\"text-align: right;\">\n",
       "      <th></th>\n",
       "      <th>userId</th>\n",
       "      <th>movieId</th>\n",
       "      <th>rating</th>\n",
       "      <th>timestamp</th>\n",
       "      <th>title</th>\n",
       "      <th>genres</th>\n",
       "    </tr>\n",
       "  </thead>\n",
       "  <tbody>\n",
       "    <tr>\n",
       "      <th>27260</th>\n",
       "      <td>6</td>\n",
       "      <td>4</td>\n",
       "      <td>3.0</td>\n",
       "      <td>1996-10-17</td>\n",
       "      <td>Waiting to Exhale</td>\n",
       "      <td>Comedy|Drama|Romance</td>\n",
       "    </tr>\n",
       "    <tr>\n",
       "      <th>27261</th>\n",
       "      <td>14</td>\n",
       "      <td>4</td>\n",
       "      <td>3.0</td>\n",
       "      <td>1996-06-22</td>\n",
       "      <td>Waiting to Exhale</td>\n",
       "      <td>Comedy|Drama|Romance</td>\n",
       "    </tr>\n",
       "    <tr>\n",
       "      <th>27262</th>\n",
       "      <td>84</td>\n",
       "      <td>4</td>\n",
       "      <td>3.0</td>\n",
       "      <td>1997-03-19</td>\n",
       "      <td>Waiting to Exhale</td>\n",
       "      <td>Comedy|Drama|Romance</td>\n",
       "    </tr>\n",
       "    <tr>\n",
       "      <th>27263</th>\n",
       "      <td>162</td>\n",
       "      <td>4</td>\n",
       "      <td>3.0</td>\n",
       "      <td>1996-07-06</td>\n",
       "      <td>Waiting to Exhale</td>\n",
       "      <td>Comedy|Drama|Romance</td>\n",
       "    </tr>\n",
       "    <tr>\n",
       "      <th>27264</th>\n",
       "      <td>262</td>\n",
       "      <td>4</td>\n",
       "      <td>1.0</td>\n",
       "      <td>1996-08-17</td>\n",
       "      <td>Waiting to Exhale</td>\n",
       "      <td>Comedy|Drama|Romance</td>\n",
       "    </tr>\n",
       "    <tr>\n",
       "      <th>27265</th>\n",
       "      <td>411</td>\n",
       "      <td>4</td>\n",
       "      <td>2.0</td>\n",
       "      <td>1996-06-23</td>\n",
       "      <td>Waiting to Exhale</td>\n",
       "      <td>Comedy|Drama|Romance</td>\n",
       "    </tr>\n",
       "    <tr>\n",
       "      <th>27266</th>\n",
       "      <td>600</td>\n",
       "      <td>4</td>\n",
       "      <td>1.5</td>\n",
       "      <td>2009-03-22</td>\n",
       "      <td>Waiting to Exhale</td>\n",
       "      <td>Comedy|Drama|Romance</td>\n",
       "    </tr>\n",
       "  </tbody>\n",
       "</table>\n",
       "</div>"
      ],
      "text/plain": [
       "       userId  movieId  rating  timestamp              title  \\\n",
       "27260       6        4     3.0 1996-10-17  Waiting to Exhale   \n",
       "27261      14        4     3.0 1996-06-22  Waiting to Exhale   \n",
       "27262      84        4     3.0 1997-03-19  Waiting to Exhale   \n",
       "27263     162        4     3.0 1996-07-06  Waiting to Exhale   \n",
       "27264     262        4     1.0 1996-08-17  Waiting to Exhale   \n",
       "27265     411        4     2.0 1996-06-23  Waiting to Exhale   \n",
       "27266     600        4     1.5 2009-03-22  Waiting to Exhale   \n",
       "\n",
       "                     genres  \n",
       "27260  Comedy|Drama|Romance  \n",
       "27261  Comedy|Drama|Romance  \n",
       "27262  Comedy|Drama|Romance  \n",
       "27263  Comedy|Drama|Romance  \n",
       "27264  Comedy|Drama|Romance  \n",
       "27265  Comedy|Drama|Romance  \n",
       "27266  Comedy|Drama|Romance  "
      ]
     },
     "execution_count": 27,
     "metadata": {},
     "output_type": "execute_result"
    }
   ],
   "source": [
    "filtered_df"
   ]
  },
  {
   "cell_type": "markdown",
   "id": "ac36814a",
   "metadata": {},
   "source": [
    "## So it seems like movieid and titles and genres are the same. well, well, well !! goodbye to complexity and hello to simplicity. lets remove these fancy meta datas and lets just keep movieid as our primary referrence."
   ]
  },
  {
   "cell_type": "code",
   "execution_count": null,
   "id": "03c3116f",
   "metadata": {},
   "outputs": [],
   "source": []
  },
  {
   "cell_type": "markdown",
   "id": "2066b1a6",
   "metadata": {},
   "source": [
    "# Wrong Approach"
   ]
  },
  {
   "cell_type": "code",
   "execution_count": null,
   "id": "f994a678",
   "metadata": {},
   "outputs": [],
   "source": [
    "# #df = df['genres'].str.get_dummies(sep='|')\n",
    "# df.head()\n",
    "\n",
    "# df_genres = df['genres'].str.get_dummies(sep='|')\n",
    "# df = pd.concat([df, df_genres], axis=1)\n",
    "\n",
    "# df3 = df.drop(['genres','(no genres listed)'], axis = 1)\n",
    "\n",
    "# shuffled_df = df3.sample(frac=1, random_state=42)\n",
    "\n",
    "# #shuffled_df1 = shuffled_df.drop(['timestamp', 'title'], axis = 1)\n",
    "# shuffled_df1 = shuffled_df.set_index('userId')\n",
    "\n",
    "# import seaborn as sns\n",
    "\n",
    "# shuffled_df1.info()"
   ]
  },
  {
   "cell_type": "code",
   "execution_count": null,
   "id": "d6bef0cd",
   "metadata": {},
   "outputs": [],
   "source": []
  },
  {
   "cell_type": "markdown",
   "id": "1a167861",
   "metadata": {},
   "source": [
    "# Train and Test Split"
   ]
  },
  {
   "cell_type": "code",
   "execution_count": 81,
   "id": "fb0f0605",
   "metadata": {},
   "outputs": [
    {
     "data": {
      "text/html": [
       "<div>\n",
       "<style scoped>\n",
       "    .dataframe tbody tr th:only-of-type {\n",
       "        vertical-align: middle;\n",
       "    }\n",
       "\n",
       "    .dataframe tbody tr th {\n",
       "        vertical-align: top;\n",
       "    }\n",
       "\n",
       "    .dataframe thead th {\n",
       "        text-align: right;\n",
       "    }\n",
       "</style>\n",
       "<table border=\"1\" class=\"dataframe\">\n",
       "  <thead>\n",
       "    <tr style=\"text-align: right;\">\n",
       "      <th></th>\n",
       "      <th>movieId</th>\n",
       "      <th>rating</th>\n",
       "      <th>timestamp</th>\n",
       "      <th>title</th>\n",
       "      <th>genres</th>\n",
       "    </tr>\n",
       "    <tr>\n",
       "      <th>userId</th>\n",
       "      <th></th>\n",
       "      <th></th>\n",
       "      <th></th>\n",
       "      <th></th>\n",
       "      <th></th>\n",
       "    </tr>\n",
       "  </thead>\n",
       "  <tbody>\n",
       "    <tr>\n",
       "      <th>1</th>\n",
       "      <td>1</td>\n",
       "      <td>4.0</td>\n",
       "      <td>2000-07-30</td>\n",
       "      <td>Toy Story</td>\n",
       "      <td>Adventure|Animation|Children|Comedy|Fantasy</td>\n",
       "    </tr>\n",
       "    <tr>\n",
       "      <th>5</th>\n",
       "      <td>1</td>\n",
       "      <td>4.0</td>\n",
       "      <td>1996-11-08</td>\n",
       "      <td>Toy Story</td>\n",
       "      <td>Adventure|Animation|Children|Comedy|Fantasy</td>\n",
       "    </tr>\n",
       "    <tr>\n",
       "      <th>7</th>\n",
       "      <td>1</td>\n",
       "      <td>4.5</td>\n",
       "      <td>2005-01-25</td>\n",
       "      <td>Toy Story</td>\n",
       "      <td>Adventure|Animation|Children|Comedy|Fantasy</td>\n",
       "    </tr>\n",
       "    <tr>\n",
       "      <th>15</th>\n",
       "      <td>1</td>\n",
       "      <td>2.5</td>\n",
       "      <td>2017-11-13</td>\n",
       "      <td>Toy Story</td>\n",
       "      <td>Adventure|Animation|Children|Comedy|Fantasy</td>\n",
       "    </tr>\n",
       "    <tr>\n",
       "      <th>17</th>\n",
       "      <td>1</td>\n",
       "      <td>4.5</td>\n",
       "      <td>2011-05-18</td>\n",
       "      <td>Toy Story</td>\n",
       "      <td>Adventure|Animation|Children|Comedy|Fantasy</td>\n",
       "    </tr>\n",
       "  </tbody>\n",
       "</table>\n",
       "</div>"
      ],
      "text/plain": [
       "        movieId  rating  timestamp      title  \\\n",
       "userId                                          \n",
       "1             1     4.0 2000-07-30  Toy Story   \n",
       "5             1     4.0 1996-11-08  Toy Story   \n",
       "7             1     4.5 2005-01-25  Toy Story   \n",
       "15            1     2.5 2017-11-13  Toy Story   \n",
       "17            1     4.5 2011-05-18  Toy Story   \n",
       "\n",
       "                                             genres  \n",
       "userId                                               \n",
       "1       Adventure|Animation|Children|Comedy|Fantasy  \n",
       "5       Adventure|Animation|Children|Comedy|Fantasy  \n",
       "7       Adventure|Animation|Children|Comedy|Fantasy  \n",
       "15      Adventure|Animation|Children|Comedy|Fantasy  \n",
       "17      Adventure|Animation|Children|Comedy|Fantasy  "
      ]
     },
     "execution_count": 81,
     "metadata": {},
     "output_type": "execute_result"
    }
   ],
   "source": [
    "df.head()"
   ]
  },
  {
   "cell_type": "code",
   "execution_count": 80,
   "id": "d3c510a0",
   "metadata": {},
   "outputs": [],
   "source": [
    "df = df.set_index('userId')"
   ]
  },
  {
   "cell_type": "markdown",
   "id": "87e71f47",
   "metadata": {},
   "source": [
    "Choosing 42 as the random seed is a convention in the programming community, inspired by \"The Hitchhiker's Guide to the Galaxy\" by Douglas Adams. In the book, the number 42 is humorously suggested as the \"Answer to the Ultimate Question of Life, the Universe, and Everything.\""
   ]
  },
  {
   "cell_type": "code",
   "execution_count": 29,
   "id": "cb4c4cf0",
   "metadata": {},
   "outputs": [],
   "source": [
    "from sklearn.model_selection import train_test_split"
   ]
  },
  {
   "cell_type": "code",
   "execution_count": 82,
   "id": "136eed74",
   "metadata": {},
   "outputs": [],
   "source": [
    "x, y = df.drop(['rating','genres','timestamp'], axis = 1), df['rating']\n",
    "x_train, x_test, y_train, y_test = train_test_split(x, y, \n",
    "                                                    test_size = 0.3,\n",
    "                                                    shuffle = True,\n",
    "                                                    random_state = 42)"
   ]
  },
  {
   "cell_type": "code",
   "execution_count": 87,
   "id": "43d2f3ef",
   "metadata": {},
   "outputs": [
    {
     "data": {
      "text/html": [
       "<div>\n",
       "<style scoped>\n",
       "    .dataframe tbody tr th:only-of-type {\n",
       "        vertical-align: middle;\n",
       "    }\n",
       "\n",
       "    .dataframe tbody tr th {\n",
       "        vertical-align: top;\n",
       "    }\n",
       "\n",
       "    .dataframe thead th {\n",
       "        text-align: right;\n",
       "    }\n",
       "</style>\n",
       "<table border=\"1\" class=\"dataframe\">\n",
       "  <thead>\n",
       "    <tr style=\"text-align: right;\">\n",
       "      <th></th>\n",
       "      <th>movieId</th>\n",
       "      <th>title</th>\n",
       "    </tr>\n",
       "    <tr>\n",
       "      <th>userId</th>\n",
       "      <th></th>\n",
       "      <th></th>\n",
       "    </tr>\n",
       "  </thead>\n",
       "  <tbody>\n",
       "    <tr>\n",
       "      <th>488</th>\n",
       "      <td>168</td>\n",
       "      <td>First Knight</td>\n",
       "    </tr>\n",
       "    <tr>\n",
       "      <th>129</th>\n",
       "      <td>4308</td>\n",
       "      <td>Moulin Rouge</td>\n",
       "    </tr>\n",
       "    <tr>\n",
       "      <th>489</th>\n",
       "      <td>2690</td>\n",
       "      <td>Ideal Husband, An</td>\n",
       "    </tr>\n",
       "    <tr>\n",
       "      <th>509</th>\n",
       "      <td>8861</td>\n",
       "      <td>Resident Evil: Apocalypse</td>\n",
       "    </tr>\n",
       "    <tr>\n",
       "      <th>200</th>\n",
       "      <td>2012</td>\n",
       "      <td>Back to the Future Part III</td>\n",
       "    </tr>\n",
       "  </tbody>\n",
       "</table>\n",
       "</div>"
      ],
      "text/plain": [
       "        movieId                        title\n",
       "userId                                      \n",
       "488         168                 First Knight\n",
       "129        4308                 Moulin Rouge\n",
       "489        2690            Ideal Husband, An\n",
       "509        8861    Resident Evil: Apocalypse\n",
       "200        2012  Back to the Future Part III"
      ]
     },
     "execution_count": 87,
     "metadata": {},
     "output_type": "execute_result"
    }
   ],
   "source": [
    "x_train.head()"
   ]
  },
  {
   "cell_type": "markdown",
   "id": "b291890b",
   "metadata": {},
   "source": [
    "# Model building"
   ]
  },
  {
   "cell_type": "code",
   "execution_count": 42,
   "id": "daeba585",
   "metadata": {},
   "outputs": [],
   "source": [
    "from sklearn.metrics.pairwise import cosine_similarity\n"
   ]
  },
  {
   "cell_type": "code",
   "execution_count": null,
   "id": "f67fffb2",
   "metadata": {},
   "outputs": [],
   "source": [
    "\n",
    "# from sklearn.decomposition import PCA\n",
    "# from sklearn.preprocessing import StandardScaler\n",
    "\n",
    "# scaler = StandardScaler()\n",
    "# df_scaled = scaler.fit_transform(df_pca)\n",
    "# pca = PCA()\n",
    "# pca.fit(df_scaled)\n",
    "# principal_components = pca.transform(df_scaled)\n",
    "# explained_variance_ratio = pca.explained_variance_ratio_\n",
    "# explained_variance_ratio\n",
    "# df_pca = x_train.drop('movieId', axis = 1)\n",
    "\n",
    "\n",
    "\n"
   ]
  },
  {
   "cell_type": "code",
   "execution_count": 47,
   "id": "8aaf1aa5",
   "metadata": {},
   "outputs": [],
   "source": [
    "x_train_sample = x_train.sample(10)"
   ]
  },
  {
   "cell_type": "code",
   "execution_count": null,
   "id": "df8ec89f",
   "metadata": {},
   "outputs": [],
   "source": []
  },
  {
   "cell_type": "code",
   "execution_count": 63,
   "id": "2e0d48a8",
   "metadata": {},
   "outputs": [],
   "source": [
    "#similarity_matrix = cosine_similarity(x_train)"
   ]
  },
  {
   "cell_type": "markdown",
   "id": "c6c5159d",
   "metadata": {},
   "source": [
    "## Alright, buckle up for some data fun!\n",
    "\n",
    "- Imagine you're dealing with a massive dataset of 7000 points, and you want to compute cosine similarity. But oh no, it's like trying to fit an elephant into a clown car – it just won't work!\n",
    "- But fear not, my friend! There's a clever trick to tackle this challenge. First, we create a pivot table, which is like transforming your data into a fancy table where movies become rows and genres become columns. It's like giving your dataset a snazzy makeover!\n",
    "- Next, we convert this pivot table into a sparse matrix. Think of it as a special diet for your data – it cuts down on memory munching by storing only the important stuff (non-zero values). Say goodbye to excess baggage!\n",
    "- Now, armed with this compact and efficient sparse matrix, we unleash the power of cosine similarity. It's like finding soulmates for your movies based on their genre vibes. Cosine similarity swoops in and computes how closely related the movies are, making recommendations a piece of cake!\n",
    "- To sum it up, pivot tables and sparse matrices are your secret weapons for taming large datasets and rocking cosine similarity. 🎥🚀"
   ]
  },
  {
   "cell_type": "code",
   "execution_count": 85,
   "id": "f31c9f0c",
   "metadata": {},
   "outputs": [],
   "source": [
    "from scipy.sparse import csr_matrix"
   ]
  },
  {
   "cell_type": "code",
   "execution_count": 86,
   "id": "e59621dc",
   "metadata": {},
   "outputs": [
    {
     "ename": "KeyError",
     "evalue": "'rating'",
     "output_type": "error",
     "traceback": [
      "\u001b[1;31m---------------------------------------------------------------------------\u001b[0m",
      "\u001b[1;31mKeyError\u001b[0m                                  Traceback (most recent call last)",
      "Input \u001b[1;32mIn [86]\u001b[0m, in \u001b[0;36m<cell line: 1>\u001b[1;34m()\u001b[0m\n\u001b[1;32m----> 1\u001b[0m pivot_table \u001b[38;5;241m=\u001b[39m \u001b[43mpd\u001b[49m\u001b[38;5;241;43m.\u001b[39;49m\u001b[43mpivot_table\u001b[49m\u001b[43m(\u001b[49m\u001b[43mx_train\u001b[49m\u001b[43m,\u001b[49m\u001b[43m \u001b[49m\u001b[43mvalues\u001b[49m\u001b[38;5;241;43m=\u001b[39;49m\u001b[38;5;124;43m'\u001b[39;49m\u001b[38;5;124;43mrating\u001b[39;49m\u001b[38;5;124;43m'\u001b[39;49m\u001b[43m,\u001b[49m\u001b[43m \u001b[49m\u001b[43mindex\u001b[49m\u001b[38;5;241;43m=\u001b[39;49m\u001b[38;5;124;43m'\u001b[39;49m\u001b[38;5;124;43muserId\u001b[39;49m\u001b[38;5;124;43m'\u001b[39;49m\u001b[43m,\u001b[49m\u001b[43m \u001b[49m\u001b[43mcolumns\u001b[49m\u001b[38;5;241;43m=\u001b[39;49m\u001b[38;5;124;43m'\u001b[39;49m\u001b[38;5;124;43mtitle\u001b[39;49m\u001b[38;5;124;43m'\u001b[39;49m\u001b[43m,\u001b[49m\u001b[43m \u001b[49m\u001b[43mfill_value\u001b[49m\u001b[38;5;241;43m=\u001b[39;49m\u001b[38;5;241;43m0\u001b[39;49m\u001b[43m)\u001b[49m\n\u001b[0;32m      2\u001b[0m \u001b[38;5;28mprint\u001b[39m(pivot_table)\n",
      "File \u001b[1;32mD:\\Data_Analysis\\Data-analysis-learning\\Python\\lib\\site-packages\\pandas\\core\\reshape\\pivot.py:95\u001b[0m, in \u001b[0;36mpivot_table\u001b[1;34m(data, values, index, columns, aggfunc, fill_value, margins, dropna, margins_name, observed, sort)\u001b[0m\n\u001b[0;32m     92\u001b[0m     table \u001b[38;5;241m=\u001b[39m concat(pieces, keys\u001b[38;5;241m=\u001b[39mkeys, axis\u001b[38;5;241m=\u001b[39m\u001b[38;5;241m1\u001b[39m)\n\u001b[0;32m     93\u001b[0m     \u001b[38;5;28;01mreturn\u001b[39;00m table\u001b[38;5;241m.\u001b[39m__finalize__(data, method\u001b[38;5;241m=\u001b[39m\u001b[38;5;124m\"\u001b[39m\u001b[38;5;124mpivot_table\u001b[39m\u001b[38;5;124m\"\u001b[39m)\n\u001b[1;32m---> 95\u001b[0m table \u001b[38;5;241m=\u001b[39m \u001b[43m__internal_pivot_table\u001b[49m\u001b[43m(\u001b[49m\n\u001b[0;32m     96\u001b[0m \u001b[43m    \u001b[49m\u001b[43mdata\u001b[49m\u001b[43m,\u001b[49m\n\u001b[0;32m     97\u001b[0m \u001b[43m    \u001b[49m\u001b[43mvalues\u001b[49m\u001b[43m,\u001b[49m\n\u001b[0;32m     98\u001b[0m \u001b[43m    \u001b[49m\u001b[43mindex\u001b[49m\u001b[43m,\u001b[49m\n\u001b[0;32m     99\u001b[0m \u001b[43m    \u001b[49m\u001b[43mcolumns\u001b[49m\u001b[43m,\u001b[49m\n\u001b[0;32m    100\u001b[0m \u001b[43m    \u001b[49m\u001b[43maggfunc\u001b[49m\u001b[43m,\u001b[49m\n\u001b[0;32m    101\u001b[0m \u001b[43m    \u001b[49m\u001b[43mfill_value\u001b[49m\u001b[43m,\u001b[49m\n\u001b[0;32m    102\u001b[0m \u001b[43m    \u001b[49m\u001b[43mmargins\u001b[49m\u001b[43m,\u001b[49m\n\u001b[0;32m    103\u001b[0m \u001b[43m    \u001b[49m\u001b[43mdropna\u001b[49m\u001b[43m,\u001b[49m\n\u001b[0;32m    104\u001b[0m \u001b[43m    \u001b[49m\u001b[43mmargins_name\u001b[49m\u001b[43m,\u001b[49m\n\u001b[0;32m    105\u001b[0m \u001b[43m    \u001b[49m\u001b[43mobserved\u001b[49m\u001b[43m,\u001b[49m\n\u001b[0;32m    106\u001b[0m \u001b[43m    \u001b[49m\u001b[43msort\u001b[49m\u001b[43m,\u001b[49m\n\u001b[0;32m    107\u001b[0m \u001b[43m\u001b[49m\u001b[43m)\u001b[49m\n\u001b[0;32m    108\u001b[0m \u001b[38;5;28;01mreturn\u001b[39;00m table\u001b[38;5;241m.\u001b[39m__finalize__(data, method\u001b[38;5;241m=\u001b[39m\u001b[38;5;124m\"\u001b[39m\u001b[38;5;124mpivot_table\u001b[39m\u001b[38;5;124m\"\u001b[39m)\n",
      "File \u001b[1;32mD:\\Data_Analysis\\Data-analysis-learning\\Python\\lib\\site-packages\\pandas\\core\\reshape\\pivot.py:141\u001b[0m, in \u001b[0;36m__internal_pivot_table\u001b[1;34m(data, values, index, columns, aggfunc, fill_value, margins, dropna, margins_name, observed, sort)\u001b[0m\n\u001b[0;32m    139\u001b[0m \u001b[38;5;28;01mfor\u001b[39;00m i \u001b[38;5;129;01min\u001b[39;00m values:\n\u001b[0;32m    140\u001b[0m     \u001b[38;5;28;01mif\u001b[39;00m i \u001b[38;5;129;01mnot\u001b[39;00m \u001b[38;5;129;01min\u001b[39;00m data:\n\u001b[1;32m--> 141\u001b[0m         \u001b[38;5;28;01mraise\u001b[39;00m \u001b[38;5;167;01mKeyError\u001b[39;00m(i)\n\u001b[0;32m    143\u001b[0m to_filter \u001b[38;5;241m=\u001b[39m []\n\u001b[0;32m    144\u001b[0m \u001b[38;5;28;01mfor\u001b[39;00m x \u001b[38;5;129;01min\u001b[39;00m keys \u001b[38;5;241m+\u001b[39m values:\n",
      "\u001b[1;31mKeyError\u001b[0m: 'rating'"
     ]
    }
   ],
   "source": [
    "pivot_table = pd.pivot_table(x_train, values='ratings', index='userId', columns='title', fill_value=0)\n",
    "print(pivot_table)"
   ]
  },
  {
   "cell_type": "code",
   "execution_count": null,
   "id": "1b221f66",
   "metadata": {},
   "outputs": [],
   "source": [
    "# Create a DataFrame from the similarity matrix\n",
    "similarity_df = pd.DataFrame(similarity_matrix, index=x_train.index, columns=x_train.index)"
   ]
  },
  {
   "cell_type": "code",
   "execution_count": null,
   "id": "316c2564",
   "metadata": {},
   "outputs": [],
   "source": [
    "# Function to get top k similar users for a given user\n",
    "def get_similar_users(user_id, k=5):\n",
    "    similar_users = similarity_df.loc[user_id].nlargest(k+1).index[1:]\n",
    "    return similar_users"
   ]
  },
  {
   "cell_type": "code",
   "execution_count": null,
   "id": "42d5a60f",
   "metadata": {},
   "outputs": [],
   "source": [
    "# Function to predict ratings for a given user and item\n",
    "def predict_rating(user_id, movie_id, k=5):\n",
    "    similar_users = get_similar_users(user_id, k)\n",
    "    ratings = []\n",
    "    \n",
    "    for user in similar_users:\n",
    "        rating = x_train.loc[user, movie_id]\n",
    "        ratings.append(rating)\n",
    "    \n",
    "    predicted_rating = np.mean(ratings)\n",
    "    return predicted_rating"
   ]
  },
  {
   "cell_type": "code",
   "execution_count": null,
   "id": "1e34c191",
   "metadata": {},
   "outputs": [],
   "source": [
    "# Predict ratings for x_test\n",
    "predicted_ratings = []\n",
    "\n",
    "for i, row in x_test.iterrows():\n",
    "    user_id = row['userId']\n",
    "    movie_id = row['movieId']\n",
    "    predicted_rating = predict_rating(user_id, movie_id, k=5)\n",
    "    predicted_ratings.append(predicted_rating)\n",
    "\n",
    "# Convert the predicted ratings to a numpy array\n",
    "predicted_ratings = np.array(predicted_ratings)"
   ]
  },
  {
   "cell_type": "code",
   "execution_count": null,
   "id": "bb568746",
   "metadata": {},
   "outputs": [],
   "source": []
  },
  {
   "cell_type": "code",
   "execution_count": null,
   "id": "e3908dde",
   "metadata": {},
   "outputs": [],
   "source": []
  },
  {
   "cell_type": "markdown",
   "id": "2678aaea",
   "metadata": {},
   "source": [
    "initialize object and do a fit operation"
   ]
  },
  {
   "cell_type": "code",
   "execution_count": null,
   "id": "9f02a533",
   "metadata": {},
   "outputs": [],
   "source": [
    "import pandas as pd\n",
    "import numpy as np\n",
    "from sklearn.model_selection import train_test_split\n",
    "from sklearn.metrics.pairwise import cosine_similarity\n",
    "from sklearn.decomposition import PCA\n",
    "from sklearn.preprocessing import StandardScaler"
   ]
  },
  {
   "cell_type": "code",
   "execution_count": null,
   "id": "fb251867",
   "metadata": {},
   "outputs": [],
   "source": [
    "# Drop the necessary features from the dataset\n",
    "x, y = df.drop(['rating','title','genres','timestamp'], axis = 1), df['rating']\n"
   ]
  },
  {
   "cell_type": "code",
   "execution_count": null,
   "id": "d7dedd0c",
   "metadata": {},
   "outputs": [],
   "source": [
    "# Split the data into training and test sets\n",
    "x_train, x_test, y_train, y_test = train_test_split(x, y, \n",
    "                                                    test_size = 0.3,\n",
    "                                                    shuffle = True,\n",
    "                                                    random_state = 42)"
   ]
  },
  {
   "cell_type": "code",
   "execution_count": null,
   "id": "4f9db0a0",
   "metadata": {},
   "outputs": [],
   "source": [
    "# Perform standardization on the features\n",
    "scaler = StandardScaler()\n",
    "x_train_scaled = scaler.fit_transform(x_train)"
   ]
  },
  {
   "cell_type": "code",
   "execution_count": null,
   "id": "907e8bbc",
   "metadata": {},
   "outputs": [],
   "source": [
    "# # Perform PCA on the standardized features\n",
    "# pca = PCA()\n",
    "# principal_components = pca.fit_transform(x_train_scaled)\n",
    "# explained_variance_ratio = pca.explained_variance_ratio_\n",
    "\n",
    "# principal_components_with_columns = pd.DataFrame(data=principal_components, index=x_train.index)\n",
    "# principal_components_with_columns\n",
    "\n",
    "# Add the dropped columns back to the principal components\n",
    "# principal_components_with_columns = pd.DataFrame(data=principal_components, index=x_train.index)\n",
    "# principal_components_with_columns = pd.concat([principal_components_with_columns, x_train[drop_columns]], axis=1)"
   ]
  },
  {
   "cell_type": "code",
   "execution_count": null,
   "id": "b4e00b61",
   "metadata": {},
   "outputs": [],
   "source": [
    "# Calculate the cosine similarity matrix\n",
    "similarity_matrix = cosine_similarity(principal_components_with_columns)"
   ]
  },
  {
   "cell_type": "code",
   "execution_count": null,
   "id": "b9e50b07",
   "metadata": {},
   "outputs": [],
   "source": [
    "\n",
    "\n",
    "# Create a DataFrame from the similarity matrix\n",
    "similarity_df = pd.DataFrame(similarity_matrix, index=x_train.index, columns=x_train.index)\n",
    "\n",
    "# Function to get top k similar users for a given user\n",
    "def get_similar_users(user_id, k=5):\n",
    "    similar_users = similarity_df.loc[user_id].nlargest(k+1).index[1:]\n",
    "    return similar_users\n",
    "\n",
    "# Function to predict ratings for a given user and item\n",
    "def predict_rating(user_id, movie_id, k=5):\n",
    "    similar_users = get_similar_users(user_id, k)\n",
    "    ratings = []\n",
    "\n",
    "    for user in similar_users:\n",
    "        rating = x_train.loc[user, movie_id]\n",
    "        ratings.append(rating)\n",
    "\n",
    "    predicted_rating = np.mean(ratings)\n",
    "    return predicted_rating\n",
    "\n",
    "# Predict ratings for x_test\n",
    "predicted_ratings = []\n",
    "\n",
    "for i, row in x_test.iterrows():\n",
    "    user_id = row['userId']\n",
    "    movie_id = row['movieId']\n",
    "    predicted_rating = predict_rating(user_id, movie_id, k=5)\n",
    "    predicted_ratings.append(predicted_rating)\n",
    "\n",
    "# Convert the predicted ratings to a numpy array\n",
    "predicted_ratings = np.array(predicted_ratings)\n"
   ]
  },
  {
   "cell_type": "code",
   "execution_count": null,
   "id": "dfd53309",
   "metadata": {},
   "outputs": [],
   "source": []
  },
  {
   "cell_type": "markdown",
   "id": "647d5585",
   "metadata": {},
   "source": [
    "# 3rd Approach"
   ]
  },
  {
   "cell_type": "code",
   "execution_count": 88,
   "id": "215795de",
   "metadata": {},
   "outputs": [],
   "source": [
    "import numpy as np\n",
    "from sklearn.model_selection import train_test_split\n",
    "from sklearn.linear_model import LinearRegression\n",
    "from sklearn.metrics.pairwise import cosine_similarity\n",
    "from scipy.sparse import csr_matrix"
   ]
  },
  {
   "cell_type": "code",
   "execution_count": 96,
   "id": "61c7d71a",
   "metadata": {},
   "outputs": [
    {
     "data": {
      "text/html": [
       "<div>\n",
       "<style scoped>\n",
       "    .dataframe tbody tr th:only-of-type {\n",
       "        vertical-align: middle;\n",
       "    }\n",
       "\n",
       "    .dataframe tbody tr th {\n",
       "        vertical-align: top;\n",
       "    }\n",
       "\n",
       "    .dataframe thead th {\n",
       "        text-align: right;\n",
       "    }\n",
       "</style>\n",
       "<table border=\"1\" class=\"dataframe\">\n",
       "  <thead>\n",
       "    <tr style=\"text-align: right;\">\n",
       "      <th></th>\n",
       "      <th>userId</th>\n",
       "      <th>movieId</th>\n",
       "      <th>rating</th>\n",
       "      <th>timestamp</th>\n",
       "      <th>title</th>\n",
       "      <th>genres</th>\n",
       "    </tr>\n",
       "  </thead>\n",
       "  <tbody>\n",
       "    <tr>\n",
       "      <th>0</th>\n",
       "      <td>1</td>\n",
       "      <td>1</td>\n",
       "      <td>4.0</td>\n",
       "      <td>964982703</td>\n",
       "      <td>Toy Story (1995)</td>\n",
       "      <td>Adventure|Animation|Children|Comedy|Fantasy</td>\n",
       "    </tr>\n",
       "    <tr>\n",
       "      <th>1</th>\n",
       "      <td>5</td>\n",
       "      <td>1</td>\n",
       "      <td>4.0</td>\n",
       "      <td>847434962</td>\n",
       "      <td>Toy Story (1995)</td>\n",
       "      <td>Adventure|Animation|Children|Comedy|Fantasy</td>\n",
       "    </tr>\n",
       "    <tr>\n",
       "      <th>2</th>\n",
       "      <td>7</td>\n",
       "      <td>1</td>\n",
       "      <td>4.5</td>\n",
       "      <td>1106635946</td>\n",
       "      <td>Toy Story (1995)</td>\n",
       "      <td>Adventure|Animation|Children|Comedy|Fantasy</td>\n",
       "    </tr>\n",
       "    <tr>\n",
       "      <th>3</th>\n",
       "      <td>15</td>\n",
       "      <td>1</td>\n",
       "      <td>2.5</td>\n",
       "      <td>1510577970</td>\n",
       "      <td>Toy Story (1995)</td>\n",
       "      <td>Adventure|Animation|Children|Comedy|Fantasy</td>\n",
       "    </tr>\n",
       "    <tr>\n",
       "      <th>4</th>\n",
       "      <td>17</td>\n",
       "      <td>1</td>\n",
       "      <td>4.5</td>\n",
       "      <td>1305696483</td>\n",
       "      <td>Toy Story (1995)</td>\n",
       "      <td>Adventure|Animation|Children|Comedy|Fantasy</td>\n",
       "    </tr>\n",
       "    <tr>\n",
       "      <th>...</th>\n",
       "      <td>...</td>\n",
       "      <td>...</td>\n",
       "      <td>...</td>\n",
       "      <td>...</td>\n",
       "      <td>...</td>\n",
       "      <td>...</td>\n",
       "    </tr>\n",
       "    <tr>\n",
       "      <th>100831</th>\n",
       "      <td>610</td>\n",
       "      <td>160341</td>\n",
       "      <td>2.5</td>\n",
       "      <td>1479545749</td>\n",
       "      <td>Bloodmoon (1997)</td>\n",
       "      <td>Action|Thriller</td>\n",
       "    </tr>\n",
       "    <tr>\n",
       "      <th>100832</th>\n",
       "      <td>610</td>\n",
       "      <td>160527</td>\n",
       "      <td>4.5</td>\n",
       "      <td>1479544998</td>\n",
       "      <td>Sympathy for the Underdog (1971)</td>\n",
       "      <td>Action|Crime|Drama</td>\n",
       "    </tr>\n",
       "    <tr>\n",
       "      <th>100833</th>\n",
       "      <td>610</td>\n",
       "      <td>160836</td>\n",
       "      <td>3.0</td>\n",
       "      <td>1493844794</td>\n",
       "      <td>Hazard (2005)</td>\n",
       "      <td>Action|Drama|Thriller</td>\n",
       "    </tr>\n",
       "    <tr>\n",
       "      <th>100834</th>\n",
       "      <td>610</td>\n",
       "      <td>163937</td>\n",
       "      <td>3.5</td>\n",
       "      <td>1493848789</td>\n",
       "      <td>Blair Witch (2016)</td>\n",
       "      <td>Horror|Thriller</td>\n",
       "    </tr>\n",
       "    <tr>\n",
       "      <th>100835</th>\n",
       "      <td>610</td>\n",
       "      <td>163981</td>\n",
       "      <td>3.5</td>\n",
       "      <td>1493850155</td>\n",
       "      <td>31 (2016)</td>\n",
       "      <td>Horror</td>\n",
       "    </tr>\n",
       "  </tbody>\n",
       "</table>\n",
       "<p>100836 rows × 6 columns</p>\n",
       "</div>"
      ],
      "text/plain": [
       "        userId  movieId  rating   timestamp                             title  \\\n",
       "0            1        1     4.0   964982703                  Toy Story (1995)   \n",
       "1            5        1     4.0   847434962                  Toy Story (1995)   \n",
       "2            7        1     4.5  1106635946                  Toy Story (1995)   \n",
       "3           15        1     2.5  1510577970                  Toy Story (1995)   \n",
       "4           17        1     4.5  1305696483                  Toy Story (1995)   \n",
       "...        ...      ...     ...         ...                               ...   \n",
       "100831     610   160341     2.5  1479545749                  Bloodmoon (1997)   \n",
       "100832     610   160527     4.5  1479544998  Sympathy for the Underdog (1971)   \n",
       "100833     610   160836     3.0  1493844794                     Hazard (2005)   \n",
       "100834     610   163937     3.5  1493848789                Blair Witch (2016)   \n",
       "100835     610   163981     3.5  1493850155                         31 (2016)   \n",
       "\n",
       "                                             genres  \n",
       "0       Adventure|Animation|Children|Comedy|Fantasy  \n",
       "1       Adventure|Animation|Children|Comedy|Fantasy  \n",
       "2       Adventure|Animation|Children|Comedy|Fantasy  \n",
       "3       Adventure|Animation|Children|Comedy|Fantasy  \n",
       "4       Adventure|Animation|Children|Comedy|Fantasy  \n",
       "...                                             ...  \n",
       "100831                              Action|Thriller  \n",
       "100832                           Action|Crime|Drama  \n",
       "100833                        Action|Drama|Thriller  \n",
       "100834                              Horror|Thriller  \n",
       "100835                                       Horror  \n",
       "\n",
       "[100836 rows x 6 columns]"
      ]
     },
     "execution_count": 96,
     "metadata": {},
     "output_type": "execute_result"
    }
   ],
   "source": [
    "df"
   ]
  },
  {
   "cell_type": "code",
   "execution_count": 99,
   "id": "db065a8d",
   "metadata": {},
   "outputs": [],
   "source": [
    "# Sample user-item ratings matrix\n",
    "user_item_matrix = df.pivot(index='userId', columns='movieId', values='rating').fillna(0)\n",
    "user_item_matirx = ratings.astype(np.float32)"
   ]
  },
  {
   "cell_type": "code",
   "execution_count": 115,
   "id": "b65d4da6",
   "metadata": {},
   "outputs": [],
   "source": [
    "#user_item_matrix.values"
   ]
  },
  {
   "cell_type": "code",
   "execution_count": 102,
   "id": "fb2b931f",
   "metadata": {},
   "outputs": [],
   "source": [
    "# Convert the user-item ratings matrix to a sparse matrix\n",
    "sparse_matrix = csr_matrix(user_item_matrix.values)"
   ]
  },
  {
   "cell_type": "code",
   "execution_count": 114,
   "id": "b6960ece",
   "metadata": {},
   "outputs": [],
   "source": [
    "#print(sparse_matrix)"
   ]
  },
  {
   "cell_type": "code",
   "execution_count": 107,
   "id": "d5772caf",
   "metadata": {},
   "outputs": [],
   "source": [
    "# Compute the cosine similarity between items\n",
    "item_similarities = cosine_similarity(sparse_matrix.T)"
   ]
  },
  {
   "cell_type": "code",
   "execution_count": 116,
   "id": "caa97466",
   "metadata": {},
   "outputs": [],
   "source": [
    "#item_similarities"
   ]
  },
  {
   "cell_type": "code",
   "execution_count": 111,
   "id": "91b8ab0b",
   "metadata": {},
   "outputs": [],
   "source": [
    "# Split the data into training and testing sets\n",
    "x_train, x_test, y_train, y_test = train_test_split(df[['userId', 'movieId']].values, df['rating'].values, test_size=0.2, random_state=42)"
   ]
  },
  {
   "cell_type": "code",
   "execution_count": 112,
   "id": "324a0c4b",
   "metadata": {},
   "outputs": [
    {
     "data": {
      "text/html": [
       "<style>#sk-container-id-1 {color: black;background-color: white;}#sk-container-id-1 pre{padding: 0;}#sk-container-id-1 div.sk-toggleable {background-color: white;}#sk-container-id-1 label.sk-toggleable__label {cursor: pointer;display: block;width: 100%;margin-bottom: 0;padding: 0.3em;box-sizing: border-box;text-align: center;}#sk-container-id-1 label.sk-toggleable__label-arrow:before {content: \"▸\";float: left;margin-right: 0.25em;color: #696969;}#sk-container-id-1 label.sk-toggleable__label-arrow:hover:before {color: black;}#sk-container-id-1 div.sk-estimator:hover label.sk-toggleable__label-arrow:before {color: black;}#sk-container-id-1 div.sk-toggleable__content {max-height: 0;max-width: 0;overflow: hidden;text-align: left;background-color: #f0f8ff;}#sk-container-id-1 div.sk-toggleable__content pre {margin: 0.2em;color: black;border-radius: 0.25em;background-color: #f0f8ff;}#sk-container-id-1 input.sk-toggleable__control:checked~div.sk-toggleable__content {max-height: 200px;max-width: 100%;overflow: auto;}#sk-container-id-1 input.sk-toggleable__control:checked~label.sk-toggleable__label-arrow:before {content: \"▾\";}#sk-container-id-1 div.sk-estimator input.sk-toggleable__control:checked~label.sk-toggleable__label {background-color: #d4ebff;}#sk-container-id-1 div.sk-label input.sk-toggleable__control:checked~label.sk-toggleable__label {background-color: #d4ebff;}#sk-container-id-1 input.sk-hidden--visually {border: 0;clip: rect(1px 1px 1px 1px);clip: rect(1px, 1px, 1px, 1px);height: 1px;margin: -1px;overflow: hidden;padding: 0;position: absolute;width: 1px;}#sk-container-id-1 div.sk-estimator {font-family: monospace;background-color: #f0f8ff;border: 1px dotted black;border-radius: 0.25em;box-sizing: border-box;margin-bottom: 0.5em;}#sk-container-id-1 div.sk-estimator:hover {background-color: #d4ebff;}#sk-container-id-1 div.sk-parallel-item::after {content: \"\";width: 100%;border-bottom: 1px solid gray;flex-grow: 1;}#sk-container-id-1 div.sk-label:hover label.sk-toggleable__label {background-color: #d4ebff;}#sk-container-id-1 div.sk-serial::before {content: \"\";position: absolute;border-left: 1px solid gray;box-sizing: border-box;top: 0;bottom: 0;left: 50%;z-index: 0;}#sk-container-id-1 div.sk-serial {display: flex;flex-direction: column;align-items: center;background-color: white;padding-right: 0.2em;padding-left: 0.2em;position: relative;}#sk-container-id-1 div.sk-item {position: relative;z-index: 1;}#sk-container-id-1 div.sk-parallel {display: flex;align-items: stretch;justify-content: center;background-color: white;position: relative;}#sk-container-id-1 div.sk-item::before, #sk-container-id-1 div.sk-parallel-item::before {content: \"\";position: absolute;border-left: 1px solid gray;box-sizing: border-box;top: 0;bottom: 0;left: 50%;z-index: -1;}#sk-container-id-1 div.sk-parallel-item {display: flex;flex-direction: column;z-index: 1;position: relative;background-color: white;}#sk-container-id-1 div.sk-parallel-item:first-child::after {align-self: flex-end;width: 50%;}#sk-container-id-1 div.sk-parallel-item:last-child::after {align-self: flex-start;width: 50%;}#sk-container-id-1 div.sk-parallel-item:only-child::after {width: 0;}#sk-container-id-1 div.sk-dashed-wrapped {border: 1px dashed gray;margin: 0 0.4em 0.5em 0.4em;box-sizing: border-box;padding-bottom: 0.4em;background-color: white;}#sk-container-id-1 div.sk-label label {font-family: monospace;font-weight: bold;display: inline-block;line-height: 1.2em;}#sk-container-id-1 div.sk-label-container {text-align: center;}#sk-container-id-1 div.sk-container {/* jupyter's `normalize.less` sets `[hidden] { display: none; }` but bootstrap.min.css set `[hidden] { display: none !important; }` so we also need the `!important` here to be able to override the default hidden behavior on the sphinx rendered scikit-learn.org. See: https://github.com/scikit-learn/scikit-learn/issues/21755 */display: inline-block !important;position: relative;}#sk-container-id-1 div.sk-text-repr-fallback {display: none;}</style><div id=\"sk-container-id-1\" class=\"sk-top-container\"><div class=\"sk-text-repr-fallback\"><pre>LinearRegression()</pre><b>In a Jupyter environment, please rerun this cell to show the HTML representation or trust the notebook. <br />On GitHub, the HTML representation is unable to render, please try loading this page with nbviewer.org.</b></div><div class=\"sk-container\" hidden><div class=\"sk-item\"><div class=\"sk-estimator sk-toggleable\"><input class=\"sk-toggleable__control sk-hidden--visually\" id=\"sk-estimator-id-1\" type=\"checkbox\" checked><label for=\"sk-estimator-id-1\" class=\"sk-toggleable__label sk-toggleable__label-arrow\">LinearRegression</label><div class=\"sk-toggleable__content\"><pre>LinearRegression()</pre></div></div></div></div></div>"
      ],
      "text/plain": [
       "LinearRegression()"
      ]
     },
     "execution_count": 112,
     "metadata": {},
     "output_type": "execute_result"
    }
   ],
   "source": [
    "# Train the linear regression model\n",
    "regression_model = LinearRegression()\n",
    "regression_model.fit(x_train, y_train)"
   ]
  },
  {
   "cell_type": "code",
   "execution_count": 113,
   "id": "ead560c5",
   "metadata": {},
   "outputs": [
    {
     "data": {
      "image/png": "[encoded data removed]",
      "text/plain": [
       "<Figure size 640x480 with 1 Axes>"
      ]
     },
     "metadata": {},
     "output_type": "display_data"
    }
   ],
   "source": [
    "import matplotlib.pyplot as plt\n",
    "\n",
    "# Make predictions on the test set\n",
    "y_pred = regression_model.predict(X_test)\n",
    "\n",
    "# Create a scatter plot of actual vs. predicted ratings\n",
    "plt.scatter(y_test, y_pred)\n",
    "plt.xlabel('Actual Ratings')\n",
    "plt.ylabel('Predicted Ratings')\n",
    "plt.title('Actual vs. Predicted Ratings')\n",
    "plt.show()\n"
   ]
  },
  {
   "cell_type": "code",
   "execution_count": 117,
   "id": "ba5fdf9f",
   "metadata": {},
   "outputs": [],
   "source": [
    "def hybrid_recommendation(user_id, top_n=5):\n",
    "    # Get the user's ratings\n",
    "    user_ratings = user_item_matrix.loc[user_id]\n",
    "\n",
    "    # Compute the weighted average of ratings based on item similarities\n",
    "    weighted_ratings = item_similarities.dot(user_ratings)\n",
    "\n",
    "    # Find the indices of top-rated items from collaborative filtering\n",
    "    top_indices_cf = np.argsort(weighted_ratings)[::-1][:top_n]\n",
    "\n",
    "    # Predict the ratings for new user-movie combinations using regression\n",
    "    all_movie_ids = df['movieId'].unique()\n",
    "    user_movie_ids = user_item_matrix.columns[user_item_matrix.loc[user_id] == 0]\n",
    "    new_user_movie_ids = np.setdiff1d(all_movie_ids, user_movie_ids)\n",
    "    new_user_ids = np.full(new_user_movie_ids.shape[0], user_id)\n",
    "    new_user_movie_ratings = regression_model.predict(np.column_stack((new_user_ids, new_user_movie_ids)))\n",
    "    top_indices_regression = new_user_movie_ratings.argsort()[::-1][:top_n]\n",
    "\n",
    "    # Get the corresponding movie titles\n",
    "    top_movies_cf = df[df['movieId'].isin(top_indices_cf)]['title'].unique()\n",
    "    top_movies_regression = df[df['movieId'].isin(top_indices_regression)]['title'].unique()\n",
    "\n",
    "    return np.concatenate((top_movies_cf, top_movies_regression))\n"
   ]
  },
  {
   "cell_type": "code",
   "execution_count": 121,
   "id": "f5ddab88",
   "metadata": {},
   "outputs": [
    {
     "name": "stdout",
     "output_type": "stream",
     "text": [
      "Recommended movies for user 100:\n",
      "Glimmer Man, The (1996)\n",
      "Candleshoe (1977)\n",
      "Inspector General, The (1949)\n",
      "Toy Story (1995)\n",
      "Grumpier Old Men (1995)\n",
      "Jumanji (1995)\n",
      "Waiting to Exhale (1995)\n"
     ]
    }
   ],
   "source": [
    "\n",
    "# Example usage\n",
    "user_id = 100\n",
    "top_movies = hybrid_recommendation(user_id, top_n=5)\n",
    "print(f\"Recommended movies for user {user_id}:\")\n",
    "for movie in top_movies:\n",
    "    print(movie)\n"
   ]
  },
  {
   "cell_type": "code",
   "execution_count": 123,
   "id": "08f8dacf",
   "metadata": {},
   "outputs": [
    {
     "name": "stdout",
     "output_type": "stream",
     "text": [
      "Root Mean Squared Error (RMSE): 1.0345693528632527\n"
     ]
    }
   ],
   "source": [
    "from sklearn.metrics import mean_squared_error\n",
    "\n",
    "# Make predictions on the test set\n",
    "y_pred = regression_model.predict(x_test)\n",
    "\n",
    "# Calculate RMSE\n",
    "mse = mean_squared_error(y_test, y_pred)\n",
    "rmse = np.sqrt(mse)\n",
    "\n",
    "print(f\"Root Mean Squared Error (RMSE): {rmse}\")"
   ]
  },
  {
   "cell_type": "code",
   "execution_count": 128,
   "id": "858b88f6",
   "metadata": {},
   "outputs": [],
   "source": [
    "df_pred = pd.DataFrame({'y_test': y_test, 'y_pred': y_pred})\n"
   ]
  },
  {
   "cell_type": "code",
   "execution_count": 129,
   "id": "1e671b90",
   "metadata": {},
   "outputs": [
    {
     "data": {
      "text/html": [
       "<div>\n",
       "<style scoped>\n",
       "    .dataframe tbody tr th:only-of-type {\n",
       "        vertical-align: middle;\n",
       "    }\n",
       "\n",
       "    .dataframe tbody tr th {\n",
       "        vertical-align: top;\n",
       "    }\n",
       "\n",
       "    .dataframe thead th {\n",
       "        text-align: right;\n",
       "    }\n",
       "</style>\n",
       "<table border=\"1\" class=\"dataframe\">\n",
       "  <thead>\n",
       "    <tr style=\"text-align: right;\">\n",
       "      <th></th>\n",
       "      <th>y_test</th>\n",
       "      <th>y_pred</th>\n",
       "    </tr>\n",
       "  </thead>\n",
       "  <tbody>\n",
       "    <tr>\n",
       "      <th>13375</th>\n",
       "      <td>5.0</td>\n",
       "      <td>3.578131</td>\n",
       "    </tr>\n",
       "    <tr>\n",
       "      <th>12990</th>\n",
       "      <td>5.0</td>\n",
       "      <td>3.564164</td>\n",
       "    </tr>\n",
       "    <tr>\n",
       "      <th>10461</th>\n",
       "      <td>3.5</td>\n",
       "      <td>3.437853</td>\n",
       "    </tr>\n",
       "    <tr>\n",
       "      <th>2773</th>\n",
       "      <td>4.5</td>\n",
       "      <td>3.537292</td>\n",
       "    </tr>\n",
       "    <tr>\n",
       "      <th>8797</th>\n",
       "      <td>3.5</td>\n",
       "      <td>3.525664</td>\n",
       "    </tr>\n",
       "    <tr>\n",
       "      <th>1907</th>\n",
       "      <td>3.0</td>\n",
       "      <td>3.425395</td>\n",
       "    </tr>\n",
       "    <tr>\n",
       "      <th>16676</th>\n",
       "      <td>2.0</td>\n",
       "      <td>3.478842</td>\n",
       "    </tr>\n",
       "    <tr>\n",
       "      <th>4804</th>\n",
       "      <td>4.0</td>\n",
       "      <td>3.456813</td>\n",
       "    </tr>\n",
       "    <tr>\n",
       "      <th>5749</th>\n",
       "      <td>2.5</td>\n",
       "      <td>3.427810</td>\n",
       "    </tr>\n",
       "    <tr>\n",
       "      <th>15756</th>\n",
       "      <td>4.0</td>\n",
       "      <td>3.474109</td>\n",
       "    </tr>\n",
       "    <tr>\n",
       "      <th>9124</th>\n",
       "      <td>3.0</td>\n",
       "      <td>3.513152</td>\n",
       "    </tr>\n",
       "    <tr>\n",
       "      <th>4446</th>\n",
       "      <td>1.0</td>\n",
       "      <td>3.424018</td>\n",
       "    </tr>\n",
       "    <tr>\n",
       "      <th>13902</th>\n",
       "      <td>3.0</td>\n",
       "      <td>3.484675</td>\n",
       "    </tr>\n",
       "    <tr>\n",
       "      <th>18277</th>\n",
       "      <td>4.0</td>\n",
       "      <td>3.478279</td>\n",
       "    </tr>\n",
       "    <tr>\n",
       "      <th>16706</th>\n",
       "      <td>3.5</td>\n",
       "      <td>3.436206</td>\n",
       "    </tr>\n",
       "    <tr>\n",
       "      <th>3392</th>\n",
       "      <td>4.0</td>\n",
       "      <td>3.510344</td>\n",
       "    </tr>\n",
       "    <tr>\n",
       "      <th>17853</th>\n",
       "      <td>2.0</td>\n",
       "      <td>3.478406</td>\n",
       "    </tr>\n",
       "    <tr>\n",
       "      <th>14756</th>\n",
       "      <td>3.0</td>\n",
       "      <td>3.532872</td>\n",
       "    </tr>\n",
       "    <tr>\n",
       "      <th>3836</th>\n",
       "      <td>2.0</td>\n",
       "      <td>3.519082</td>\n",
       "    </tr>\n",
       "    <tr>\n",
       "      <th>8315</th>\n",
       "      <td>4.0</td>\n",
       "      <td>3.426621</td>\n",
       "    </tr>\n",
       "  </tbody>\n",
       "</table>\n",
       "</div>"
      ],
      "text/plain": [
       "       y_test    y_pred\n",
       "13375     5.0  3.578131\n",
       "12990     5.0  3.564164\n",
       "10461     3.5  3.437853\n",
       "2773      4.5  3.537292\n",
       "8797      3.5  3.525664\n",
       "1907      3.0  3.425395\n",
       "16676     2.0  3.478842\n",
       "4804      4.0  3.456813\n",
       "5749      2.5  3.427810\n",
       "15756     4.0  3.474109\n",
       "9124      3.0  3.513152\n",
       "4446      1.0  3.424018\n",
       "13902     3.0  3.484675\n",
       "18277     4.0  3.478279\n",
       "16706     3.5  3.436206\n",
       "3392      4.0  3.510344\n",
       "17853     2.0  3.478406\n",
       "14756     3.0  3.532872\n",
       "3836      2.0  3.519082\n",
       "8315      4.0  3.426621"
      ]
     },
     "execution_count": 129,
     "metadata": {},
     "output_type": "execute_result"
    }
   ],
   "source": [
    "df_pred.sample(20)"
   ]
  },
  {
   "cell_type": "code",
   "execution_count": null,
   "id": "161fd1cf",
   "metadata": {},
   "outputs": [],
   "source": []
  }
 ],
 "metadata": {
  "kernelspec": {
   "display_name": "Python 3 (ipykernel)",
   "language": "python",
   "name": "python3"
  },
  "language_info": {
   "codemirror_mode": {
    "name": "ipython",
    "version": 3
   },
   "file_extension": ".py",
   "mimetype": "text/x-python",
   "name": "python",
   "nbconvert_exporter": "python",
   "pygments_lexer": "ipython3",
   "version": "3.10.6"
  }
 },
 "nbformat": 4,
 "nbformat_minor": 5
}
