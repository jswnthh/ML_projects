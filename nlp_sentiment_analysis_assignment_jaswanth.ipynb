{
  "cells": [
    {
      "cell_type": "markdown",
      "metadata": {
        "id": "8Gf0u3uzd7oM"
      },
      "source": [
        "# Assignment - Sentiment Analysis of Movie Reviews\n",
        "\n",
        "![](https://i.imgur.com/6Wfmf2S.png)\n",
        "\n",
        "> **Problem Statement**: Apply the TF-IDF technique to train ML models for sentiment analysis using data from the \"[Sentiment Analysis on Movie Reviews](https://www.kaggle.com/c/sentiment-analysis-on-movie-reviews)\" Kaggle competition.\n",
        "\n",
        "\n",
        "Outline:\n",
        "\n",
        "1. Download and Explore Dataset\n",
        "2. Implement the TF-IDF Technique\n",
        "3. Train baseline model & submit to Kaggle\n",
        "4. Train & finetune different ML models\n",
        "3. Document & submit your notebook\n",
        "\n",
        "\n",
        "Dataset: https://www.kaggle.com/c/sentiment-analysis-on-movie-reviews\n"
      ]
    },
    {
      "cell_type": "markdown",
      "metadata": {
        "id": "hw0pygCOefi9"
      },
      "source": [
        "## Download and Explore the Data\n",
        "\n",
        "Outline:\n",
        "\n",
        "1. Download Dataset from Kaggle\n",
        "2. Explore and visualize data"
      ]
    },
    {
      "cell_type": "markdown",
      "metadata": {
        "id": "KPS8buEdtllZ"
      },
      "source": [
        "### Download Dataset from Kaggle\n",
        "\n",
        "- Read the \"Description\", \"Evaluation\" and \"Data\" sections on the Kaggle competition page carefully\n",
        "- Make sure to download the `kaggle.json` file from your [Kaggle account](https://kaggle.com/me/account) and upload it on Colab"
      ]
    },
    {
      "cell_type": "code",
      "source": [
        "import os\n",
        "os.environ['KAGGLE_CONFIG_DIR'] = \".\""
      ],
      "metadata": {
        "id": "KlKR_TIDxgb5"
      },
      "execution_count": 1,
      "outputs": []
    },
    {
      "cell_type": "code",
      "execution_count": 2,
      "metadata": {
        "id": "FnaGd60Zuxgg",
        "colab": {
          "base_uri": "https://localhost:8080/"
        },
        "outputId": "e6926504-b9df-4a8a-941a-49b003bf8f73"
      },
      "outputs": [
        {
          "output_type": "stream",
          "name": "stdout",
          "text": [
            "Warning: Your Kaggle API key is readable by other users on this system! To fix this, you can run 'chmod 600 ./kaggle.json'\n",
            "Downloading sentiment-analysis-on-movie-reviews.zip to /content\n",
            "  0% 0.00/1.90M [00:00<?, ?B/s]\n",
            "100% 1.90M/1.90M [00:00<00:00, 114MB/s]\n",
            "Archive:  sentiment-analysis-on-movie-reviews.zip\n",
            "  inflating: sampleSubmission.csv    \n",
            "  inflating: test.tsv.zip            \n",
            "  inflating: train.tsv.zip           \n"
          ]
        }
      ],
      "source": [
        "!kaggle competitions download -c sentiment-analysis-on-movie-reviews\n",
        "!unzip sentiment-analysis-on-movie-reviews.zip"
      ]
    },
    {
      "cell_type": "code",
      "execution_count": null,
      "metadata": {
        "id": "lcRhDakmuxEm"
      },
      "outputs": [],
      "source": []
    },
    {
      "cell_type": "code",
      "execution_count": null,
      "metadata": {
        "id": "MdQqvmtvend_"
      },
      "outputs": [],
      "source": []
    },
    {
      "cell_type": "code",
      "execution_count": null,
      "metadata": {
        "id": "nEFLvfunenbr"
      },
      "outputs": [],
      "source": []
    },
    {
      "cell_type": "code",
      "execution_count": null,
      "metadata": {
        "id": "QOq7CBqftvz-"
      },
      "outputs": [],
      "source": []
    },
    {
      "cell_type": "markdown",
      "metadata": {
        "id": "CVbujLQ9tpAb"
      },
      "source": [
        "### Explore and Visualize Data\n",
        "\n",
        "* Load the train, test, and submission files using Pandas\n",
        "* Explore rows, columns, sample values etc.\n",
        "* Visualize distribution of target columns"
      ]
    },
    {
      "cell_type": "code",
      "source": [
        "import pandas as pd"
      ],
      "metadata": {
        "id": "ymWpHEbpxp6Q"
      },
      "execution_count": 3,
      "outputs": []
    },
    {
      "cell_type": "code",
      "execution_count": 6,
      "metadata": {
        "id": "H2JenReXw7SI"
      },
      "outputs": [],
      "source": [
        "raw_df = pd.read_csv('train.tsv.zip', sep='\\t')\n",
        "test_df = pd.read_csv('test.tsv.zip', sep='\\t')\n"
      ]
    },
    {
      "cell_type": "code",
      "source": [
        "submission_df = pd.read_csv('sampleSubmission.csv')"
      ],
      "metadata": {
        "id": "VwXHGdejb0Z_"
      },
      "execution_count": 7,
      "outputs": []
    },
    {
      "cell_type": "code",
      "execution_count": 8,
      "metadata": {
        "colab": {
          "base_uri": "https://localhost:8080/"
        },
        "id": "l0Skd9KnxdjV",
        "outputId": "cbb4b783-aa4f-4f57-bc3e-6d094123efe1"
      },
      "outputs": [
        {
          "output_type": "execute_result",
          "data": {
            "text/plain": [
              "((156060, 4), (66292, 3), (66292, 2))"
            ]
          },
          "metadata": {},
          "execution_count": 8
        }
      ],
      "source": [
        "raw_df.shape, test_df.shape, submission_df.shape"
      ]
    },
    {
      "cell_type": "code",
      "execution_count": 9,
      "metadata": {
        "id": "uT_Dci92enWk",
        "colab": {
          "base_uri": "https://localhost:8080/"
        },
        "outputId": "cca9aef5-1b94-4c00-99a5-804f7cdea31d"
      },
      "outputs": [
        {
          "output_type": "execute_result",
          "data": {
            "text/plain": [
              "PhraseId      False\n",
              "SentenceId    False\n",
              "Phrase        False\n",
              "Sentiment     False\n",
              "dtype: bool"
            ]
          },
          "metadata": {},
          "execution_count": 9
        }
      ],
      "source": [
        "raw_df.isna().any()"
      ]
    },
    {
      "cell_type": "code",
      "execution_count": 15,
      "metadata": {
        "colab": {
          "base_uri": "https://localhost:8080/"
        },
        "id": "1ao58CXLx15G",
        "outputId": "bc1a3376-78b7-4688-a74d-bc7d03180c3d"
      },
      "outputs": [
        {
          "output_type": "execute_result",
          "data": {
            "text/plain": [
              "PhraseId      False\n",
              "SentenceId    False\n",
              "Phrase        False\n",
              "dtype: bool"
            ]
          },
          "metadata": {},
          "execution_count": 15
        }
      ],
      "source": [
        "test_df.isna().any()"
      ]
    },
    {
      "cell_type": "code",
      "execution_count": 11,
      "metadata": {
        "id": "-uae8Me6tt4I",
        "colab": {
          "base_uri": "https://localhost:8080/"
        },
        "outputId": "1259fcf8-200f-4d21-c387-0c59dc888178"
      },
      "outputs": [
        {
          "output_type": "stream",
          "name": "stdout",
          "text": [
            "NaN value found at row index: 15519\n"
          ]
        }
      ],
      "source": [
        "# Iterate over the rows and print the index of rows with NaN in 'Phrase' column\n",
        "for index, attr in test_df.Phrase.items():\n",
        "    if pd.isna(attr):\n",
        "        print(f\"NaN value found at row index: {index}\")"
      ]
    },
    {
      "cell_type": "code",
      "source": [
        "test_df.iloc[15519]"
      ],
      "metadata": {
        "colab": {
          "base_uri": "https://localhost:8080/"
        },
        "id": "SkBYOjHm2HYc",
        "outputId": "aea88290-bda6-4dc5-8606-419aa1866f9f"
      },
      "execution_count": 14,
      "outputs": [
        {
          "output_type": "execute_result",
          "data": {
            "text/plain": [
              "PhraseId            171580\n",
              "SentenceId            9213\n",
              "Phrase        None of this\n",
              "Name: 15519, dtype: object"
            ]
          },
          "metadata": {},
          "execution_count": 14
        }
      ]
    },
    {
      "cell_type": "code",
      "source": [
        "test_df.at[15519, 'Phrase'] = 'None of this'\n"
      ],
      "metadata": {
        "id": "dUaGSSaPYz9r"
      },
      "execution_count": 13,
      "outputs": []
    },
    {
      "cell_type": "code",
      "source": [],
      "metadata": {
        "id": "5dS-q25b2V2w"
      },
      "execution_count": null,
      "outputs": []
    },
    {
      "cell_type": "code",
      "source": [],
      "metadata": {
        "id": "gNhPqKS52WLE"
      },
      "execution_count": null,
      "outputs": []
    },
    {
      "cell_type": "markdown",
      "metadata": {
        "id": "yESLHuK3x65P"
      },
      "source": [
        "Summarize your insights and learnings from the dataset below:\n",
        "\n",
        "* The train.tsv file contains phrases and their corresponding sentiment labels. It also includes a SentenceId to track which phrases belong to the same sentence.\n",
        "* test.tsv contains just phrases. we must assign a sentiment label to each phrase.\n",
        "* The sentiment labels are -> 0 - negative, 1 - somewhat negative, 2 - neutral, 3 - somewhat positive, 4 - positive\n",
        "* found a NAN attribute in the test df and removed it, correspondingly in the submission column\n",
        "* Apparently removing it leads to problems in submissions so updated the missing field with a new value 'None of this'"
      ]
    },
    {
      "cell_type": "markdown",
      "metadata": {
        "id": "pYaRDixJen33"
      },
      "source": [
        "## Implement TF-IDF Technique\n",
        "\n",
        "![](https://i.imgur.com/5VbUPup.png)\n",
        "\n",
        "Outline:\n",
        "\n",
        "1. Learn the vocabulary using `TfidfVectorizer`\n",
        "3. Transform training and test data"
      ]
    },
    {
      "cell_type": "markdown",
      "metadata": {
        "id": "m3cu-meXuETm"
      },
      "source": [
        "#### Learn Vocabulary using `TfidfVectorizer `\n",
        "\n",
        "* Create custom tokenizer with stemming\n",
        "* Create a list of stop words\n",
        "* Configure and create `TfidfVectorizer `\n",
        "* Learn vocubulary from training set\n",
        "* View sample entries from vocabulary"
      ]
    },
    {
      "cell_type": "code",
      "execution_count": 16,
      "metadata": {
        "id": "u7pWYRHnzUWW",
        "colab": {
          "base_uri": "https://localhost:8080/"
        },
        "outputId": "8360ecfa-7129-4ed7-e6fe-63b5d42506ff"
      },
      "outputs": [
        {
          "output_type": "stream",
          "name": "stderr",
          "text": [
            "[nltk_data] Downloading package punkt to /root/nltk_data...\n",
            "[nltk_data]   Unzipping tokenizers/punkt.zip.\n",
            "[nltk_data] Downloading package stopwords to /root/nltk_data...\n",
            "[nltk_data]   Unzipping corpora/stopwords.zip.\n"
          ]
        },
        {
          "output_type": "execute_result",
          "data": {
            "text/plain": [
              "True"
            ]
          },
          "metadata": {},
          "execution_count": 16
        }
      ],
      "source": [
        "import nltk\n",
        "nltk.download('punkt')\n",
        "nltk.download('stopwords')"
      ]
    },
    {
      "cell_type": "code",
      "execution_count": 17,
      "metadata": {
        "id": "Ag_lyI8mzbqE"
      },
      "outputs": [],
      "source": [
        "from nltk.tokenize import word_tokenize\n",
        "from nltk.corpus import stopwords\n",
        "from nltk.stem import SnowballStemmer"
      ]
    },
    {
      "cell_type": "code",
      "source": [
        "stemmer = SnowballStemmer('english')"
      ],
      "metadata": {
        "id": "H0UAGJus8y8m"
      },
      "execution_count": 18,
      "outputs": []
    },
    {
      "cell_type": "markdown",
      "source": [
        "Create custom tokenizer with stemming\n",
        "\n",
        "\n",
        "---\n",
        "\n",
        "\n",
        "created and its working"
      ],
      "metadata": {
        "id": "8C2QuCQl4hBn"
      }
    },
    {
      "cell_type": "code",
      "execution_count": 19,
      "metadata": {
        "id": "4vzkmwVG0GGE"
      },
      "outputs": [],
      "source": [
        "def tokenize(text):\n",
        "    # Tokenize the text\n",
        "    tokens = word_tokenize(text)\n",
        "\n",
        "    # Remove punctuation and apply stemming\n",
        "    stemmed_tokens = [stemmer.stem(word) for word in tokens if word.isalnum()]\n",
        "\n",
        "    return stemmed_tokens"
      ]
    },
    {
      "cell_type": "code",
      "execution_count": 20,
      "metadata": {
        "colab": {
          "base_uri": "https://localhost:8080/"
        },
        "id": "DxZWPPfE0FeN",
        "outputId": "2bab9527-fc35-4bae-bdc6-0ecd7628daf2"
      },
      "outputs": [
        {
          "output_type": "execute_result",
          "data": {
            "text/plain": [
              "['this', 'is', 'a', 'test', 'sentenc']"
            ]
          },
          "metadata": {},
          "execution_count": 20
        }
      ],
      "source": [
        "tokenize('This is a test sentence.')"
      ]
    },
    {
      "cell_type": "markdown",
      "source": [
        "Create a list of stop words\n",
        "\n",
        "\n",
        "---\n",
        "\n",
        "\n",
        "created"
      ],
      "metadata": {
        "id": "ffPOWbhdd7oP"
      }
    },
    {
      "cell_type": "code",
      "execution_count": 23,
      "metadata": {
        "id": "Tp3P0zaw0ATc"
      },
      "outputs": [],
      "source": [
        "stopwords = stopwords.words('english')"
      ]
    },
    {
      "cell_type": "code",
      "execution_count": 24,
      "metadata": {
        "id": "aggX4uwmeswS",
        "colab": {
          "base_uri": "https://localhost:8080/",
          "height": 156
        },
        "outputId": "d6a6b991-fe97-4b12-df8b-9ad2d772e057"
      },
      "outputs": [
        {
          "output_type": "execute_result",
          "data": {
            "text/plain": [
              "\"i, me, my, myself, we, our, ours, ourselves, you, you're, you've, you'll, you'd, your, yours, yourself, yourselves, he, him, his, himself, she, she's, her, hers, herself, it, it's, its, itself, they, them, their, theirs, themselves, what, which, who, whom, this, that, that'll, these, those, am, is, are, was, were, be, been, being, have, has, had, having, do, does, did, doing, a, an, the, and, but, if, or, because, as, until, while, of, at, by, for, with, about, against, between, into, through, during, before, after, above, below, to, from, up, down, in, out, on, off, over, under, again, further, then, once, here, there, when, where, why, how, all, any, both, each, few, more, most, other, some, such, no, nor, not, only, own, same, so, than, too, very, s, t, can, will, just, don, don't, should, should've, now, d, ll, m, o, re, ve, y, ain, aren, aren't, couldn, couldn't, didn, didn't, doesn, doesn't, hadn, hadn't, hasn, hasn't, haven, haven't, isn, isn't, ma, mightn, mightn't, mustn, mustn't, needn, needn't, shan, shan't, shouldn, shouldn't, wasn, wasn't, weren, weren't, won, won't, wouldn, wouldn't\""
            ],
            "application/vnd.google.colaboratory.intrinsic+json": {
              "type": "string"
            }
          },
          "metadata": {},
          "execution_count": 24
        }
      ],
      "source": [
        "\", \".join(stopwords)"
      ]
    },
    {
      "cell_type": "markdown",
      "source": [
        "**Context Sensitivity:** In some cases, stop words can contribute to the sentiment of a sentence. For instance, \"not good\" has a different sentiment than \"good\". Removing \"not\" would lose this important context. Hence, im removing all the negative stop words"
      ],
      "metadata": {
        "id": "UWS0NJkk0Z2p"
      }
    },
    {
      "cell_type": "code",
      "source": [
        "filtered_stopwords = stopwords[:116]"
      ],
      "metadata": {
        "id": "1q_QsAvv6FbE"
      },
      "execution_count": 25,
      "outputs": []
    },
    {
      "cell_type": "markdown",
      "source": [
        "**Domain-Specific Stop Words:** Consider creating a custom stop word list tailored to movie reviews. For example, words like \"movie\", \"film\", \"actor\" might be common but not useful for sentiment analysis."
      ],
      "metadata": {
        "id": "9G7zchdC6FTh"
      }
    },
    {
      "cell_type": "code",
      "source": [
        "filtered_stopwords.append('movie')"
      ],
      "metadata": {
        "id": "T0NZyN8q6jk3"
      },
      "execution_count": 26,
      "outputs": []
    },
    {
      "cell_type": "code",
      "source": [
        "filtered_stopwords.append('film')\n",
        "filtered_stopwords.append('actor')"
      ],
      "metadata": {
        "id": "TkZfySQa-6zD"
      },
      "execution_count": 27,
      "outputs": []
    },
    {
      "cell_type": "code",
      "source": [
        "type(filtered_stopwords)"
      ],
      "metadata": {
        "colab": {
          "base_uri": "https://localhost:8080/"
        },
        "id": "w9-3Cd0S6oBG",
        "outputId": "0a86ed11-77b8-4e5d-c37f-0b28107930b5"
      },
      "execution_count": 28,
      "outputs": [
        {
          "output_type": "execute_result",
          "data": {
            "text/plain": [
              "list"
            ]
          },
          "metadata": {},
          "execution_count": 28
        }
      ]
    },
    {
      "cell_type": "markdown",
      "source": [
        "**Why Remove Stop Words?**\n",
        "- **Noise Reduction**: Stop words (common words like \"the\", \"is\", \"in\", etc.) often don't carry significant meaning and can act as noise, potentially confusing the model.\n",
        "- **Dimensionality Reduction**: By removing stop words, you reduce the number of features, which can make the model training more efficient and improve performance."
      ],
      "metadata": {
        "id": "Tu_garEvesta"
      }
    },
    {
      "cell_type": "code",
      "execution_count": null,
      "metadata": {
        "id": "Xl-NWRL4esq8"
      },
      "outputs": [],
      "source": []
    },
    {
      "cell_type": "markdown",
      "source": [
        "Configure and create TfidfVectorizer"
      ],
      "metadata": {
        "id": "7re6Uh_l03vY"
      }
    },
    {
      "cell_type": "code",
      "execution_count": 29,
      "metadata": {
        "id": "PmPLT4Lf0uFT"
      },
      "outputs": [],
      "source": [
        "from sklearn.feature_extraction.text import TfidfVectorizer"
      ]
    },
    {
      "cell_type": "code",
      "execution_count": 62,
      "metadata": {
        "id": "7wQ4BQsR1lNg"
      },
      "outputs": [],
      "source": [
        "vectorizer = TfidfVectorizer(tokenizer=tokenize,\n",
        "                             stop_words=filtered_stopwords,\n",
        "                             ngram_range=(1,2),\n",
        "                             max_features=2000)"
      ]
    },
    {
      "cell_type": "code",
      "execution_count": 31,
      "metadata": {
        "colab": {
          "base_uri": "https://localhost:8080/",
          "height": 52
        },
        "id": "5quhtu9Q2I1s",
        "outputId": "53b21ebf-aee7-4a6a-b0e0-f255488c74b4"
      },
      "outputs": [
        {
          "output_type": "execute_result",
          "data": {
            "text/plain": [
              "'A series of escapades demonstrating the adage that what is good for the goose is also good for the gander , some of which occasionally amuses but none of which amounts to much of a story .'"
            ],
            "application/vnd.google.colaboratory.intrinsic+json": {
              "type": "string"
            }
          },
          "metadata": {},
          "execution_count": 31
        }
      ],
      "source": [
        "q1 = raw_df.Phrase[0]\n",
        "q1"
      ]
    },
    {
      "cell_type": "code",
      "execution_count": 32,
      "metadata": {
        "colab": {
          "base_uri": "https://localhost:8080/",
          "height": 52
        },
        "id": "z-90SgIx301M",
        "outputId": "25f2c680-296c-4a18-d01f-453a76be6c69"
      },
      "outputs": [
        {
          "output_type": "execute_result",
          "data": {
            "text/plain": [
              "'a, seri, of, escapad, demonstr, the, adag, that, what, is, good, for, the, goos, is, also, good, for, the, gander, some, of, which, occasion, amus, but, none, of, which, amount, to, much, of, a, stori'"
            ],
            "application/vnd.google.colaboratory.intrinsic+json": {
              "type": "string"
            }
          },
          "metadata": {},
          "execution_count": 32
        }
      ],
      "source": [
        "\", \".join(tokenize(q1))"
      ]
    },
    {
      "cell_type": "code",
      "execution_count": 33,
      "metadata": {
        "colab": {
          "base_uri": "https://localhost:8080/",
          "height": 320
        },
        "id": "QwAZ50kn1Spe",
        "outputId": "891da5ca-efdb-44d0-f18f-0b55372fa45c"
      },
      "outputs": [
        {
          "output_type": "stream",
          "name": "stderr",
          "text": [
            "/usr/local/lib/python3.10/dist-packages/sklearn/feature_extraction/text.py:528: UserWarning: The parameter 'token_pattern' will not be used since 'tokenizer' is not None'\n",
            "  warnings.warn(\n",
            "/usr/local/lib/python3.10/dist-packages/sklearn/feature_extraction/text.py:409: UserWarning: Your stop_words may be inconsistent with your preprocessing. Tokenizing the stop words generated tokens ['abov', 'ani', 'becaus', 'befor', 'doe', 'dure', 'movi', 'onc', 'ourselv', 'themselv', 'whi', 'yourselv'] not in stop_words.\n",
            "  warnings.warn(\n"
          ]
        },
        {
          "output_type": "stream",
          "name": "stdout",
          "text": [
            "CPU times: user 35.5 s, sys: 209 ms, total: 35.7 s\n",
            "Wall time: 37.4 s\n"
          ]
        },
        {
          "output_type": "execute_result",
          "data": {
            "text/plain": [
              "TfidfVectorizer(max_features=2000, ngram_range=(1, 2),\n",
              "                stop_words=['i', 'me', 'my', 'myself', 'we', 'our', 'ours',\n",
              "                            'ourselves', 'you', \"you're\", \"you've\", \"you'll\",\n",
              "                            \"you'd\", 'your', 'yours', 'yourself', 'yourselves',\n",
              "                            'he', 'him', 'his', 'himself', 'she', \"she's\",\n",
              "                            'her', 'hers', 'herself', 'it', \"it's\", 'its',\n",
              "                            'itself', ...],\n",
              "                tokenizer=<function tokenize at 0x7f7d0543add0>)"
            ],
            "text/html": [
              "<style>#sk-container-id-1 {color: black;background-color: white;}#sk-container-id-1 pre{padding: 0;}#sk-container-id-1 div.sk-toggleable {background-color: white;}#sk-container-id-1 label.sk-toggleable__label {cursor: pointer;display: block;width: 100%;margin-bottom: 0;padding: 0.3em;box-sizing: border-box;text-align: center;}#sk-container-id-1 label.sk-toggleable__label-arrow:before {content: \"▸\";float: left;margin-right: 0.25em;color: #696969;}#sk-container-id-1 label.sk-toggleable__label-arrow:hover:before {color: black;}#sk-container-id-1 div.sk-estimator:hover label.sk-toggleable__label-arrow:before {color: black;}#sk-container-id-1 div.sk-toggleable__content {max-height: 0;max-width: 0;overflow: hidden;text-align: left;background-color: #f0f8ff;}#sk-container-id-1 div.sk-toggleable__content pre {margin: 0.2em;color: black;border-radius: 0.25em;background-color: #f0f8ff;}#sk-container-id-1 input.sk-toggleable__control:checked~div.sk-toggleable__content {max-height: 200px;max-width: 100%;overflow: auto;}#sk-container-id-1 input.sk-toggleable__control:checked~label.sk-toggleable__label-arrow:before {content: \"▾\";}#sk-container-id-1 div.sk-estimator input.sk-toggleable__control:checked~label.sk-toggleable__label {background-color: #d4ebff;}#sk-container-id-1 div.sk-label input.sk-toggleable__control:checked~label.sk-toggleable__label {background-color: #d4ebff;}#sk-container-id-1 input.sk-hidden--visually {border: 0;clip: rect(1px 1px 1px 1px);clip: rect(1px, 1px, 1px, 1px);height: 1px;margin: -1px;overflow: hidden;padding: 0;position: absolute;width: 1px;}#sk-container-id-1 div.sk-estimator {font-family: monospace;background-color: #f0f8ff;border: 1px dotted black;border-radius: 0.25em;box-sizing: border-box;margin-bottom: 0.5em;}#sk-container-id-1 div.sk-estimator:hover {background-color: #d4ebff;}#sk-container-id-1 div.sk-parallel-item::after {content: \"\";width: 100%;border-bottom: 1px solid gray;flex-grow: 1;}#sk-container-id-1 div.sk-label:hover label.sk-toggleable__label {background-color: #d4ebff;}#sk-container-id-1 div.sk-serial::before {content: \"\";position: absolute;border-left: 1px solid gray;box-sizing: border-box;top: 0;bottom: 0;left: 50%;z-index: 0;}#sk-container-id-1 div.sk-serial {display: flex;flex-direction: column;align-items: center;background-color: white;padding-right: 0.2em;padding-left: 0.2em;position: relative;}#sk-container-id-1 div.sk-item {position: relative;z-index: 1;}#sk-container-id-1 div.sk-parallel {display: flex;align-items: stretch;justify-content: center;background-color: white;position: relative;}#sk-container-id-1 div.sk-item::before, #sk-container-id-1 div.sk-parallel-item::before {content: \"\";position: absolute;border-left: 1px solid gray;box-sizing: border-box;top: 0;bottom: 0;left: 50%;z-index: -1;}#sk-container-id-1 div.sk-parallel-item {display: flex;flex-direction: column;z-index: 1;position: relative;background-color: white;}#sk-container-id-1 div.sk-parallel-item:first-child::after {align-self: flex-end;width: 50%;}#sk-container-id-1 div.sk-parallel-item:last-child::after {align-self: flex-start;width: 50%;}#sk-container-id-1 div.sk-parallel-item:only-child::after {width: 0;}#sk-container-id-1 div.sk-dashed-wrapped {border: 1px dashed gray;margin: 0 0.4em 0.5em 0.4em;box-sizing: border-box;padding-bottom: 0.4em;background-color: white;}#sk-container-id-1 div.sk-label label {font-family: monospace;font-weight: bold;display: inline-block;line-height: 1.2em;}#sk-container-id-1 div.sk-label-container {text-align: center;}#sk-container-id-1 div.sk-container {/* jupyter's `normalize.less` sets `[hidden] { display: none; }` but bootstrap.min.css set `[hidden] { display: none !important; }` so we also need the `!important` here to be able to override the default hidden behavior on the sphinx rendered scikit-learn.org. See: https://github.com/scikit-learn/scikit-learn/issues/21755 */display: inline-block !important;position: relative;}#sk-container-id-1 div.sk-text-repr-fallback {display: none;}</style><div id=\"sk-container-id-1\" class=\"sk-top-container\"><div class=\"sk-text-repr-fallback\"><pre>TfidfVectorizer(max_features=2000, ngram_range=(1, 2),\n",
              "                stop_words=[&#x27;i&#x27;, &#x27;me&#x27;, &#x27;my&#x27;, &#x27;myself&#x27;, &#x27;we&#x27;, &#x27;our&#x27;, &#x27;ours&#x27;,\n",
              "                            &#x27;ourselves&#x27;, &#x27;you&#x27;, &quot;you&#x27;re&quot;, &quot;you&#x27;ve&quot;, &quot;you&#x27;ll&quot;,\n",
              "                            &quot;you&#x27;d&quot;, &#x27;your&#x27;, &#x27;yours&#x27;, &#x27;yourself&#x27;, &#x27;yourselves&#x27;,\n",
              "                            &#x27;he&#x27;, &#x27;him&#x27;, &#x27;his&#x27;, &#x27;himself&#x27;, &#x27;she&#x27;, &quot;she&#x27;s&quot;,\n",
              "                            &#x27;her&#x27;, &#x27;hers&#x27;, &#x27;herself&#x27;, &#x27;it&#x27;, &quot;it&#x27;s&quot;, &#x27;its&#x27;,\n",
              "                            &#x27;itself&#x27;, ...],\n",
              "                tokenizer=&lt;function tokenize at 0x7f7d0543add0&gt;)</pre><b>In a Jupyter environment, please rerun this cell to show the HTML representation or trust the notebook. <br />On GitHub, the HTML representation is unable to render, please try loading this page with nbviewer.org.</b></div><div class=\"sk-container\" hidden><div class=\"sk-item\"><div class=\"sk-estimator sk-toggleable\"><input class=\"sk-toggleable__control sk-hidden--visually\" id=\"sk-estimator-id-1\" type=\"checkbox\" checked><label for=\"sk-estimator-id-1\" class=\"sk-toggleable__label sk-toggleable__label-arrow\">TfidfVectorizer</label><div class=\"sk-toggleable__content\"><pre>TfidfVectorizer(max_features=2000, ngram_range=(1, 2),\n",
              "                stop_words=[&#x27;i&#x27;, &#x27;me&#x27;, &#x27;my&#x27;, &#x27;myself&#x27;, &#x27;we&#x27;, &#x27;our&#x27;, &#x27;ours&#x27;,\n",
              "                            &#x27;ourselves&#x27;, &#x27;you&#x27;, &quot;you&#x27;re&quot;, &quot;you&#x27;ve&quot;, &quot;you&#x27;ll&quot;,\n",
              "                            &quot;you&#x27;d&quot;, &#x27;your&#x27;, &#x27;yours&#x27;, &#x27;yourself&#x27;, &#x27;yourselves&#x27;,\n",
              "                            &#x27;he&#x27;, &#x27;him&#x27;, &#x27;his&#x27;, &#x27;himself&#x27;, &#x27;she&#x27;, &quot;she&#x27;s&quot;,\n",
              "                            &#x27;her&#x27;, &#x27;hers&#x27;, &#x27;herself&#x27;, &#x27;it&#x27;, &quot;it&#x27;s&quot;, &#x27;its&#x27;,\n",
              "                            &#x27;itself&#x27;, ...],\n",
              "                tokenizer=&lt;function tokenize at 0x7f7d0543add0&gt;)</pre></div></div></div></div></div>"
            ]
          },
          "metadata": {},
          "execution_count": 33
        }
      ],
      "source": [
        "%%time\n",
        "# Learn the vocabulary from the training data\n",
        "vectorizer.fit(raw_df.Phrase)"
      ]
    },
    {
      "cell_type": "markdown",
      "source": [
        "Learn vocubulary from training set and View sample entries from vocabulary"
      ],
      "metadata": {
        "id": "6KGGtHYx_LHY"
      }
    },
    {
      "cell_type": "code",
      "source": [
        "type(vectorizer.vocabulary_)"
      ],
      "metadata": {
        "colab": {
          "base_uri": "https://localhost:8080/"
        },
        "id": "vl44jNoE_SkO",
        "outputId": "31c3b318-1ba6-47c1-ac0d-943bb6f271f6"
      },
      "execution_count": 34,
      "outputs": [
        {
          "output_type": "execute_result",
          "data": {
            "text/plain": [
              "dict"
            ]
          },
          "metadata": {},
          "execution_count": 34
        }
      ]
    },
    {
      "cell_type": "code",
      "source": [
        "vectorizer.get_feature_names_out()[:200]"
      ],
      "metadata": {
        "colab": {
          "base_uri": "https://localhost:8080/"
        },
        "id": "k9fjEdor_Sg1",
        "outputId": "8c48a6bb-25fc-434d-d105-d6f0d6ee5429"
      },
      "execution_count": 35,
      "outputs": [
        {
          "output_type": "execute_result",
          "data": {
            "text/plain": [
              "array(['10', '10 minut', '15', '2', '20', '2002', '9', '90', '90 minut',\n",
              "       'abandon', 'abil', 'abl', 'abov', 'absolut', 'absorb', 'abstract',\n",
              "       'absurd', 'abus', 'accent', 'accept', 'access', 'accomplish',\n",
              "       'accur', 'ach', 'achiev', 'across', 'act', 'action', 'action movi',\n",
              "       'action sequenc', 'actress', 'actual', 'ad', 'adam',\n",
              "       'adam sandler', 'adapt', 'add', 'addit', 'adequ', 'admir', 'admit',\n",
              "       'adolesc', 'adult', 'adventur', 'affair', 'affect', 'afraid',\n",
              "       'age', 'ago', 'ahead', 'aim', 'aimless', 'air', 'alien', 'aliv',\n",
              "       'allen', 'allow', 'almost', 'alon', 'along', 'alreadi', 'also',\n",
              "       'altern', 'although', 'alway', 'amateurish', 'amaz', 'ambigu',\n",
              "       'ambit', 'ambiti', 'america', 'american', 'among', 'amount',\n",
              "       'amus', 'analyz', 'angel', 'angst', 'ani', 'anim', 'ann', 'annoy',\n",
              "       'anoth', 'answer', 'anyon', 'anyth', 'apart', 'appar', 'appeal',\n",
              "       'appear', 'appli', 'appreci', 'approach', 'appropri', 'area',\n",
              "       'argu', 'argument', 'around', 'arriv', 'art', 'artifici', 'artist',\n",
              "       'ask', 'aspect', 'aspir', 'assassin', 'associ', 'assur',\n",
              "       'astonish', 'atmospher', 'attack', 'attempt', 'attent', 'attract',\n",
              "       'audienc', 'authent', 'author', 'averag', 'avoid', 'aw', 'award',\n",
              "       'away', 'awkward', 'b', 'back', 'background', 'bad', 'bad movi',\n",
              "       'baffl', 'bag', 'balanc', 'banal', 'band', 'bare', 'barrel',\n",
              "       'barri', 'base', 'basic', 'battl', 'bear', 'beast', 'beat',\n",
              "       'beauti', 'becaus', 'becom', 'befor', 'begin', 'behavior',\n",
              "       'behind', 'believ', 'belli', 'belt', 'beneath', 'benefit',\n",
              "       'benigni', 'best', 'better', 'better than', 'beyond', 'big',\n",
              "       'big screen', 'bigger', 'bill', 'bit', 'bite', 'bitter',\n",
              "       'bittersweet', 'bizarr', 'black', 'blade', 'blair', 'blair witch',\n",
              "       'bland', 'blank', 'blast', 'bleak', 'blend', 'blockbust', 'blood',\n",
              "       'blow', 'blue', 'boat', 'bodi', 'bold', 'bond', 'bone', 'book',\n",
              "       'border', 'bore', 'bother', 'bottom', 'box', 'boy', 'brain',\n",
              "       'break', 'breath', 'breathtak', 'bright', 'brilliant', 'bring'],\n",
              "      dtype=object)"
            ]
          },
          "metadata": {},
          "execution_count": 35
        }
      ]
    },
    {
      "cell_type": "code",
      "source": [],
      "metadata": {
        "id": "XzRrReVp_Sdf"
      },
      "execution_count": null,
      "outputs": []
    },
    {
      "cell_type": "code",
      "source": [],
      "metadata": {
        "id": "Dhds3e-3_SaM"
      },
      "execution_count": null,
      "outputs": []
    },
    {
      "cell_type": "markdown",
      "metadata": {
        "id": "N83nLs4juO67"
      },
      "source": [
        "### Transform Training & Test Data\n",
        "\n",
        "* Transform phrases from training set\n",
        "* Transform phrases from test set\n",
        "* Look at some example values"
      ]
    },
    {
      "cell_type": "markdown",
      "source": [
        "Transform phrases from training set"
      ],
      "metadata": {
        "id": "QaWJ3w_GADV2"
      }
    },
    {
      "cell_type": "code",
      "source": [
        "%%time\n",
        "inputs = vectorizer.transform(raw_df.Phrase)"
      ],
      "metadata": {
        "id": "LdNNIK2Z_Seg"
      },
      "execution_count": 36,
      "outputs": []
    },
    {
      "cell_type": "code",
      "execution_count": 37,
      "metadata": {
        "id": "B6WXWiQzuOcX",
        "colab": {
          "base_uri": "https://localhost:8080/"
        },
        "outputId": "4de8f605-d216-4d2e-9fcb-aba7eb0d7f97"
      },
      "outputs": [
        {
          "output_type": "execute_result",
          "data": {
            "text/plain": [
              "<156060x2000 sparse matrix of type '<class 'numpy.float64'>'\n",
              "\twith 464139 stored elements in Compressed Sparse Row format>"
            ]
          },
          "metadata": {},
          "execution_count": 37
        }
      ],
      "source": [
        "inputs"
      ]
    },
    {
      "cell_type": "code",
      "source": [],
      "metadata": {
        "id": "-4_pt5nbAvMY"
      },
      "execution_count": null,
      "outputs": []
    },
    {
      "cell_type": "code",
      "source": [
        "inputs.toarray()[0][:100]"
      ],
      "metadata": {
        "colab": {
          "base_uri": "https://localhost:8080/"
        },
        "id": "Dip2P3WPAvtk",
        "outputId": "550cb4ff-d3aa-4b72-fc0b-9d45bda53b60"
      },
      "execution_count": 38,
      "outputs": [
        {
          "output_type": "execute_result",
          "data": {
            "text/plain": [
              "array([0.        , 0.        , 0.        , 0.        , 0.        ,\n",
              "       0.        , 0.        , 0.        , 0.        , 0.        ,\n",
              "       0.        , 0.        , 0.        , 0.        , 0.        ,\n",
              "       0.        , 0.        , 0.        , 0.        , 0.        ,\n",
              "       0.        , 0.        , 0.        , 0.        , 0.        ,\n",
              "       0.        , 0.        , 0.        , 0.        , 0.        ,\n",
              "       0.        , 0.        , 0.        , 0.        , 0.        ,\n",
              "       0.        , 0.        , 0.        , 0.        , 0.        ,\n",
              "       0.        , 0.        , 0.        , 0.        , 0.        ,\n",
              "       0.        , 0.        , 0.        , 0.        , 0.        ,\n",
              "       0.        , 0.        , 0.        , 0.        , 0.        ,\n",
              "       0.        , 0.        , 0.        , 0.        , 0.        ,\n",
              "       0.        , 0.27620188, 0.        , 0.        , 0.        ,\n",
              "       0.        , 0.        , 0.        , 0.        , 0.        ,\n",
              "       0.        , 0.        , 0.        , 0.33022325, 0.29314979,\n",
              "       0.        , 0.        , 0.        , 0.        , 0.        ,\n",
              "       0.        , 0.        , 0.        , 0.        , 0.        ,\n",
              "       0.        , 0.        , 0.        , 0.        , 0.        ,\n",
              "       0.        , 0.        , 0.        , 0.        , 0.        ,\n",
              "       0.        , 0.        , 0.        , 0.        , 0.        ])"
            ]
          },
          "metadata": {},
          "execution_count": 38
        }
      ]
    },
    {
      "cell_type": "markdown",
      "source": [
        "Transform phrases from test set\n"
      ],
      "metadata": {
        "id": "0BDzHuBbuPSz"
      }
    },
    {
      "cell_type": "code",
      "execution_count": 39,
      "metadata": {
        "id": "sEnfZpS83eUr"
      },
      "outputs": [],
      "source": [
        "%%time\n",
        "test_inputs = vectorizer.transform(test_df.Phrase)"
      ]
    },
    {
      "cell_type": "code",
      "execution_count": 40,
      "metadata": {
        "id": "QLngc6g5yspe",
        "colab": {
          "base_uri": "https://localhost:8080/"
        },
        "outputId": "9f01db74-8ace-4867-df2e-70d621c2e12d"
      },
      "outputs": [
        {
          "output_type": "execute_result",
          "data": {
            "text/plain": [
              "<66292x2000 sparse matrix of type '<class 'numpy.float64'>'\n",
              "\twith 178144 stored elements in Compressed Sparse Row format>"
            ]
          },
          "metadata": {},
          "execution_count": 40
        }
      ],
      "source": [
        "test_inputs"
      ]
    },
    {
      "cell_type": "code",
      "source": [],
      "metadata": {
        "id": "A4RuQg5NCBjY"
      },
      "execution_count": 40,
      "outputs": []
    },
    {
      "cell_type": "code",
      "execution_count": 41,
      "metadata": {
        "colab": {
          "base_uri": "https://localhost:8080/"
        },
        "id": "z9JRRv_Q4QNf",
        "outputId": "d6cb5595-c6ee-4c26-8d00-634fb140274d"
      },
      "outputs": [
        {
          "output_type": "execute_result",
          "data": {
            "text/plain": [
              "array([0., 0., 0., 0., 0., 0., 0., 0., 0., 0., 0., 0., 0., 0., 0., 0., 0.,\n",
              "       0., 0., 0., 0., 0., 0., 0., 0., 0., 0., 0., 0., 0., 0., 0., 0., 0.,\n",
              "       0., 0., 0., 0., 0., 0., 0., 0., 0., 0., 0., 0., 0., 0., 0., 0., 0.,\n",
              "       0., 0., 0., 0., 0., 0., 0., 0., 0., 0., 0., 0., 0., 0., 0., 0., 0.,\n",
              "       0., 0., 0., 0., 0., 0., 0., 0., 0., 0., 0., 0., 0., 0., 0., 0., 0.,\n",
              "       0., 0., 0., 0., 0., 0., 0., 0., 0., 0., 0., 0., 0., 0., 0.])"
            ]
          },
          "metadata": {},
          "execution_count": 41
        }
      ],
      "source": [
        "test_inputs.toarray()[0][:100]"
      ]
    },
    {
      "cell_type": "code",
      "source": [],
      "metadata": {
        "id": "QR9iU2yxBHbf"
      },
      "execution_count": null,
      "outputs": []
    },
    {
      "cell_type": "code",
      "source": [],
      "metadata": {
        "id": "XqI-ElR7BH7a"
      },
      "execution_count": null,
      "outputs": []
    },
    {
      "cell_type": "markdown",
      "metadata": {
        "id": "TwLM4r3EetEK"
      },
      "source": [
        "## Train Baseline Model & Submit to Kaggle\n",
        "\n",
        "1. Split training and validation sets\n",
        "2. Train logistic regression model\n",
        "3. Study predictions on sample phrases\n",
        "4. Make predictions and submit to Kaggle\n",
        "\n",
        "\n"
      ]
    },
    {
      "cell_type": "markdown",
      "metadata": {
        "id": "NAZkydfs4wrX"
      },
      "source": [
        "### Split Training and Validation Sets\n",
        "\n",
        "Tip: Don't use a random sample for validation set (why?)\n",
        "- **Preservation of Data Integrity**\n",
        "  - **Issue:** Random splits might inadvertently *split related or dependent data points between the training and validation sets.*\n",
        "  - **Impact:** This can lead to *incorrect assumptions* about model performance if the validation set doesnt accurately reflect the data distribution or if it contains data points that are too similar to those in the training set."
      ]
    },
    {
      "cell_type": "code",
      "execution_count": 42,
      "metadata": {
        "id": "_9wZLI9i4rlB"
      },
      "outputs": [],
      "source": [
        "from sklearn.model_selection import train_test_split"
      ]
    },
    {
      "cell_type": "code",
      "execution_count": 43,
      "metadata": {
        "id": "FnALsBHr4aQt"
      },
      "outputs": [],
      "source": [
        "TRAIN_SIZE = 110_000"
      ]
    },
    {
      "cell_type": "code",
      "execution_count": 44,
      "metadata": {
        "id": "EF8dHyrF4S3R"
      },
      "outputs": [],
      "source": [
        "train_inputs = inputs[:TRAIN_SIZE]\n",
        "train_targets = raw_df.Sentiment[:TRAIN_SIZE]\n",
        "val_inputs = inputs[TRAIN_SIZE:]\n",
        "val_targets = raw_df.Sentiment[TRAIN_SIZE:]"
      ]
    },
    {
      "cell_type": "code",
      "execution_count": 45,
      "metadata": {
        "id": "JXg0N5Tset2n",
        "colab": {
          "base_uri": "https://localhost:8080/"
        },
        "outputId": "e53a5e11-4241-4ea2-8078-e435ae3d59ea"
      },
      "outputs": [
        {
          "output_type": "execute_result",
          "data": {
            "text/plain": [
              "((110000, 2000), (110000,), (46060, 2000), (46060,))"
            ]
          },
          "metadata": {},
          "execution_count": 45
        }
      ],
      "source": [
        "train_inputs.shape, train_targets.shape, val_inputs.shape, val_targets.shape"
      ]
    },
    {
      "cell_type": "code",
      "execution_count": null,
      "metadata": {
        "id": "5-VO-Ad25CUt"
      },
      "outputs": [],
      "source": []
    },
    {
      "cell_type": "code",
      "execution_count": null,
      "metadata": {
        "id": "T5IWqURF5ELL"
      },
      "outputs": [],
      "source": []
    },
    {
      "cell_type": "markdown",
      "metadata": {
        "id": "DHoTrGTM5Bo9"
      },
      "source": [
        "### Train Logistic Regression Model\n",
        "\n"
      ]
    },
    {
      "cell_type": "code",
      "execution_count": 46,
      "metadata": {
        "id": "jEHCuRAt7swN"
      },
      "outputs": [],
      "source": [
        "from sklearn.linear_model import LogisticRegression"
      ]
    },
    {
      "cell_type": "code",
      "execution_count": 47,
      "metadata": {
        "id": "7klXZoh-7st2"
      },
      "outputs": [],
      "source": [
        "lr = LogisticRegression(solver='sag')"
      ]
    },
    {
      "cell_type": "code",
      "execution_count": 48,
      "metadata": {
        "colab": {
          "base_uri": "https://localhost:8080/",
          "height": 74
        },
        "id": "THyNzV9J7srO",
        "outputId": "e21bb33d-1d8d-4f89-fa9c-135e9f2bb68c"
      },
      "outputs": [
        {
          "output_type": "execute_result",
          "data": {
            "text/plain": [
              "LogisticRegression(solver='sag')"
            ],
            "text/html": [
              "<style>#sk-container-id-2 {color: black;background-color: white;}#sk-container-id-2 pre{padding: 0;}#sk-container-id-2 div.sk-toggleable {background-color: white;}#sk-container-id-2 label.sk-toggleable__label {cursor: pointer;display: block;width: 100%;margin-bottom: 0;padding: 0.3em;box-sizing: border-box;text-align: center;}#sk-container-id-2 label.sk-toggleable__label-arrow:before {content: \"▸\";float: left;margin-right: 0.25em;color: #696969;}#sk-container-id-2 label.sk-toggleable__label-arrow:hover:before {color: black;}#sk-container-id-2 div.sk-estimator:hover label.sk-toggleable__label-arrow:before {color: black;}#sk-container-id-2 div.sk-toggleable__content {max-height: 0;max-width: 0;overflow: hidden;text-align: left;background-color: #f0f8ff;}#sk-container-id-2 div.sk-toggleable__content pre {margin: 0.2em;color: black;border-radius: 0.25em;background-color: #f0f8ff;}#sk-container-id-2 input.sk-toggleable__control:checked~div.sk-toggleable__content {max-height: 200px;max-width: 100%;overflow: auto;}#sk-container-id-2 input.sk-toggleable__control:checked~label.sk-toggleable__label-arrow:before {content: \"▾\";}#sk-container-id-2 div.sk-estimator input.sk-toggleable__control:checked~label.sk-toggleable__label {background-color: #d4ebff;}#sk-container-id-2 div.sk-label input.sk-toggleable__control:checked~label.sk-toggleable__label {background-color: #d4ebff;}#sk-container-id-2 input.sk-hidden--visually {border: 0;clip: rect(1px 1px 1px 1px);clip: rect(1px, 1px, 1px, 1px);height: 1px;margin: -1px;overflow: hidden;padding: 0;position: absolute;width: 1px;}#sk-container-id-2 div.sk-estimator {font-family: monospace;background-color: #f0f8ff;border: 1px dotted black;border-radius: 0.25em;box-sizing: border-box;margin-bottom: 0.5em;}#sk-container-id-2 div.sk-estimator:hover {background-color: #d4ebff;}#sk-container-id-2 div.sk-parallel-item::after {content: \"\";width: 100%;border-bottom: 1px solid gray;flex-grow: 1;}#sk-container-id-2 div.sk-label:hover label.sk-toggleable__label {background-color: #d4ebff;}#sk-container-id-2 div.sk-serial::before {content: \"\";position: absolute;border-left: 1px solid gray;box-sizing: border-box;top: 0;bottom: 0;left: 50%;z-index: 0;}#sk-container-id-2 div.sk-serial {display: flex;flex-direction: column;align-items: center;background-color: white;padding-right: 0.2em;padding-left: 0.2em;position: relative;}#sk-container-id-2 div.sk-item {position: relative;z-index: 1;}#sk-container-id-2 div.sk-parallel {display: flex;align-items: stretch;justify-content: center;background-color: white;position: relative;}#sk-container-id-2 div.sk-item::before, #sk-container-id-2 div.sk-parallel-item::before {content: \"\";position: absolute;border-left: 1px solid gray;box-sizing: border-box;top: 0;bottom: 0;left: 50%;z-index: -1;}#sk-container-id-2 div.sk-parallel-item {display: flex;flex-direction: column;z-index: 1;position: relative;background-color: white;}#sk-container-id-2 div.sk-parallel-item:first-child::after {align-self: flex-end;width: 50%;}#sk-container-id-2 div.sk-parallel-item:last-child::after {align-self: flex-start;width: 50%;}#sk-container-id-2 div.sk-parallel-item:only-child::after {width: 0;}#sk-container-id-2 div.sk-dashed-wrapped {border: 1px dashed gray;margin: 0 0.4em 0.5em 0.4em;box-sizing: border-box;padding-bottom: 0.4em;background-color: white;}#sk-container-id-2 div.sk-label label {font-family: monospace;font-weight: bold;display: inline-block;line-height: 1.2em;}#sk-container-id-2 div.sk-label-container {text-align: center;}#sk-container-id-2 div.sk-container {/* jupyter's `normalize.less` sets `[hidden] { display: none; }` but bootstrap.min.css set `[hidden] { display: none !important; }` so we also need the `!important` here to be able to override the default hidden behavior on the sphinx rendered scikit-learn.org. See: https://github.com/scikit-learn/scikit-learn/issues/21755 */display: inline-block !important;position: relative;}#sk-container-id-2 div.sk-text-repr-fallback {display: none;}</style><div id=\"sk-container-id-2\" class=\"sk-top-container\"><div class=\"sk-text-repr-fallback\"><pre>LogisticRegression(solver=&#x27;sag&#x27;)</pre><b>In a Jupyter environment, please rerun this cell to show the HTML representation or trust the notebook. <br />On GitHub, the HTML representation is unable to render, please try loading this page with nbviewer.org.</b></div><div class=\"sk-container\" hidden><div class=\"sk-item\"><div class=\"sk-estimator sk-toggleable\"><input class=\"sk-toggleable__control sk-hidden--visually\" id=\"sk-estimator-id-2\" type=\"checkbox\" checked><label for=\"sk-estimator-id-2\" class=\"sk-toggleable__label sk-toggleable__label-arrow\">LogisticRegression</label><div class=\"sk-toggleable__content\"><pre>LogisticRegression(solver=&#x27;sag&#x27;)</pre></div></div></div></div></div>"
            ]
          },
          "metadata": {},
          "execution_count": 48
        }
      ],
      "source": [
        "lr.fit(train_inputs, train_targets)"
      ]
    },
    {
      "cell_type": "code",
      "execution_count": 49,
      "metadata": {
        "id": "qQ0HAnwP8k1S"
      },
      "outputs": [],
      "source": [
        "train_preds = lr.predict(train_inputs)"
      ]
    },
    {
      "cell_type": "code",
      "execution_count": 50,
      "metadata": {
        "id": "TFXjhxfS70Ny"
      },
      "outputs": [],
      "source": [
        "from sklearn.metrics import accuracy_score, f1_score, classification_report"
      ]
    },
    {
      "cell_type": "code",
      "execution_count": 51,
      "metadata": {
        "colab": {
          "base_uri": "https://localhost:8080/"
        },
        "id": "lT_-tby27so2",
        "outputId": "0dfe300c-e481-4d09-cc8a-6cb517e9d082"
      },
      "outputs": [
        {
          "output_type": "execute_result",
          "data": {
            "text/plain": [
              "0.6377909090909091"
            ]
          },
          "metadata": {},
          "execution_count": 51
        }
      ],
      "source": [
        "accuracy_score(train_targets, train_preds)"
      ]
    },
    {
      "cell_type": "code",
      "source": [
        "print(classification_report(train_targets, train_preds))"
      ],
      "metadata": {
        "colab": {
          "base_uri": "https://localhost:8080/"
        },
        "id": "yqbV1SipRx37",
        "outputId": "591d1d47-e464-401f-b9a1-d4d2c7099c0c"
      },
      "execution_count": 52,
      "outputs": [
        {
          "output_type": "stream",
          "name": "stdout",
          "text": [
            "              precision    recall  f1-score   support\n",
            "\n",
            "           0       0.63      0.21      0.32      4937\n",
            "           1       0.55      0.34      0.42     18660\n",
            "           2       0.67      0.88      0.76     56842\n",
            "           3       0.56      0.47      0.51     23219\n",
            "           4       0.66      0.25      0.36      6342\n",
            "\n",
            "    accuracy                           0.64    110000\n",
            "   macro avg       0.61      0.43      0.47    110000\n",
            "weighted avg       0.62      0.64      0.61    110000\n",
            "\n"
          ]
        }
      ]
    },
    {
      "cell_type": "code",
      "source": [
        "val_preds = lr.predict(val_inputs)"
      ],
      "metadata": {
        "id": "5zJNe38QRy8X"
      },
      "execution_count": 53,
      "outputs": []
    },
    {
      "cell_type": "code",
      "source": [
        "accuracy_score(val_targets, val_preds)"
      ],
      "metadata": {
        "colab": {
          "base_uri": "https://localhost:8080/"
        },
        "id": "siIvC9DKSJTj",
        "outputId": "489f74a8-4eb9-44db-fa99-6aa4daf54b9f"
      },
      "execution_count": 54,
      "outputs": [
        {
          "output_type": "execute_result",
          "data": {
            "text/plain": [
              "0.578245766391663"
            ]
          },
          "metadata": {},
          "execution_count": 54
        }
      ]
    },
    {
      "cell_type": "code",
      "source": [],
      "metadata": {
        "id": "VOl9t0lASJQj"
      },
      "execution_count": null,
      "outputs": []
    },
    {
      "cell_type": "code",
      "source": [],
      "metadata": {
        "id": "pv8ey_zGSJM9"
      },
      "execution_count": null,
      "outputs": []
    },
    {
      "cell_type": "markdown",
      "metadata": {
        "id": "RS2HgpkL_J0G"
      },
      "source": [
        "### Study Predictions on Sample Inputs"
      ]
    },
    {
      "cell_type": "code",
      "source": [
        "def small_predictions(df, sampleSize):\n",
        "  small_df = df.sample(sampleSize)\n",
        "  small_inputs = vectorizer.transform(small_df.Phrase)\n",
        "  small_preds = lr.predict(small_inputs)\n",
        "  small_df = pd.DataFrame({'Phrase': small_df.Phrase,\n",
        "                         'Sentiment': small_df.Sentiment,\n",
        "                         'Predicted Sentiment': small_preds})\n",
        "  accuracy = accuracy_score(small_df.Sentiment, small_preds)\n",
        "  print(f\"Accuracy: {accuracy}\")\n",
        "  return small_df\n",
        "\n"
      ],
      "metadata": {
        "id": "pzWAahECS4Dx"
      },
      "execution_count": 55,
      "outputs": []
    },
    {
      "cell_type": "code",
      "source": [
        "small_predictions(raw_df, 20)"
      ],
      "metadata": {
        "colab": {
          "base_uri": "https://localhost:8080/",
          "height": 694
        },
        "id": "lcfI-sqNUaP5",
        "outputId": "cadb59f7-6806-487d-ff33-57a06749e2f6"
      },
      "execution_count": 56,
      "outputs": [
        {
          "output_type": "stream",
          "name": "stdout",
          "text": [
            "Accuracy: 0.7\n"
          ]
        },
        {
          "output_type": "execute_result",
          "data": {
            "text/plain": [
              "                                                   Phrase  Sentiment  \\\n",
              "35663   showing signs of potential for the sequels , b...          2   \n",
              "42926                                     this gourmet 's          2   \n",
              "90905                a new teen-targeted action TV series          2   \n",
              "24422      is the superficial way it deals with its story          1   \n",
              "35565   is so bad , that it 's almost worth seeing bec...          0   \n",
              "58390   A time machine , a journey back to your childh...          3   \n",
              "126785                      a good cheesy B-movie playing          2   \n",
              "55359                                   just a little bit          2   \n",
              "72250                                   fine-looking film          4   \n",
              "24132     they took in their work -- and in each other --          2   \n",
              "20159                                           happening          2   \n",
              "56328                                         in the '60s          2   \n",
              "89270   promisingly but disintegrates into a dreary , ...          0   \n",
              "124672                               as Starship Troopers          2   \n",
              "16860                                            cast and          2   \n",
              "43698                                             applies          2   \n",
              "1439                            letting sleeping dogs lie          2   \n",
              "64118                                           is rather          2   \n",
              "133922                                    of gamesmanship          2   \n",
              "138527                                        his passe '          2   \n",
              "\n",
              "        Predicted Sentiment  \n",
              "35663                     1  \n",
              "42926                     2  \n",
              "90905                     2  \n",
              "24422                     2  \n",
              "35565                     0  \n",
              "58390                     2  \n",
              "126785                    3  \n",
              "55359                     2  \n",
              "72250                     2  \n",
              "24132                     2  \n",
              "20159                     2  \n",
              "56328                     2  \n",
              "89270                     1  \n",
              "124672                    2  \n",
              "16860                     2  \n",
              "43698                     2  \n",
              "1439                      2  \n",
              "64118                     2  \n",
              "133922                    2  \n",
              "138527                    2  "
            ],
            "text/html": [
              "\n",
              "  <div id=\"df-15307856-6afc-4902-97a9-79eeb091419a\" class=\"colab-df-container\">\n",
              "    <div>\n",
              "<style scoped>\n",
              "    .dataframe tbody tr th:only-of-type {\n",
              "        vertical-align: middle;\n",
              "    }\n",
              "\n",
              "    .dataframe tbody tr th {\n",
              "        vertical-align: top;\n",
              "    }\n",
              "\n",
              "    .dataframe thead th {\n",
              "        text-align: right;\n",
              "    }\n",
              "</style>\n",
              "<table border=\"1\" class=\"dataframe\">\n",
              "  <thead>\n",
              "    <tr style=\"text-align: right;\">\n",
              "      <th></th>\n",
              "      <th>Phrase</th>\n",
              "      <th>Sentiment</th>\n",
              "      <th>Predicted Sentiment</th>\n",
              "    </tr>\n",
              "  </thead>\n",
              "  <tbody>\n",
              "    <tr>\n",
              "      <th>35663</th>\n",
              "      <td>showing signs of potential for the sequels , b...</td>\n",
              "      <td>2</td>\n",
              "      <td>1</td>\n",
              "    </tr>\n",
              "    <tr>\n",
              "      <th>42926</th>\n",
              "      <td>this gourmet 's</td>\n",
              "      <td>2</td>\n",
              "      <td>2</td>\n",
              "    </tr>\n",
              "    <tr>\n",
              "      <th>90905</th>\n",
              "      <td>a new teen-targeted action TV series</td>\n",
              "      <td>2</td>\n",
              "      <td>2</td>\n",
              "    </tr>\n",
              "    <tr>\n",
              "      <th>24422</th>\n",
              "      <td>is the superficial way it deals with its story</td>\n",
              "      <td>1</td>\n",
              "      <td>2</td>\n",
              "    </tr>\n",
              "    <tr>\n",
              "      <th>35565</th>\n",
              "      <td>is so bad , that it 's almost worth seeing bec...</td>\n",
              "      <td>0</td>\n",
              "      <td>0</td>\n",
              "    </tr>\n",
              "    <tr>\n",
              "      <th>58390</th>\n",
              "      <td>A time machine , a journey back to your childh...</td>\n",
              "      <td>3</td>\n",
              "      <td>2</td>\n",
              "    </tr>\n",
              "    <tr>\n",
              "      <th>126785</th>\n",
              "      <td>a good cheesy B-movie playing</td>\n",
              "      <td>2</td>\n",
              "      <td>3</td>\n",
              "    </tr>\n",
              "    <tr>\n",
              "      <th>55359</th>\n",
              "      <td>just a little bit</td>\n",
              "      <td>2</td>\n",
              "      <td>2</td>\n",
              "    </tr>\n",
              "    <tr>\n",
              "      <th>72250</th>\n",
              "      <td>fine-looking film</td>\n",
              "      <td>4</td>\n",
              "      <td>2</td>\n",
              "    </tr>\n",
              "    <tr>\n",
              "      <th>24132</th>\n",
              "      <td>they took in their work -- and in each other --</td>\n",
              "      <td>2</td>\n",
              "      <td>2</td>\n",
              "    </tr>\n",
              "    <tr>\n",
              "      <th>20159</th>\n",
              "      <td>happening</td>\n",
              "      <td>2</td>\n",
              "      <td>2</td>\n",
              "    </tr>\n",
              "    <tr>\n",
              "      <th>56328</th>\n",
              "      <td>in the '60s</td>\n",
              "      <td>2</td>\n",
              "      <td>2</td>\n",
              "    </tr>\n",
              "    <tr>\n",
              "      <th>89270</th>\n",
              "      <td>promisingly but disintegrates into a dreary , ...</td>\n",
              "      <td>0</td>\n",
              "      <td>1</td>\n",
              "    </tr>\n",
              "    <tr>\n",
              "      <th>124672</th>\n",
              "      <td>as Starship Troopers</td>\n",
              "      <td>2</td>\n",
              "      <td>2</td>\n",
              "    </tr>\n",
              "    <tr>\n",
              "      <th>16860</th>\n",
              "      <td>cast and</td>\n",
              "      <td>2</td>\n",
              "      <td>2</td>\n",
              "    </tr>\n",
              "    <tr>\n",
              "      <th>43698</th>\n",
              "      <td>applies</td>\n",
              "      <td>2</td>\n",
              "      <td>2</td>\n",
              "    </tr>\n",
              "    <tr>\n",
              "      <th>1439</th>\n",
              "      <td>letting sleeping dogs lie</td>\n",
              "      <td>2</td>\n",
              "      <td>2</td>\n",
              "    </tr>\n",
              "    <tr>\n",
              "      <th>64118</th>\n",
              "      <td>is rather</td>\n",
              "      <td>2</td>\n",
              "      <td>2</td>\n",
              "    </tr>\n",
              "    <tr>\n",
              "      <th>133922</th>\n",
              "      <td>of gamesmanship</td>\n",
              "      <td>2</td>\n",
              "      <td>2</td>\n",
              "    </tr>\n",
              "    <tr>\n",
              "      <th>138527</th>\n",
              "      <td>his passe '</td>\n",
              "      <td>2</td>\n",
              "      <td>2</td>\n",
              "    </tr>\n",
              "  </tbody>\n",
              "</table>\n",
              "</div>\n",
              "    <div class=\"colab-df-buttons\">\n",
              "\n",
              "  <div class=\"colab-df-container\">\n",
              "    <button class=\"colab-df-convert\" onclick=\"convertToInteractive('df-15307856-6afc-4902-97a9-79eeb091419a')\"\n",
              "            title=\"Convert this dataframe to an interactive table.\"\n",
              "            style=\"display:none;\">\n",
              "\n",
              "  <svg xmlns=\"http://www.w3.org/2000/svg\" height=\"24px\" viewBox=\"0 -960 960 960\">\n",
              "    <path d=\"M120-120v-720h720v720H120Zm60-500h600v-160H180v160Zm220 220h160v-160H400v160Zm0 220h160v-160H400v160ZM180-400h160v-160H180v160Zm440 0h160v-160H620v160ZM180-180h160v-160H180v160Zm440 0h160v-160H620v160Z\"/>\n",
              "  </svg>\n",
              "    </button>\n",
              "\n",
              "  <style>\n",
              "    .colab-df-container {\n",
              "      display:flex;\n",
              "      gap: 12px;\n",
              "    }\n",
              "\n",
              "    .colab-df-convert {\n",
              "      background-color: #E8F0FE;\n",
              "      border: none;\n",
              "      border-radius: 50%;\n",
              "      cursor: pointer;\n",
              "      display: none;\n",
              "      fill: #1967D2;\n",
              "      height: 32px;\n",
              "      padding: 0 0 0 0;\n",
              "      width: 32px;\n",
              "    }\n",
              "\n",
              "    .colab-df-convert:hover {\n",
              "      background-color: #E2EBFA;\n",
              "      box-shadow: 0px 1px 2px rgba(60, 64, 67, 0.3), 0px 1px 3px 1px rgba(60, 64, 67, 0.15);\n",
              "      fill: #174EA6;\n",
              "    }\n",
              "\n",
              "    .colab-df-buttons div {\n",
              "      margin-bottom: 4px;\n",
              "    }\n",
              "\n",
              "    [theme=dark] .colab-df-convert {\n",
              "      background-color: #3B4455;\n",
              "      fill: #D2E3FC;\n",
              "    }\n",
              "\n",
              "    [theme=dark] .colab-df-convert:hover {\n",
              "      background-color: #434B5C;\n",
              "      box-shadow: 0px 1px 3px 1px rgba(0, 0, 0, 0.15);\n",
              "      filter: drop-shadow(0px 1px 2px rgba(0, 0, 0, 0.3));\n",
              "      fill: #FFFFFF;\n",
              "    }\n",
              "  </style>\n",
              "\n",
              "    <script>\n",
              "      const buttonEl =\n",
              "        document.querySelector('#df-15307856-6afc-4902-97a9-79eeb091419a button.colab-df-convert');\n",
              "      buttonEl.style.display =\n",
              "        google.colab.kernel.accessAllowed ? 'block' : 'none';\n",
              "\n",
              "      async function convertToInteractive(key) {\n",
              "        const element = document.querySelector('#df-15307856-6afc-4902-97a9-79eeb091419a');\n",
              "        const dataTable =\n",
              "          await google.colab.kernel.invokeFunction('convertToInteractive',\n",
              "                                                    [key], {});\n",
              "        if (!dataTable) return;\n",
              "\n",
              "        const docLinkHtml = 'Like what you see? Visit the ' +\n",
              "          '<a target=\"_blank\" href=https://colab.research.google.com/notebooks/data_table.ipynb>data table notebook</a>'\n",
              "          + ' to learn more about interactive tables.';\n",
              "        element.innerHTML = '';\n",
              "        dataTable['output_type'] = 'display_data';\n",
              "        await google.colab.output.renderOutput(dataTable, element);\n",
              "        const docLink = document.createElement('div');\n",
              "        docLink.innerHTML = docLinkHtml;\n",
              "        element.appendChild(docLink);\n",
              "      }\n",
              "    </script>\n",
              "  </div>\n",
              "\n",
              "\n",
              "<div id=\"df-c961014f-6697-45e8-a8c7-5a3b96882e32\">\n",
              "  <button class=\"colab-df-quickchart\" onclick=\"quickchart('df-c961014f-6697-45e8-a8c7-5a3b96882e32')\"\n",
              "            title=\"Suggest charts\"\n",
              "            style=\"display:none;\">\n",
              "\n",
              "<svg xmlns=\"http://www.w3.org/2000/svg\" height=\"24px\"viewBox=\"0 0 24 24\"\n",
              "     width=\"24px\">\n",
              "    <g>\n",
              "        <path d=\"M19 3H5c-1.1 0-2 .9-2 2v14c0 1.1.9 2 2 2h14c1.1 0 2-.9 2-2V5c0-1.1-.9-2-2-2zM9 17H7v-7h2v7zm4 0h-2V7h2v10zm4 0h-2v-4h2v4z\"/>\n",
              "    </g>\n",
              "</svg>\n",
              "  </button>\n",
              "\n",
              "<style>\n",
              "  .colab-df-quickchart {\n",
              "      --bg-color: #E8F0FE;\n",
              "      --fill-color: #1967D2;\n",
              "      --hover-bg-color: #E2EBFA;\n",
              "      --hover-fill-color: #174EA6;\n",
              "      --disabled-fill-color: #AAA;\n",
              "      --disabled-bg-color: #DDD;\n",
              "  }\n",
              "\n",
              "  [theme=dark] .colab-df-quickchart {\n",
              "      --bg-color: #3B4455;\n",
              "      --fill-color: #D2E3FC;\n",
              "      --hover-bg-color: #434B5C;\n",
              "      --hover-fill-color: #FFFFFF;\n",
              "      --disabled-bg-color: #3B4455;\n",
              "      --disabled-fill-color: #666;\n",
              "  }\n",
              "\n",
              "  .colab-df-quickchart {\n",
              "    background-color: var(--bg-color);\n",
              "    border: none;\n",
              "    border-radius: 50%;\n",
              "    cursor: pointer;\n",
              "    display: none;\n",
              "    fill: var(--fill-color);\n",
              "    height: 32px;\n",
              "    padding: 0;\n",
              "    width: 32px;\n",
              "  }\n",
              "\n",
              "  .colab-df-quickchart:hover {\n",
              "    background-color: var(--hover-bg-color);\n",
              "    box-shadow: 0 1px 2px rgba(60, 64, 67, 0.3), 0 1px 3px 1px rgba(60, 64, 67, 0.15);\n",
              "    fill: var(--button-hover-fill-color);\n",
              "  }\n",
              "\n",
              "  .colab-df-quickchart-complete:disabled,\n",
              "  .colab-df-quickchart-complete:disabled:hover {\n",
              "    background-color: var(--disabled-bg-color);\n",
              "    fill: var(--disabled-fill-color);\n",
              "    box-shadow: none;\n",
              "  }\n",
              "\n",
              "  .colab-df-spinner {\n",
              "    border: 2px solid var(--fill-color);\n",
              "    border-color: transparent;\n",
              "    border-bottom-color: var(--fill-color);\n",
              "    animation:\n",
              "      spin 1s steps(1) infinite;\n",
              "  }\n",
              "\n",
              "  @keyframes spin {\n",
              "    0% {\n",
              "      border-color: transparent;\n",
              "      border-bottom-color: var(--fill-color);\n",
              "      border-left-color: var(--fill-color);\n",
              "    }\n",
              "    20% {\n",
              "      border-color: transparent;\n",
              "      border-left-color: var(--fill-color);\n",
              "      border-top-color: var(--fill-color);\n",
              "    }\n",
              "    30% {\n",
              "      border-color: transparent;\n",
              "      border-left-color: var(--fill-color);\n",
              "      border-top-color: var(--fill-color);\n",
              "      border-right-color: var(--fill-color);\n",
              "    }\n",
              "    40% {\n",
              "      border-color: transparent;\n",
              "      border-right-color: var(--fill-color);\n",
              "      border-top-color: var(--fill-color);\n",
              "    }\n",
              "    60% {\n",
              "      border-color: transparent;\n",
              "      border-right-color: var(--fill-color);\n",
              "    }\n",
              "    80% {\n",
              "      border-color: transparent;\n",
              "      border-right-color: var(--fill-color);\n",
              "      border-bottom-color: var(--fill-color);\n",
              "    }\n",
              "    90% {\n",
              "      border-color: transparent;\n",
              "      border-bottom-color: var(--fill-color);\n",
              "    }\n",
              "  }\n",
              "</style>\n",
              "\n",
              "  <script>\n",
              "    async function quickchart(key) {\n",
              "      const quickchartButtonEl =\n",
              "        document.querySelector('#' + key + ' button');\n",
              "      quickchartButtonEl.disabled = true;  // To prevent multiple clicks.\n",
              "      quickchartButtonEl.classList.add('colab-df-spinner');\n",
              "      try {\n",
              "        const charts = await google.colab.kernel.invokeFunction(\n",
              "            'suggestCharts', [key], {});\n",
              "      } catch (error) {\n",
              "        console.error('Error during call to suggestCharts:', error);\n",
              "      }\n",
              "      quickchartButtonEl.classList.remove('colab-df-spinner');\n",
              "      quickchartButtonEl.classList.add('colab-df-quickchart-complete');\n",
              "    }\n",
              "    (() => {\n",
              "      let quickchartButtonEl =\n",
              "        document.querySelector('#df-c961014f-6697-45e8-a8c7-5a3b96882e32 button');\n",
              "      quickchartButtonEl.style.display =\n",
              "        google.colab.kernel.accessAllowed ? 'block' : 'none';\n",
              "    })();\n",
              "  </script>\n",
              "</div>\n",
              "\n",
              "    </div>\n",
              "  </div>\n"
            ],
            "application/vnd.google.colaboratory.intrinsic+json": {
              "type": "dataframe",
              "summary": "{\n  \"name\": \"small_predictions(raw_df, 20)\",\n  \"rows\": 20,\n  \"fields\": [\n    {\n      \"column\": \"Phrase\",\n      \"properties\": {\n        \"dtype\": \"string\",\n        \"num_unique_values\": 20,\n        \"samples\": [\n          \"showing signs of potential for the sequels , but not giving us much this time around\",\n          \"is rather\",\n          \"applies\"\n        ],\n        \"semantic_type\": \"\",\n        \"description\": \"\"\n      }\n    },\n    {\n      \"column\": \"Sentiment\",\n      \"properties\": {\n        \"dtype\": \"number\",\n        \"std\": 0,\n        \"min\": 0,\n        \"max\": 4,\n        \"num_unique_values\": 5,\n        \"samples\": [\n          1,\n          4,\n          0\n        ],\n        \"semantic_type\": \"\",\n        \"description\": \"\"\n      }\n    },\n    {\n      \"column\": \"Predicted Sentiment\",\n      \"properties\": {\n        \"dtype\": \"number\",\n        \"std\": 0,\n        \"min\": 0,\n        \"max\": 3,\n        \"num_unique_values\": 4,\n        \"samples\": [\n          2,\n          3,\n          1\n        ],\n        \"semantic_type\": \"\",\n        \"description\": \"\"\n      }\n    }\n  ]\n}"
            }
          },
          "metadata": {},
          "execution_count": 56
        }
      ]
    },
    {
      "cell_type": "markdown",
      "metadata": {
        "id": "HkiqfeBneyth"
      },
      "source": [
        "### Make Predictions & Submit to Kaggle\n",
        "\n",
        "1. Make predictions on Test Dataset\n",
        "2. Generate & submit CSV on Kaggle\n",
        "3. Add screenshot of your score\n",
        "\n",
        "![image.png](data:image/png;base64,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)\n",
        "\n"
      ]
    },
    {
      "cell_type": "code",
      "source": [],
      "metadata": {
        "id": "bF4pMnwTZ94V"
      },
      "execution_count": null,
      "outputs": []
    },
    {
      "cell_type": "code",
      "execution_count": null,
      "metadata": {
        "id": "jz8W9Nnce31g",
        "colab": {
          "base_uri": "https://localhost:8080/",
          "height": 423
        },
        "outputId": "3c77716f-8a11-46f1-c610-874e4e95527c"
      },
      "outputs": [
        {
          "output_type": "execute_result",
          "data": {
            "text/plain": [
              "       PhraseId  SentenceId                                             Phrase\n",
              "0        156061        8545  An intermittently pleasing but mostly routine ...\n",
              "1        156062        8545  An intermittently pleasing but mostly routine ...\n",
              "2        156063        8545                                                 An\n",
              "3        156064        8545  intermittently pleasing but mostly routine effort\n",
              "4        156065        8545         intermittently pleasing but mostly routine\n",
              "...         ...         ...                                                ...\n",
              "66287    222348       11855             A long-winded , predictable scenario .\n",
              "66288    222349       11855               A long-winded , predictable scenario\n",
              "66289    222350       11855                                    A long-winded ,\n",
              "66290    222351       11855                                      A long-winded\n",
              "66291    222352       11855                               predictable scenario\n",
              "\n",
              "[66292 rows x 3 columns]"
            ],
            "text/html": [
              "\n",
              "  <div id=\"df-148c49ea-fd34-4a44-95f9-a373f7fa58fa\" class=\"colab-df-container\">\n",
              "    <div>\n",
              "<style scoped>\n",
              "    .dataframe tbody tr th:only-of-type {\n",
              "        vertical-align: middle;\n",
              "    }\n",
              "\n",
              "    .dataframe tbody tr th {\n",
              "        vertical-align: top;\n",
              "    }\n",
              "\n",
              "    .dataframe thead th {\n",
              "        text-align: right;\n",
              "    }\n",
              "</style>\n",
              "<table border=\"1\" class=\"dataframe\">\n",
              "  <thead>\n",
              "    <tr style=\"text-align: right;\">\n",
              "      <th></th>\n",
              "      <th>PhraseId</th>\n",
              "      <th>SentenceId</th>\n",
              "      <th>Phrase</th>\n",
              "    </tr>\n",
              "  </thead>\n",
              "  <tbody>\n",
              "    <tr>\n",
              "      <th>0</th>\n",
              "      <td>156061</td>\n",
              "      <td>8545</td>\n",
              "      <td>An intermittently pleasing but mostly routine ...</td>\n",
              "    </tr>\n",
              "    <tr>\n",
              "      <th>1</th>\n",
              "      <td>156062</td>\n",
              "      <td>8545</td>\n",
              "      <td>An intermittently pleasing but mostly routine ...</td>\n",
              "    </tr>\n",
              "    <tr>\n",
              "      <th>2</th>\n",
              "      <td>156063</td>\n",
              "      <td>8545</td>\n",
              "      <td>An</td>\n",
              "    </tr>\n",
              "    <tr>\n",
              "      <th>3</th>\n",
              "      <td>156064</td>\n",
              "      <td>8545</td>\n",
              "      <td>intermittently pleasing but mostly routine effort</td>\n",
              "    </tr>\n",
              "    <tr>\n",
              "      <th>4</th>\n",
              "      <td>156065</td>\n",
              "      <td>8545</td>\n",
              "      <td>intermittently pleasing but mostly routine</td>\n",
              "    </tr>\n",
              "    <tr>\n",
              "      <th>...</th>\n",
              "      <td>...</td>\n",
              "      <td>...</td>\n",
              "      <td>...</td>\n",
              "    </tr>\n",
              "    <tr>\n",
              "      <th>66287</th>\n",
              "      <td>222348</td>\n",
              "      <td>11855</td>\n",
              "      <td>A long-winded , predictable scenario .</td>\n",
              "    </tr>\n",
              "    <tr>\n",
              "      <th>66288</th>\n",
              "      <td>222349</td>\n",
              "      <td>11855</td>\n",
              "      <td>A long-winded , predictable scenario</td>\n",
              "    </tr>\n",
              "    <tr>\n",
              "      <th>66289</th>\n",
              "      <td>222350</td>\n",
              "      <td>11855</td>\n",
              "      <td>A long-winded ,</td>\n",
              "    </tr>\n",
              "    <tr>\n",
              "      <th>66290</th>\n",
              "      <td>222351</td>\n",
              "      <td>11855</td>\n",
              "      <td>A long-winded</td>\n",
              "    </tr>\n",
              "    <tr>\n",
              "      <th>66291</th>\n",
              "      <td>222352</td>\n",
              "      <td>11855</td>\n",
              "      <td>predictable scenario</td>\n",
              "    </tr>\n",
              "  </tbody>\n",
              "</table>\n",
              "<p>66292 rows × 3 columns</p>\n",
              "</div>\n",
              "    <div class=\"colab-df-buttons\">\n",
              "\n",
              "  <div class=\"colab-df-container\">\n",
              "    <button class=\"colab-df-convert\" onclick=\"convertToInteractive('df-148c49ea-fd34-4a44-95f9-a373f7fa58fa')\"\n",
              "            title=\"Convert this dataframe to an interactive table.\"\n",
              "            style=\"display:none;\">\n",
              "\n",
              "  <svg xmlns=\"http://www.w3.org/2000/svg\" height=\"24px\" viewBox=\"0 -960 960 960\">\n",
              "    <path d=\"M120-120v-720h720v720H120Zm60-500h600v-160H180v160Zm220 220h160v-160H400v160Zm0 220h160v-160H400v160ZM180-400h160v-160H180v160Zm440 0h160v-160H620v160ZM180-180h160v-160H180v160Zm440 0h160v-160H620v160Z\"/>\n",
              "  </svg>\n",
              "    </button>\n",
              "\n",
              "  <style>\n",
              "    .colab-df-container {\n",
              "      display:flex;\n",
              "      gap: 12px;\n",
              "    }\n",
              "\n",
              "    .colab-df-convert {\n",
              "      background-color: #E8F0FE;\n",
              "      border: none;\n",
              "      border-radius: 50%;\n",
              "      cursor: pointer;\n",
              "      display: none;\n",
              "      fill: #1967D2;\n",
              "      height: 32px;\n",
              "      padding: 0 0 0 0;\n",
              "      width: 32px;\n",
              "    }\n",
              "\n",
              "    .colab-df-convert:hover {\n",
              "      background-color: #E2EBFA;\n",
              "      box-shadow: 0px 1px 2px rgba(60, 64, 67, 0.3), 0px 1px 3px 1px rgba(60, 64, 67, 0.15);\n",
              "      fill: #174EA6;\n",
              "    }\n",
              "\n",
              "    .colab-df-buttons div {\n",
              "      margin-bottom: 4px;\n",
              "    }\n",
              "\n",
              "    [theme=dark] .colab-df-convert {\n",
              "      background-color: #3B4455;\n",
              "      fill: #D2E3FC;\n",
              "    }\n",
              "\n",
              "    [theme=dark] .colab-df-convert:hover {\n",
              "      background-color: #434B5C;\n",
              "      box-shadow: 0px 1px 3px 1px rgba(0, 0, 0, 0.15);\n",
              "      filter: drop-shadow(0px 1px 2px rgba(0, 0, 0, 0.3));\n",
              "      fill: #FFFFFF;\n",
              "    }\n",
              "  </style>\n",
              "\n",
              "    <script>\n",
              "      const buttonEl =\n",
              "        document.querySelector('#df-148c49ea-fd34-4a44-95f9-a373f7fa58fa button.colab-df-convert');\n",
              "      buttonEl.style.display =\n",
              "        google.colab.kernel.accessAllowed ? 'block' : 'none';\n",
              "\n",
              "      async function convertToInteractive(key) {\n",
              "        const element = document.querySelector('#df-148c49ea-fd34-4a44-95f9-a373f7fa58fa');\n",
              "        const dataTable =\n",
              "          await google.colab.kernel.invokeFunction('convertToInteractive',\n",
              "                                                    [key], {});\n",
              "        if (!dataTable) return;\n",
              "\n",
              "        const docLinkHtml = 'Like what you see? Visit the ' +\n",
              "          '<a target=\"_blank\" href=https://colab.research.google.com/notebooks/data_table.ipynb>data table notebook</a>'\n",
              "          + ' to learn more about interactive tables.';\n",
              "        element.innerHTML = '';\n",
              "        dataTable['output_type'] = 'display_data';\n",
              "        await google.colab.output.renderOutput(dataTable, element);\n",
              "        const docLink = document.createElement('div');\n",
              "        docLink.innerHTML = docLinkHtml;\n",
              "        element.appendChild(docLink);\n",
              "      }\n",
              "    </script>\n",
              "  </div>\n",
              "\n",
              "\n",
              "<div id=\"df-51155218-c818-49d3-a603-28fe14fac500\">\n",
              "  <button class=\"colab-df-quickchart\" onclick=\"quickchart('df-51155218-c818-49d3-a603-28fe14fac500')\"\n",
              "            title=\"Suggest charts\"\n",
              "            style=\"display:none;\">\n",
              "\n",
              "<svg xmlns=\"http://www.w3.org/2000/svg\" height=\"24px\"viewBox=\"0 0 24 24\"\n",
              "     width=\"24px\">\n",
              "    <g>\n",
              "        <path d=\"M19 3H5c-1.1 0-2 .9-2 2v14c0 1.1.9 2 2 2h14c1.1 0 2-.9 2-2V5c0-1.1-.9-2-2-2zM9 17H7v-7h2v7zm4 0h-2V7h2v10zm4 0h-2v-4h2v4z\"/>\n",
              "    </g>\n",
              "</svg>\n",
              "  </button>\n",
              "\n",
              "<style>\n",
              "  .colab-df-quickchart {\n",
              "      --bg-color: #E8F0FE;\n",
              "      --fill-color: #1967D2;\n",
              "      --hover-bg-color: #E2EBFA;\n",
              "      --hover-fill-color: #174EA6;\n",
              "      --disabled-fill-color: #AAA;\n",
              "      --disabled-bg-color: #DDD;\n",
              "  }\n",
              "\n",
              "  [theme=dark] .colab-df-quickchart {\n",
              "      --bg-color: #3B4455;\n",
              "      --fill-color: #D2E3FC;\n",
              "      --hover-bg-color: #434B5C;\n",
              "      --hover-fill-color: #FFFFFF;\n",
              "      --disabled-bg-color: #3B4455;\n",
              "      --disabled-fill-color: #666;\n",
              "  }\n",
              "\n",
              "  .colab-df-quickchart {\n",
              "    background-color: var(--bg-color);\n",
              "    border: none;\n",
              "    border-radius: 50%;\n",
              "    cursor: pointer;\n",
              "    display: none;\n",
              "    fill: var(--fill-color);\n",
              "    height: 32px;\n",
              "    padding: 0;\n",
              "    width: 32px;\n",
              "  }\n",
              "\n",
              "  .colab-df-quickchart:hover {\n",
              "    background-color: var(--hover-bg-color);\n",
              "    box-shadow: 0 1px 2px rgba(60, 64, 67, 0.3), 0 1px 3px 1px rgba(60, 64, 67, 0.15);\n",
              "    fill: var(--button-hover-fill-color);\n",
              "  }\n",
              "\n",
              "  .colab-df-quickchart-complete:disabled,\n",
              "  .colab-df-quickchart-complete:disabled:hover {\n",
              "    background-color: var(--disabled-bg-color);\n",
              "    fill: var(--disabled-fill-color);\n",
              "    box-shadow: none;\n",
              "  }\n",
              "\n",
              "  .colab-df-spinner {\n",
              "    border: 2px solid var(--fill-color);\n",
              "    border-color: transparent;\n",
              "    border-bottom-color: var(--fill-color);\n",
              "    animation:\n",
              "      spin 1s steps(1) infinite;\n",
              "  }\n",
              "\n",
              "  @keyframes spin {\n",
              "    0% {\n",
              "      border-color: transparent;\n",
              "      border-bottom-color: var(--fill-color);\n",
              "      border-left-color: var(--fill-color);\n",
              "    }\n",
              "    20% {\n",
              "      border-color: transparent;\n",
              "      border-left-color: var(--fill-color);\n",
              "      border-top-color: var(--fill-color);\n",
              "    }\n",
              "    30% {\n",
              "      border-color: transparent;\n",
              "      border-left-color: var(--fill-color);\n",
              "      border-top-color: var(--fill-color);\n",
              "      border-right-color: var(--fill-color);\n",
              "    }\n",
              "    40% {\n",
              "      border-color: transparent;\n",
              "      border-right-color: var(--fill-color);\n",
              "      border-top-color: var(--fill-color);\n",
              "    }\n",
              "    60% {\n",
              "      border-color: transparent;\n",
              "      border-right-color: var(--fill-color);\n",
              "    }\n",
              "    80% {\n",
              "      border-color: transparent;\n",
              "      border-right-color: var(--fill-color);\n",
              "      border-bottom-color: var(--fill-color);\n",
              "    }\n",
              "    90% {\n",
              "      border-color: transparent;\n",
              "      border-bottom-color: var(--fill-color);\n",
              "    }\n",
              "  }\n",
              "</style>\n",
              "\n",
              "  <script>\n",
              "    async function quickchart(key) {\n",
              "      const quickchartButtonEl =\n",
              "        document.querySelector('#' + key + ' button');\n",
              "      quickchartButtonEl.disabled = true;  // To prevent multiple clicks.\n",
              "      quickchartButtonEl.classList.add('colab-df-spinner');\n",
              "      try {\n",
              "        const charts = await google.colab.kernel.invokeFunction(\n",
              "            'suggestCharts', [key], {});\n",
              "      } catch (error) {\n",
              "        console.error('Error during call to suggestCharts:', error);\n",
              "      }\n",
              "      quickchartButtonEl.classList.remove('colab-df-spinner');\n",
              "      quickchartButtonEl.classList.add('colab-df-quickchart-complete');\n",
              "    }\n",
              "    (() => {\n",
              "      let quickchartButtonEl =\n",
              "        document.querySelector('#df-51155218-c818-49d3-a603-28fe14fac500 button');\n",
              "      quickchartButtonEl.style.display =\n",
              "        google.colab.kernel.accessAllowed ? 'block' : 'none';\n",
              "    })();\n",
              "  </script>\n",
              "</div>\n",
              "\n",
              "  <div id=\"id_06d0416c-0423-4c7a-8021-6a49b4a2f921\">\n",
              "    <style>\n",
              "      .colab-df-generate {\n",
              "        background-color: #E8F0FE;\n",
              "        border: none;\n",
              "        border-radius: 50%;\n",
              "        cursor: pointer;\n",
              "        display: none;\n",
              "        fill: #1967D2;\n",
              "        height: 32px;\n",
              "        padding: 0 0 0 0;\n",
              "        width: 32px;\n",
              "      }\n",
              "\n",
              "      .colab-df-generate:hover {\n",
              "        background-color: #E2EBFA;\n",
              "        box-shadow: 0px 1px 2px rgba(60, 64, 67, 0.3), 0px 1px 3px 1px rgba(60, 64, 67, 0.15);\n",
              "        fill: #174EA6;\n",
              "      }\n",
              "\n",
              "      [theme=dark] .colab-df-generate {\n",
              "        background-color: #3B4455;\n",
              "        fill: #D2E3FC;\n",
              "      }\n",
              "\n",
              "      [theme=dark] .colab-df-generate:hover {\n",
              "        background-color: #434B5C;\n",
              "        box-shadow: 0px 1px 3px 1px rgba(0, 0, 0, 0.15);\n",
              "        filter: drop-shadow(0px 1px 2px rgba(0, 0, 0, 0.3));\n",
              "        fill: #FFFFFF;\n",
              "      }\n",
              "    </style>\n",
              "    <button class=\"colab-df-generate\" onclick=\"generateWithVariable('test_df')\"\n",
              "            title=\"Generate code using this dataframe.\"\n",
              "            style=\"display:none;\">\n",
              "\n",
              "  <svg xmlns=\"http://www.w3.org/2000/svg\" height=\"24px\"viewBox=\"0 0 24 24\"\n",
              "       width=\"24px\">\n",
              "    <path d=\"M7,19H8.4L18.45,9,17,7.55,7,17.6ZM5,21V16.75L18.45,3.32a2,2,0,0,1,2.83,0l1.4,1.43a1.91,1.91,0,0,1,.58,1.4,1.91,1.91,0,0,1-.58,1.4L9.25,21ZM18.45,9,17,7.55Zm-12,3A5.31,5.31,0,0,0,4.9,8.1,5.31,5.31,0,0,0,1,6.5,5.31,5.31,0,0,0,4.9,4.9,5.31,5.31,0,0,0,6.5,1,5.31,5.31,0,0,0,8.1,4.9,5.31,5.31,0,0,0,12,6.5,5.46,5.46,0,0,0,6.5,12Z\"/>\n",
              "  </svg>\n",
              "    </button>\n",
              "    <script>\n",
              "      (() => {\n",
              "      const buttonEl =\n",
              "        document.querySelector('#id_06d0416c-0423-4c7a-8021-6a49b4a2f921 button.colab-df-generate');\n",
              "      buttonEl.style.display =\n",
              "        google.colab.kernel.accessAllowed ? 'block' : 'none';\n",
              "\n",
              "      buttonEl.onclick = () => {\n",
              "        google.colab.notebook.generateWithVariable('test_df');\n",
              "      }\n",
              "      })();\n",
              "    </script>\n",
              "  </div>\n",
              "\n",
              "    </div>\n",
              "  </div>\n"
            ],
            "application/vnd.google.colaboratory.intrinsic+json": {
              "type": "dataframe",
              "variable_name": "test_df",
              "summary": "{\n  \"name\": \"test_df\",\n  \"rows\": 66292,\n  \"fields\": [\n    {\n      \"column\": \"PhraseId\",\n      \"properties\": {\n        \"dtype\": \"number\",\n        \"std\": 19136,\n        \"min\": 156061,\n        \"max\": 222352,\n        \"num_unique_values\": 66292,\n        \"samples\": [\n          199715,\n          204316,\n          169706\n        ],\n        \"semantic_type\": \"\",\n        \"description\": \"\"\n      }\n    },\n    {\n      \"column\": \"SentenceId\",\n      \"properties\": {\n        \"dtype\": \"number\",\n        \"std\": 966,\n        \"min\": 8545,\n        \"max\": 11855,\n        \"num_unique_values\": 3310,\n        \"samples\": [\n          8597,\n          9226,\n          9922\n        ],\n        \"semantic_type\": \"\",\n        \"description\": \"\"\n      }\n    },\n    {\n      \"column\": \"Phrase\",\n      \"properties\": {\n        \"dtype\": \"string\",\n        \"num_unique_values\": 66284,\n        \"samples\": [\n          \"s a feature-length adaptation of one of those\",\n          \"writings\",\n          \"some truly unique character studies\"\n        ],\n        \"semantic_type\": \"\",\n        \"description\": \"\"\n      }\n    }\n  ]\n}"
            }
          },
          "metadata": {},
          "execution_count": 212
        }
      ],
      "source": [
        "test_df"
      ]
    },
    {
      "cell_type": "code",
      "execution_count": null,
      "metadata": {
        "id": "RHfHJcBae4e3",
        "colab": {
          "base_uri": "https://localhost:8080/"
        },
        "outputId": "93af5b05-fccb-4f02-8b6d-04bc07e37ac8"
      },
      "outputs": [
        {
          "output_type": "execute_result",
          "data": {
            "text/plain": [
              "<66292x2000 sparse matrix of type '<class 'numpy.float64'>'\n",
              "\twith 178146 stored elements in Compressed Sparse Row format>"
            ]
          },
          "metadata": {},
          "execution_count": 213
        }
      ],
      "source": [
        "test_inputs"
      ]
    },
    {
      "cell_type": "code",
      "execution_count": null,
      "metadata": {
        "id": "JZ1urPNme4bo"
      },
      "outputs": [],
      "source": [
        "test_preds = lr.predict(test_inputs)"
      ]
    },
    {
      "cell_type": "code",
      "execution_count": null,
      "metadata": {
        "id": "MHUHTmYxEHcV",
        "colab": {
          "base_uri": "https://localhost:8080/"
        },
        "outputId": "f8c417d3-4e4c-4a8c-c44e-0857a05709a7"
      },
      "outputs": [
        {
          "output_type": "execute_result",
          "data": {
            "text/plain": [
              "array([3, 3, 2, ..., 2, 2, 1])"
            ]
          },
          "metadata": {},
          "execution_count": 215
        }
      ],
      "source": [
        "test_preds"
      ]
    },
    {
      "cell_type": "code",
      "execution_count": null,
      "metadata": {
        "id": "HOTojNcWEHZ7"
      },
      "outputs": [],
      "source": [
        "submission_df = submission_df.drop('Sentiment', axis=1)"
      ]
    },
    {
      "cell_type": "code",
      "source": [
        "submission_df['Sentiment']  = test_preds"
      ],
      "metadata": {
        "id": "AG06zHX2badv"
      },
      "execution_count": null,
      "outputs": []
    },
    {
      "cell_type": "code",
      "source": [
        "submission_df.head()"
      ],
      "metadata": {
        "colab": {
          "base_uri": "https://localhost:8080/",
          "height": 206
        },
        "id": "XCq_KOHYad4f",
        "outputId": "f5b3e800-4ea2-4c7c-ab29-32a604ca1608"
      },
      "execution_count": null,
      "outputs": [
        {
          "output_type": "execute_result",
          "data": {
            "text/plain": [
              "   PhraseId  Sentiment\n",
              "0    156061          3\n",
              "1    156062          3\n",
              "2    156063          2\n",
              "3    156064          3\n",
              "4    156065          3"
            ],
            "text/html": [
              "\n",
              "  <div id=\"df-c4b41ef5-d81b-40f6-ac99-2f028c6daa94\" class=\"colab-df-container\">\n",
              "    <div>\n",
              "<style scoped>\n",
              "    .dataframe tbody tr th:only-of-type {\n",
              "        vertical-align: middle;\n",
              "    }\n",
              "\n",
              "    .dataframe tbody tr th {\n",
              "        vertical-align: top;\n",
              "    }\n",
              "\n",
              "    .dataframe thead th {\n",
              "        text-align: right;\n",
              "    }\n",
              "</style>\n",
              "<table border=\"1\" class=\"dataframe\">\n",
              "  <thead>\n",
              "    <tr style=\"text-align: right;\">\n",
              "      <th></th>\n",
              "      <th>PhraseId</th>\n",
              "      <th>Sentiment</th>\n",
              "    </tr>\n",
              "  </thead>\n",
              "  <tbody>\n",
              "    <tr>\n",
              "      <th>0</th>\n",
              "      <td>156061</td>\n",
              "      <td>3</td>\n",
              "    </tr>\n",
              "    <tr>\n",
              "      <th>1</th>\n",
              "      <td>156062</td>\n",
              "      <td>3</td>\n",
              "    </tr>\n",
              "    <tr>\n",
              "      <th>2</th>\n",
              "      <td>156063</td>\n",
              "      <td>2</td>\n",
              "    </tr>\n",
              "    <tr>\n",
              "      <th>3</th>\n",
              "      <td>156064</td>\n",
              "      <td>3</td>\n",
              "    </tr>\n",
              "    <tr>\n",
              "      <th>4</th>\n",
              "      <td>156065</td>\n",
              "      <td>3</td>\n",
              "    </tr>\n",
              "  </tbody>\n",
              "</table>\n",
              "</div>\n",
              "    <div class=\"colab-df-buttons\">\n",
              "\n",
              "  <div class=\"colab-df-container\">\n",
              "    <button class=\"colab-df-convert\" onclick=\"convertToInteractive('df-c4b41ef5-d81b-40f6-ac99-2f028c6daa94')\"\n",
              "            title=\"Convert this dataframe to an interactive table.\"\n",
              "            style=\"display:none;\">\n",
              "\n",
              "  <svg xmlns=\"http://www.w3.org/2000/svg\" height=\"24px\" viewBox=\"0 -960 960 960\">\n",
              "    <path d=\"M120-120v-720h720v720H120Zm60-500h600v-160H180v160Zm220 220h160v-160H400v160Zm0 220h160v-160H400v160ZM180-400h160v-160H180v160Zm440 0h160v-160H620v160ZM180-180h160v-160H180v160Zm440 0h160v-160H620v160Z\"/>\n",
              "  </svg>\n",
              "    </button>\n",
              "\n",
              "  <style>\n",
              "    .colab-df-container {\n",
              "      display:flex;\n",
              "      gap: 12px;\n",
              "    }\n",
              "\n",
              "    .colab-df-convert {\n",
              "      background-color: #E8F0FE;\n",
              "      border: none;\n",
              "      border-radius: 50%;\n",
              "      cursor: pointer;\n",
              "      display: none;\n",
              "      fill: #1967D2;\n",
              "      height: 32px;\n",
              "      padding: 0 0 0 0;\n",
              "      width: 32px;\n",
              "    }\n",
              "\n",
              "    .colab-df-convert:hover {\n",
              "      background-color: #E2EBFA;\n",
              "      box-shadow: 0px 1px 2px rgba(60, 64, 67, 0.3), 0px 1px 3px 1px rgba(60, 64, 67, 0.15);\n",
              "      fill: #174EA6;\n",
              "    }\n",
              "\n",
              "    .colab-df-buttons div {\n",
              "      margin-bottom: 4px;\n",
              "    }\n",
              "\n",
              "    [theme=dark] .colab-df-convert {\n",
              "      background-color: #3B4455;\n",
              "      fill: #D2E3FC;\n",
              "    }\n",
              "\n",
              "    [theme=dark] .colab-df-convert:hover {\n",
              "      background-color: #434B5C;\n",
              "      box-shadow: 0px 1px 3px 1px rgba(0, 0, 0, 0.15);\n",
              "      filter: drop-shadow(0px 1px 2px rgba(0, 0, 0, 0.3));\n",
              "      fill: #FFFFFF;\n",
              "    }\n",
              "  </style>\n",
              "\n",
              "    <script>\n",
              "      const buttonEl =\n",
              "        document.querySelector('#df-c4b41ef5-d81b-40f6-ac99-2f028c6daa94 button.colab-df-convert');\n",
              "      buttonEl.style.display =\n",
              "        google.colab.kernel.accessAllowed ? 'block' : 'none';\n",
              "\n",
              "      async function convertToInteractive(key) {\n",
              "        const element = document.querySelector('#df-c4b41ef5-d81b-40f6-ac99-2f028c6daa94');\n",
              "        const dataTable =\n",
              "          await google.colab.kernel.invokeFunction('convertToInteractive',\n",
              "                                                    [key], {});\n",
              "        if (!dataTable) return;\n",
              "\n",
              "        const docLinkHtml = 'Like what you see? Visit the ' +\n",
              "          '<a target=\"_blank\" href=https://colab.research.google.com/notebooks/data_table.ipynb>data table notebook</a>'\n",
              "          + ' to learn more about interactive tables.';\n",
              "        element.innerHTML = '';\n",
              "        dataTable['output_type'] = 'display_data';\n",
              "        await google.colab.output.renderOutput(dataTable, element);\n",
              "        const docLink = document.createElement('div');\n",
              "        docLink.innerHTML = docLinkHtml;\n",
              "        element.appendChild(docLink);\n",
              "      }\n",
              "    </script>\n",
              "  </div>\n",
              "\n",
              "\n",
              "<div id=\"df-ee8bd51c-bdf7-436c-b7f6-115420aef08f\">\n",
              "  <button class=\"colab-df-quickchart\" onclick=\"quickchart('df-ee8bd51c-bdf7-436c-b7f6-115420aef08f')\"\n",
              "            title=\"Suggest charts\"\n",
              "            style=\"display:none;\">\n",
              "\n",
              "<svg xmlns=\"http://www.w3.org/2000/svg\" height=\"24px\"viewBox=\"0 0 24 24\"\n",
              "     width=\"24px\">\n",
              "    <g>\n",
              "        <path d=\"M19 3H5c-1.1 0-2 .9-2 2v14c0 1.1.9 2 2 2h14c1.1 0 2-.9 2-2V5c0-1.1-.9-2-2-2zM9 17H7v-7h2v7zm4 0h-2V7h2v10zm4 0h-2v-4h2v4z\"/>\n",
              "    </g>\n",
              "</svg>\n",
              "  </button>\n",
              "\n",
              "<style>\n",
              "  .colab-df-quickchart {\n",
              "      --bg-color: #E8F0FE;\n",
              "      --fill-color: #1967D2;\n",
              "      --hover-bg-color: #E2EBFA;\n",
              "      --hover-fill-color: #174EA6;\n",
              "      --disabled-fill-color: #AAA;\n",
              "      --disabled-bg-color: #DDD;\n",
              "  }\n",
              "\n",
              "  [theme=dark] .colab-df-quickchart {\n",
              "      --bg-color: #3B4455;\n",
              "      --fill-color: #D2E3FC;\n",
              "      --hover-bg-color: #434B5C;\n",
              "      --hover-fill-color: #FFFFFF;\n",
              "      --disabled-bg-color: #3B4455;\n",
              "      --disabled-fill-color: #666;\n",
              "  }\n",
              "\n",
              "  .colab-df-quickchart {\n",
              "    background-color: var(--bg-color);\n",
              "    border: none;\n",
              "    border-radius: 50%;\n",
              "    cursor: pointer;\n",
              "    display: none;\n",
              "    fill: var(--fill-color);\n",
              "    height: 32px;\n",
              "    padding: 0;\n",
              "    width: 32px;\n",
              "  }\n",
              "\n",
              "  .colab-df-quickchart:hover {\n",
              "    background-color: var(--hover-bg-color);\n",
              "    box-shadow: 0 1px 2px rgba(60, 64, 67, 0.3), 0 1px 3px 1px rgba(60, 64, 67, 0.15);\n",
              "    fill: var(--button-hover-fill-color);\n",
              "  }\n",
              "\n",
              "  .colab-df-quickchart-complete:disabled,\n",
              "  .colab-df-quickchart-complete:disabled:hover {\n",
              "    background-color: var(--disabled-bg-color);\n",
              "    fill: var(--disabled-fill-color);\n",
              "    box-shadow: none;\n",
              "  }\n",
              "\n",
              "  .colab-df-spinner {\n",
              "    border: 2px solid var(--fill-color);\n",
              "    border-color: transparent;\n",
              "    border-bottom-color: var(--fill-color);\n",
              "    animation:\n",
              "      spin 1s steps(1) infinite;\n",
              "  }\n",
              "\n",
              "  @keyframes spin {\n",
              "    0% {\n",
              "      border-color: transparent;\n",
              "      border-bottom-color: var(--fill-color);\n",
              "      border-left-color: var(--fill-color);\n",
              "    }\n",
              "    20% {\n",
              "      border-color: transparent;\n",
              "      border-left-color: var(--fill-color);\n",
              "      border-top-color: var(--fill-color);\n",
              "    }\n",
              "    30% {\n",
              "      border-color: transparent;\n",
              "      border-left-color: var(--fill-color);\n",
              "      border-top-color: var(--fill-color);\n",
              "      border-right-color: var(--fill-color);\n",
              "    }\n",
              "    40% {\n",
              "      border-color: transparent;\n",
              "      border-right-color: var(--fill-color);\n",
              "      border-top-color: var(--fill-color);\n",
              "    }\n",
              "    60% {\n",
              "      border-color: transparent;\n",
              "      border-right-color: var(--fill-color);\n",
              "    }\n",
              "    80% {\n",
              "      border-color: transparent;\n",
              "      border-right-color: var(--fill-color);\n",
              "      border-bottom-color: var(--fill-color);\n",
              "    }\n",
              "    90% {\n",
              "      border-color: transparent;\n",
              "      border-bottom-color: var(--fill-color);\n",
              "    }\n",
              "  }\n",
              "</style>\n",
              "\n",
              "  <script>\n",
              "    async function quickchart(key) {\n",
              "      const quickchartButtonEl =\n",
              "        document.querySelector('#' + key + ' button');\n",
              "      quickchartButtonEl.disabled = true;  // To prevent multiple clicks.\n",
              "      quickchartButtonEl.classList.add('colab-df-spinner');\n",
              "      try {\n",
              "        const charts = await google.colab.kernel.invokeFunction(\n",
              "            'suggestCharts', [key], {});\n",
              "      } catch (error) {\n",
              "        console.error('Error during call to suggestCharts:', error);\n",
              "      }\n",
              "      quickchartButtonEl.classList.remove('colab-df-spinner');\n",
              "      quickchartButtonEl.classList.add('colab-df-quickchart-complete');\n",
              "    }\n",
              "    (() => {\n",
              "      let quickchartButtonEl =\n",
              "        document.querySelector('#df-ee8bd51c-bdf7-436c-b7f6-115420aef08f button');\n",
              "      quickchartButtonEl.style.display =\n",
              "        google.colab.kernel.accessAllowed ? 'block' : 'none';\n",
              "    })();\n",
              "  </script>\n",
              "</div>\n",
              "\n",
              "    </div>\n",
              "  </div>\n"
            ],
            "application/vnd.google.colaboratory.intrinsic+json": {
              "type": "dataframe",
              "variable_name": "submission_df",
              "summary": "{\n  \"name\": \"submission_df\",\n  \"rows\": 66292,\n  \"fields\": [\n    {\n      \"column\": \"PhraseId\",\n      \"properties\": {\n        \"dtype\": \"number\",\n        \"std\": 19136,\n        \"min\": 156061,\n        \"max\": 222352,\n        \"num_unique_values\": 66292,\n        \"samples\": [\n          199715,\n          204316,\n          169706\n        ],\n        \"semantic_type\": \"\",\n        \"description\": \"\"\n      }\n    },\n    {\n      \"column\": \"Sentiment\",\n      \"properties\": {\n        \"dtype\": \"number\",\n        \"std\": 0,\n        \"min\": 0,\n        \"max\": 4,\n        \"num_unique_values\": 5,\n        \"samples\": [\n          2,\n          0,\n          1\n        ],\n        \"semantic_type\": \"\",\n        \"description\": \"\"\n      }\n    }\n  ]\n}"
            }
          },
          "metadata": {},
          "execution_count": 235
        }
      ]
    },
    {
      "cell_type": "code",
      "source": [
        "submission_df.to_csv('submission.csv', index=None)"
      ],
      "metadata": {
        "id": "1gcq1CXmaiD2"
      },
      "execution_count": null,
      "outputs": []
    },
    {
      "cell_type": "markdown",
      "metadata": {
        "id": "8kne2rQq8qL0"
      },
      "source": [
        "## Train & Finetune Different ML Models\n",
        "\n",
        "Train & finetune at least 2 other types of models\n",
        "\n",
        "Models Tried:\n",
        "- Random Forests\n",
        "- Naive Bayes\n",
        "\n",
        "Optional:\n",
        "* Use PCA for dimensionality reduction - Done\n",
        "* Compare classification vs regression models\n",
        "\n",
        "\n",
        "Tips:\n",
        "\n",
        "- If using a regression model, make sure to round predictions to integer and clip to the range `[1,5]`\n",
        "- Track your progress in a copy of [this experiment tracking spreadsheet](https://docs.google.com/spreadsheets/d/1X-tifxAOAYeIA2J32hBGP5B0MPnZy_o-zOz1NbS-1Ig/edit?usp=sharing)\n"
      ]
    },
    {
      "cell_type": "code",
      "source": [],
      "metadata": {
        "id": "Ct5ZXOoXfATx"
      },
      "execution_count": null,
      "outputs": []
    },
    {
      "cell_type": "markdown",
      "metadata": {
        "id": "ewoiYmCyAmuZ",
        "outputId": "7a98660c-5c53-4177-9646-377081671071"
      },
      "source": [
        "### Model 2 - RandomForestClassifier\n",
        "\n",
        "> Add blockquote\n",
        "![image.png](data:image/png;base64,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)\n"
      ]
    },
    {
      "cell_type": "code",
      "source": [
        "from sklearn.decomposition import TruncatedSVD\n",
        "from sklearn.ensemble import RandomForestClassifier\n",
        "from sklearn.feature_extraction.text import TfidfVectorizer\n",
        "from sklearn.pipeline import Pipeline\n",
        "import pandas as pd\n",
        "from sklearn.model_selection import train_test_split\n",
        "from sklearn.metrics import accuracy_score"
      ],
      "metadata": {
        "id": "6IQmC8KyNTj4"
      },
      "execution_count": 163,
      "outputs": []
    },
    {
      "cell_type": "code",
      "source": [
        "# Define the pipeline\n",
        "pipeline = Pipeline(\n",
        "    [\n",
        "        (\"vect\", TfidfVectorizer(tokenizer=tokenize,\n",
        "                                 stop_words=filtered_stopwords,\n",
        "                                 ngram_range=(1, 2),\n",
        "                                 max_features=2000)),\n",
        "        (\"pca\", TruncatedSVD(n_components=50)),  # Reduce to 50 components, adjust as needed\n",
        "        (\"clf\", RandomForestClassifier(n_estimators=100))  # 100 trees in the forest, adjust as needed\n",
        "    ]\n",
        ")\n"
      ],
      "metadata": {
        "id": "p5hPDaHeNTgd"
      },
      "execution_count": 164,
      "outputs": []
    },
    {
      "cell_type": "code",
      "source": [
        "TRAIN_EVAL_SPLIT_SIZE = 7000"
      ],
      "metadata": {
        "id": "TdPrYtB8NjHU"
      },
      "execution_count": 165,
      "outputs": []
    },
    {
      "cell_type": "code",
      "source": [
        "sample_raw_df = raw_df.sample(10000, random_state=42)"
      ],
      "metadata": {
        "id": "emOCJieMQBD7"
      },
      "execution_count": 183,
      "outputs": []
    },
    {
      "cell_type": "code",
      "source": [
        "# Split the data into training and testing sets\n",
        "X_train = sample_raw_df.Phrase[:TRAIN_EVAL_SPLIT_SIZE]\n",
        "y_train = sample_raw_df.Sentiment[:TRAIN_EVAL_SPLIT_SIZE]"
      ],
      "metadata": {
        "id": "z7moLoXNNTd9"
      },
      "execution_count": 166,
      "outputs": []
    },
    {
      "cell_type": "code",
      "source": [
        "X_train.shape, y_train.shape"
      ],
      "metadata": {
        "colab": {
          "base_uri": "https://localhost:8080/"
        },
        "id": "IRLAEmmsOHry",
        "outputId": "280c9684-db5c-4a52-d423-a8e989c9572e"
      },
      "execution_count": 167,
      "outputs": [
        {
          "output_type": "execute_result",
          "data": {
            "text/plain": [
              "((7000,), (7000,))"
            ]
          },
          "metadata": {},
          "execution_count": 167
        }
      ]
    },
    {
      "cell_type": "code",
      "source": [
        "# Fit the model\n",
        "pipeline.fit(X_train, y_train)"
      ],
      "metadata": {
        "colab": {
          "base_uri": "https://localhost:8080/",
          "height": 248
        },
        "id": "dPWK4izANTbu",
        "outputId": "229c0734-10e4-4f98-ac09-5f7473ee32c9"
      },
      "execution_count": 168,
      "outputs": [
        {
          "output_type": "stream",
          "name": "stderr",
          "text": [
            "/usr/local/lib/python3.10/dist-packages/sklearn/feature_extraction/text.py:528: UserWarning: The parameter 'token_pattern' will not be used since 'tokenizer' is not None'\n",
            "  warnings.warn(\n",
            "/usr/local/lib/python3.10/dist-packages/sklearn/feature_extraction/text.py:409: UserWarning: Your stop_words may be inconsistent with your preprocessing. Tokenizing the stop words generated tokens ['abov', 'ani', 'becaus', 'befor', 'doe', 'dure', 'movi', 'onc', 'ourselv', 'themselv', 'whi', 'yourselv'] not in stop_words.\n",
            "  warnings.warn(\n"
          ]
        },
        {
          "output_type": "execute_result",
          "data": {
            "text/plain": [
              "Pipeline(steps=[('vect',\n",
              "                 TfidfVectorizer(max_features=2000, ngram_range=(1, 2),\n",
              "                                 stop_words=['i', 'me', 'my', 'myself', 'we',\n",
              "                                             'our', 'ours', 'ourselves', 'you',\n",
              "                                             \"you're\", \"you've\", \"you'll\",\n",
              "                                             \"you'd\", 'your', 'yours',\n",
              "                                             'yourself', 'yourselves', 'he',\n",
              "                                             'him', 'his', 'himself', 'she',\n",
              "                                             \"she's\", 'her', 'hers', 'herself',\n",
              "                                             'it', \"it's\", 'its', 'itself', ...],\n",
              "                                 tokenizer=<function tokenize at 0x7f7d0543add0>)),\n",
              "                ('pca', TruncatedSVD(n_components=50)),\n",
              "                ('clf', RandomForestClassifier())])"
            ],
            "text/html": [
              "<style>#sk-container-id-11 {color: black;background-color: white;}#sk-container-id-11 pre{padding: 0;}#sk-container-id-11 div.sk-toggleable {background-color: white;}#sk-container-id-11 label.sk-toggleable__label {cursor: pointer;display: block;width: 100%;margin-bottom: 0;padding: 0.3em;box-sizing: border-box;text-align: center;}#sk-container-id-11 label.sk-toggleable__label-arrow:before {content: \"▸\";float: left;margin-right: 0.25em;color: #696969;}#sk-container-id-11 label.sk-toggleable__label-arrow:hover:before {color: black;}#sk-container-id-11 div.sk-estimator:hover label.sk-toggleable__label-arrow:before {color: black;}#sk-container-id-11 div.sk-toggleable__content {max-height: 0;max-width: 0;overflow: hidden;text-align: left;background-color: #f0f8ff;}#sk-container-id-11 div.sk-toggleable__content pre {margin: 0.2em;color: black;border-radius: 0.25em;background-color: #f0f8ff;}#sk-container-id-11 input.sk-toggleable__control:checked~div.sk-toggleable__content {max-height: 200px;max-width: 100%;overflow: auto;}#sk-container-id-11 input.sk-toggleable__control:checked~label.sk-toggleable__label-arrow:before {content: \"▾\";}#sk-container-id-11 div.sk-estimator input.sk-toggleable__control:checked~label.sk-toggleable__label {background-color: #d4ebff;}#sk-container-id-11 div.sk-label input.sk-toggleable__control:checked~label.sk-toggleable__label {background-color: #d4ebff;}#sk-container-id-11 input.sk-hidden--visually {border: 0;clip: rect(1px 1px 1px 1px);clip: rect(1px, 1px, 1px, 1px);height: 1px;margin: -1px;overflow: hidden;padding: 0;position: absolute;width: 1px;}#sk-container-id-11 div.sk-estimator {font-family: monospace;background-color: #f0f8ff;border: 1px dotted black;border-radius: 0.25em;box-sizing: border-box;margin-bottom: 0.5em;}#sk-container-id-11 div.sk-estimator:hover {background-color: #d4ebff;}#sk-container-id-11 div.sk-parallel-item::after {content: \"\";width: 100%;border-bottom: 1px solid gray;flex-grow: 1;}#sk-container-id-11 div.sk-label:hover label.sk-toggleable__label {background-color: #d4ebff;}#sk-container-id-11 div.sk-serial::before {content: \"\";position: absolute;border-left: 1px solid gray;box-sizing: border-box;top: 0;bottom: 0;left: 50%;z-index: 0;}#sk-container-id-11 div.sk-serial {display: flex;flex-direction: column;align-items: center;background-color: white;padding-right: 0.2em;padding-left: 0.2em;position: relative;}#sk-container-id-11 div.sk-item {position: relative;z-index: 1;}#sk-container-id-11 div.sk-parallel {display: flex;align-items: stretch;justify-content: center;background-color: white;position: relative;}#sk-container-id-11 div.sk-item::before, #sk-container-id-11 div.sk-parallel-item::before {content: \"\";position: absolute;border-left: 1px solid gray;box-sizing: border-box;top: 0;bottom: 0;left: 50%;z-index: -1;}#sk-container-id-11 div.sk-parallel-item {display: flex;flex-direction: column;z-index: 1;position: relative;background-color: white;}#sk-container-id-11 div.sk-parallel-item:first-child::after {align-self: flex-end;width: 50%;}#sk-container-id-11 div.sk-parallel-item:last-child::after {align-self: flex-start;width: 50%;}#sk-container-id-11 div.sk-parallel-item:only-child::after {width: 0;}#sk-container-id-11 div.sk-dashed-wrapped {border: 1px dashed gray;margin: 0 0.4em 0.5em 0.4em;box-sizing: border-box;padding-bottom: 0.4em;background-color: white;}#sk-container-id-11 div.sk-label label {font-family: monospace;font-weight: bold;display: inline-block;line-height: 1.2em;}#sk-container-id-11 div.sk-label-container {text-align: center;}#sk-container-id-11 div.sk-container {/* jupyter's `normalize.less` sets `[hidden] { display: none; }` but bootstrap.min.css set `[hidden] { display: none !important; }` so we also need the `!important` here to be able to override the default hidden behavior on the sphinx rendered scikit-learn.org. See: https://github.com/scikit-learn/scikit-learn/issues/21755 */display: inline-block !important;position: relative;}#sk-container-id-11 div.sk-text-repr-fallback {display: none;}</style><div id=\"sk-container-id-11\" class=\"sk-top-container\"><div class=\"sk-text-repr-fallback\"><pre>Pipeline(steps=[(&#x27;vect&#x27;,\n",
              "                 TfidfVectorizer(max_features=2000, ngram_range=(1, 2),\n",
              "                                 stop_words=[&#x27;i&#x27;, &#x27;me&#x27;, &#x27;my&#x27;, &#x27;myself&#x27;, &#x27;we&#x27;,\n",
              "                                             &#x27;our&#x27;, &#x27;ours&#x27;, &#x27;ourselves&#x27;, &#x27;you&#x27;,\n",
              "                                             &quot;you&#x27;re&quot;, &quot;you&#x27;ve&quot;, &quot;you&#x27;ll&quot;,\n",
              "                                             &quot;you&#x27;d&quot;, &#x27;your&#x27;, &#x27;yours&#x27;,\n",
              "                                             &#x27;yourself&#x27;, &#x27;yourselves&#x27;, &#x27;he&#x27;,\n",
              "                                             &#x27;him&#x27;, &#x27;his&#x27;, &#x27;himself&#x27;, &#x27;she&#x27;,\n",
              "                                             &quot;she&#x27;s&quot;, &#x27;her&#x27;, &#x27;hers&#x27;, &#x27;herself&#x27;,\n",
              "                                             &#x27;it&#x27;, &quot;it&#x27;s&quot;, &#x27;its&#x27;, &#x27;itself&#x27;, ...],\n",
              "                                 tokenizer=&lt;function tokenize at 0x7f7d0543add0&gt;)),\n",
              "                (&#x27;pca&#x27;, TruncatedSVD(n_components=50)),\n",
              "                (&#x27;clf&#x27;, RandomForestClassifier())])</pre><b>In a Jupyter environment, please rerun this cell to show the HTML representation or trust the notebook. <br />On GitHub, the HTML representation is unable to render, please try loading this page with nbviewer.org.</b></div><div class=\"sk-container\" hidden><div class=\"sk-item sk-dashed-wrapped\"><div class=\"sk-label-container\"><div class=\"sk-label sk-toggleable\"><input class=\"sk-toggleable__control sk-hidden--visually\" id=\"sk-estimator-id-27\" type=\"checkbox\" ><label for=\"sk-estimator-id-27\" class=\"sk-toggleable__label sk-toggleable__label-arrow\">Pipeline</label><div class=\"sk-toggleable__content\"><pre>Pipeline(steps=[(&#x27;vect&#x27;,\n",
              "                 TfidfVectorizer(max_features=2000, ngram_range=(1, 2),\n",
              "                                 stop_words=[&#x27;i&#x27;, &#x27;me&#x27;, &#x27;my&#x27;, &#x27;myself&#x27;, &#x27;we&#x27;,\n",
              "                                             &#x27;our&#x27;, &#x27;ours&#x27;, &#x27;ourselves&#x27;, &#x27;you&#x27;,\n",
              "                                             &quot;you&#x27;re&quot;, &quot;you&#x27;ve&quot;, &quot;you&#x27;ll&quot;,\n",
              "                                             &quot;you&#x27;d&quot;, &#x27;your&#x27;, &#x27;yours&#x27;,\n",
              "                                             &#x27;yourself&#x27;, &#x27;yourselves&#x27;, &#x27;he&#x27;,\n",
              "                                             &#x27;him&#x27;, &#x27;his&#x27;, &#x27;himself&#x27;, &#x27;she&#x27;,\n",
              "                                             &quot;she&#x27;s&quot;, &#x27;her&#x27;, &#x27;hers&#x27;, &#x27;herself&#x27;,\n",
              "                                             &#x27;it&#x27;, &quot;it&#x27;s&quot;, &#x27;its&#x27;, &#x27;itself&#x27;, ...],\n",
              "                                 tokenizer=&lt;function tokenize at 0x7f7d0543add0&gt;)),\n",
              "                (&#x27;pca&#x27;, TruncatedSVD(n_components=50)),\n",
              "                (&#x27;clf&#x27;, RandomForestClassifier())])</pre></div></div></div><div class=\"sk-serial\"><div class=\"sk-item\"><div class=\"sk-estimator sk-toggleable\"><input class=\"sk-toggleable__control sk-hidden--visually\" id=\"sk-estimator-id-28\" type=\"checkbox\" ><label for=\"sk-estimator-id-28\" class=\"sk-toggleable__label sk-toggleable__label-arrow\">TfidfVectorizer</label><div class=\"sk-toggleable__content\"><pre>TfidfVectorizer(max_features=2000, ngram_range=(1, 2),\n",
              "                stop_words=[&#x27;i&#x27;, &#x27;me&#x27;, &#x27;my&#x27;, &#x27;myself&#x27;, &#x27;we&#x27;, &#x27;our&#x27;, &#x27;ours&#x27;,\n",
              "                            &#x27;ourselves&#x27;, &#x27;you&#x27;, &quot;you&#x27;re&quot;, &quot;you&#x27;ve&quot;, &quot;you&#x27;ll&quot;,\n",
              "                            &quot;you&#x27;d&quot;, &#x27;your&#x27;, &#x27;yours&#x27;, &#x27;yourself&#x27;, &#x27;yourselves&#x27;,\n",
              "                            &#x27;he&#x27;, &#x27;him&#x27;, &#x27;his&#x27;, &#x27;himself&#x27;, &#x27;she&#x27;, &quot;she&#x27;s&quot;,\n",
              "                            &#x27;her&#x27;, &#x27;hers&#x27;, &#x27;herself&#x27;, &#x27;it&#x27;, &quot;it&#x27;s&quot;, &#x27;its&#x27;,\n",
              "                            &#x27;itself&#x27;, ...],\n",
              "                tokenizer=&lt;function tokenize at 0x7f7d0543add0&gt;)</pre></div></div></div><div class=\"sk-item\"><div class=\"sk-estimator sk-toggleable\"><input class=\"sk-toggleable__control sk-hidden--visually\" id=\"sk-estimator-id-29\" type=\"checkbox\" ><label for=\"sk-estimator-id-29\" class=\"sk-toggleable__label sk-toggleable__label-arrow\">TruncatedSVD</label><div class=\"sk-toggleable__content\"><pre>TruncatedSVD(n_components=50)</pre></div></div></div><div class=\"sk-item\"><div class=\"sk-estimator sk-toggleable\"><input class=\"sk-toggleable__control sk-hidden--visually\" id=\"sk-estimator-id-30\" type=\"checkbox\" ><label for=\"sk-estimator-id-30\" class=\"sk-toggleable__label sk-toggleable__label-arrow\">RandomForestClassifier</label><div class=\"sk-toggleable__content\"><pre>RandomForestClassifier()</pre></div></div></div></div></div></div></div>"
            ]
          },
          "metadata": {},
          "execution_count": 168
        }
      ]
    },
    {
      "cell_type": "code",
      "source": [
        "test_preds = pipeline.predict(test_df.Phrase)\n"
      ],
      "metadata": {
        "id": "Usr_HYs-O_00"
      },
      "execution_count": 177,
      "outputs": []
    },
    {
      "cell_type": "code",
      "source": [
        "test_preds"
      ],
      "metadata": {
        "colab": {
          "base_uri": "https://localhost:8080/"
        },
        "id": "h-jWiMiiPMb0",
        "outputId": "c974d15f-c732-48bf-9e17-019957bf81ef"
      },
      "execution_count": 178,
      "outputs": [
        {
          "output_type": "execute_result",
          "data": {
            "text/plain": [
              "array([2, 2, 2, ..., 2, 2, 1])"
            ]
          },
          "metadata": {},
          "execution_count": 178
        }
      ]
    },
    {
      "cell_type": "code",
      "source": [
        "submission_df = submission_df.drop('Sentiment', axis=1)\n"
      ],
      "metadata": {
        "id": "LwhM5ZMcO5zD"
      },
      "execution_count": 180,
      "outputs": []
    },
    {
      "cell_type": "code",
      "source": [
        "submission_df['Sentiment']  = test_preds"
      ],
      "metadata": {
        "id": "GTHi2N_rOq9q"
      },
      "execution_count": 181,
      "outputs": []
    },
    {
      "cell_type": "code",
      "source": [
        "submission_df.to_csv('submission3.csv', index=None)"
      ],
      "metadata": {
        "id": "RfHmI4ACPl-s"
      },
      "execution_count": 182,
      "outputs": []
    },
    {
      "cell_type": "markdown",
      "metadata": {
        "id": "S8WnmO8SDopQ",
        "outputId": "ad27a3ba-b6e9-4675-9b20-0e338f3fcf8d"
      },
      "source": [
        "### Model 3 - Complement Naive Bayes\n",
        "\n",
        "![image.png](data:image/png;base64,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)"
      ]
    },
    {
      "cell_type": "code",
      "source": [],
      "metadata": {
        "id": "m5tYw1VV5Fuy"
      },
      "execution_count": null,
      "outputs": []
    },
    {
      "cell_type": "code",
      "execution_count": 57,
      "metadata": {
        "id": "FuRhZQJqDomm"
      },
      "outputs": [],
      "source": [
        "from sklearn.naive_bayes import ComplementNB\n",
        "from sklearn.pipeline import Pipeline"
      ]
    },
    {
      "cell_type": "code",
      "execution_count": 63,
      "metadata": {
        "id": "1FyiLUvLDojw",
        "colab": {
          "base_uri": "https://localhost:8080/",
          "height": 124
        },
        "outputId": "ef2186b6-f211-466b-c0ea-dab746fc5051"
      },
      "outputs": [
        {
          "output_type": "execute_result",
          "data": {
            "text/plain": [
              "Pipeline(steps=[('vect', TfidfVectorizer()), ('clf', ComplementNB())])"
            ],
            "text/html": [
              "<style>#sk-container-id-4 {color: black;background-color: white;}#sk-container-id-4 pre{padding: 0;}#sk-container-id-4 div.sk-toggleable {background-color: white;}#sk-container-id-4 label.sk-toggleable__label {cursor: pointer;display: block;width: 100%;margin-bottom: 0;padding: 0.3em;box-sizing: border-box;text-align: center;}#sk-container-id-4 label.sk-toggleable__label-arrow:before {content: \"▸\";float: left;margin-right: 0.25em;color: #696969;}#sk-container-id-4 label.sk-toggleable__label-arrow:hover:before {color: black;}#sk-container-id-4 div.sk-estimator:hover label.sk-toggleable__label-arrow:before {color: black;}#sk-container-id-4 div.sk-toggleable__content {max-height: 0;max-width: 0;overflow: hidden;text-align: left;background-color: #f0f8ff;}#sk-container-id-4 div.sk-toggleable__content pre {margin: 0.2em;color: black;border-radius: 0.25em;background-color: #f0f8ff;}#sk-container-id-4 input.sk-toggleable__control:checked~div.sk-toggleable__content {max-height: 200px;max-width: 100%;overflow: auto;}#sk-container-id-4 input.sk-toggleable__control:checked~label.sk-toggleable__label-arrow:before {content: \"▾\";}#sk-container-id-4 div.sk-estimator input.sk-toggleable__control:checked~label.sk-toggleable__label {background-color: #d4ebff;}#sk-container-id-4 div.sk-label input.sk-toggleable__control:checked~label.sk-toggleable__label {background-color: #d4ebff;}#sk-container-id-4 input.sk-hidden--visually {border: 0;clip: rect(1px 1px 1px 1px);clip: rect(1px, 1px, 1px, 1px);height: 1px;margin: -1px;overflow: hidden;padding: 0;position: absolute;width: 1px;}#sk-container-id-4 div.sk-estimator {font-family: monospace;background-color: #f0f8ff;border: 1px dotted black;border-radius: 0.25em;box-sizing: border-box;margin-bottom: 0.5em;}#sk-container-id-4 div.sk-estimator:hover {background-color: #d4ebff;}#sk-container-id-4 div.sk-parallel-item::after {content: \"\";width: 100%;border-bottom: 1px solid gray;flex-grow: 1;}#sk-container-id-4 div.sk-label:hover label.sk-toggleable__label {background-color: #d4ebff;}#sk-container-id-4 div.sk-serial::before {content: \"\";position: absolute;border-left: 1px solid gray;box-sizing: border-box;top: 0;bottom: 0;left: 50%;z-index: 0;}#sk-container-id-4 div.sk-serial {display: flex;flex-direction: column;align-items: center;background-color: white;padding-right: 0.2em;padding-left: 0.2em;position: relative;}#sk-container-id-4 div.sk-item {position: relative;z-index: 1;}#sk-container-id-4 div.sk-parallel {display: flex;align-items: stretch;justify-content: center;background-color: white;position: relative;}#sk-container-id-4 div.sk-item::before, #sk-container-id-4 div.sk-parallel-item::before {content: \"\";position: absolute;border-left: 1px solid gray;box-sizing: border-box;top: 0;bottom: 0;left: 50%;z-index: -1;}#sk-container-id-4 div.sk-parallel-item {display: flex;flex-direction: column;z-index: 1;position: relative;background-color: white;}#sk-container-id-4 div.sk-parallel-item:first-child::after {align-self: flex-end;width: 50%;}#sk-container-id-4 div.sk-parallel-item:last-child::after {align-self: flex-start;width: 50%;}#sk-container-id-4 div.sk-parallel-item:only-child::after {width: 0;}#sk-container-id-4 div.sk-dashed-wrapped {border: 1px dashed gray;margin: 0 0.4em 0.5em 0.4em;box-sizing: border-box;padding-bottom: 0.4em;background-color: white;}#sk-container-id-4 div.sk-label label {font-family: monospace;font-weight: bold;display: inline-block;line-height: 1.2em;}#sk-container-id-4 div.sk-label-container {text-align: center;}#sk-container-id-4 div.sk-container {/* jupyter's `normalize.less` sets `[hidden] { display: none; }` but bootstrap.min.css set `[hidden] { display: none !important; }` so we also need the `!important` here to be able to override the default hidden behavior on the sphinx rendered scikit-learn.org. See: https://github.com/scikit-learn/scikit-learn/issues/21755 */display: inline-block !important;position: relative;}#sk-container-id-4 div.sk-text-repr-fallback {display: none;}</style><div id=\"sk-container-id-4\" class=\"sk-top-container\"><div class=\"sk-text-repr-fallback\"><pre>Pipeline(steps=[(&#x27;vect&#x27;, TfidfVectorizer()), (&#x27;clf&#x27;, ComplementNB())])</pre><b>In a Jupyter environment, please rerun this cell to show the HTML representation or trust the notebook. <br />On GitHub, the HTML representation is unable to render, please try loading this page with nbviewer.org.</b></div><div class=\"sk-container\" hidden><div class=\"sk-item sk-dashed-wrapped\"><div class=\"sk-label-container\"><div class=\"sk-label sk-toggleable\"><input class=\"sk-toggleable__control sk-hidden--visually\" id=\"sk-estimator-id-6\" type=\"checkbox\" ><label for=\"sk-estimator-id-6\" class=\"sk-toggleable__label sk-toggleable__label-arrow\">Pipeline</label><div class=\"sk-toggleable__content\"><pre>Pipeline(steps=[(&#x27;vect&#x27;, TfidfVectorizer()), (&#x27;clf&#x27;, ComplementNB())])</pre></div></div></div><div class=\"sk-serial\"><div class=\"sk-item\"><div class=\"sk-estimator sk-toggleable\"><input class=\"sk-toggleable__control sk-hidden--visually\" id=\"sk-estimator-id-7\" type=\"checkbox\" ><label for=\"sk-estimator-id-7\" class=\"sk-toggleable__label sk-toggleable__label-arrow\">TfidfVectorizer</label><div class=\"sk-toggleable__content\"><pre>TfidfVectorizer()</pre></div></div></div><div class=\"sk-item\"><div class=\"sk-estimator sk-toggleable\"><input class=\"sk-toggleable__control sk-hidden--visually\" id=\"sk-estimator-id-8\" type=\"checkbox\" ><label for=\"sk-estimator-id-8\" class=\"sk-toggleable__label sk-toggleable__label-arrow\">ComplementNB</label><div class=\"sk-toggleable__content\"><pre>ComplementNB()</pre></div></div></div></div></div></div></div>"
            ]
          },
          "metadata": {},
          "execution_count": 63
        }
      ],
      "source": [
        "pipeline = Pipeline(\n",
        "    [\n",
        "        (\"vect\", TfidfVectorizer()),\n",
        "        (\"clf\", ComplementNB()),\n",
        "    ]\n",
        ")\n",
        "pipeline"
      ]
    },
    {
      "cell_type": "code",
      "execution_count": 64,
      "metadata": {
        "id": "uGvDA1JJFkjF"
      },
      "outputs": [],
      "source": [
        "import numpy as np\n",
        "\n",
        "parameter_grid = {\n",
        "    \"vect__max_df\": (0.2, 0.4, 0.6, 0.8, 1.0),\n",
        "    \"vect__min_df\": (1, 3, 5, 10),\n",
        "    \"vect__ngram_range\": ((1, 1), (1, 2)),  # unigrams or bigrams\n",
        "    \"vect__norm\": (\"l1\", \"l2\"),\n",
        "    \"clf__alpha\": np.logspace(-6, 6, 13),\n",
        "}"
      ]
    },
    {
      "cell_type": "code",
      "source": [
        "from pprint import pprint\n",
        "\n",
        "from sklearn.model_selection import RandomizedSearchCV\n",
        "\n",
        "random_search = RandomizedSearchCV(\n",
        "    estimator=pipeline,\n",
        "    param_distributions=parameter_grid,\n",
        "    n_iter=40,\n",
        "    random_state=0,\n",
        "    n_jobs=2,\n",
        "    verbose=1,\n",
        ")\n",
        "\n",
        "print(\"Performing grid search...\")\n",
        "print(\"Hyperparameters to be evaluated:\")\n",
        "pprint(parameter_grid)"
      ],
      "metadata": {
        "colab": {
          "base_uri": "https://localhost:8080/"
        },
        "id": "Tndn4QayekvE",
        "outputId": "ca7db568-dc59-4515-ab5d-6d8c26641714"
      },
      "execution_count": 85,
      "outputs": [
        {
          "output_type": "stream",
          "name": "stdout",
          "text": [
            "Performing grid search...\n",
            "Hyperparameters to be evaluated:\n",
            "{'clf__alpha': array([1.e-06, 1.e-05, 1.e-04, 1.e-03, 1.e-02, 1.e-01, 1.e+00, 1.e+01,\n",
            "       1.e+02, 1.e+03, 1.e+04, 1.e+05, 1.e+06]),\n",
            " 'vect__max_df': (0.2, 0.4, 0.6, 0.8, 1.0),\n",
            " 'vect__min_df': (1, 3, 5, 10),\n",
            " 'vect__ngram_range': ((1, 1), (1, 2)),\n",
            " 'vect__norm': ('l1', 'l2')}\n"
          ]
        }
      ]
    },
    {
      "cell_type": "code",
      "source": [
        "from time import time\n",
        "\n",
        "t0 = time()\n",
        "random_search.fit(raw_df.Phrase, raw_df.Sentiment)\n",
        "print(f\"Done in {time() - t0:.3f}s\")"
      ],
      "metadata": {
        "id": "1epTEMTrekrk",
        "colab": {
          "base_uri": "https://localhost:8080/"
        },
        "outputId": "f17cee7e-71f1-475e-c9b3-466878a84f87"
      },
      "execution_count": 67,
      "outputs": [
        {
          "output_type": "stream",
          "name": "stdout",
          "text": [
            "Fitting 5 folds for each of 40 candidates, totalling 200 fits\n",
            "Done in 505.294s\n"
          ]
        }
      ]
    },
    {
      "cell_type": "code",
      "source": [
        "print(\"Best parameters combination found:\")\n",
        "best_parameters = random_search.best_estimator_.get_params()\n",
        "for param_name in sorted(parameter_grid.keys()):\n",
        "    print(f\"{param_name}: {best_parameters[param_name]}\")"
      ],
      "metadata": {
        "id": "Q8X9vy1aekpM",
        "colab": {
          "base_uri": "https://localhost:8080/"
        },
        "outputId": "21e0ee14-23d1-42a2-892a-60399edff52a"
      },
      "execution_count": 68,
      "outputs": [
        {
          "output_type": "stream",
          "name": "stdout",
          "text": [
            "Best parameters combination found:\n",
            "clf__alpha: 1.0\n",
            "vect__max_df: 0.4\n",
            "vect__min_df: 5\n",
            "vect__ngram_range: (1, 2)\n",
            "vect__norm: l1\n"
          ]
        }
      ]
    },
    {
      "cell_type": "code",
      "source": [
        "best_model = random_search.best_estimator_"
      ],
      "metadata": {
        "id": "I380G8V903-v"
      },
      "execution_count": 71,
      "outputs": []
    },
    {
      "cell_type": "code",
      "source": [
        "test_preds = best_model.predict(test_df.Phrase)"
      ],
      "metadata": {
        "id": "sacMrg_y033k"
      },
      "execution_count": 73,
      "outputs": []
    },
    {
      "cell_type": "code",
      "source": [],
      "metadata": {
        "colab": {
          "base_uri": "https://localhost:8080/"
        },
        "id": "nKpl1WQL03vo",
        "outputId": "3a778998-b995-4bd4-88e2-2936b94d2c68"
      },
      "execution_count": 75,
      "outputs": [
        {
          "output_type": "execute_result",
          "data": {
            "text/plain": [
              "array([3, 3, 3, ..., 1, 1, 1])"
            ]
          },
          "metadata": {},
          "execution_count": 75
        }
      ]
    },
    {
      "cell_type": "code",
      "source": [
        "test_accuracy = random_search.score(test_df.Phrase, test_preds)\n",
        "print(\n",
        "    \"Accuracy of the best parameters using the inner CV of \"\n",
        "    f\"the random search: {random_search.best_score_:.3f}\"\n",
        ")\n",
        "print(f\"Accuracy on test set: {test_accuracy:.3f}\")"
      ],
      "metadata": {
        "id": "pBfnHRWjeknb",
        "colab": {
          "base_uri": "https://localhost:8080/"
        },
        "outputId": "83eda8fd-eb03-43e5-bddc-7ef0c61ecc98"
      },
      "execution_count": 77,
      "outputs": [
        {
          "output_type": "stream",
          "name": "stdout",
          "text": [
            "Accuracy of the best parameters using the inner CV of the random search: 0.489\n",
            "Accuracy on test set: 1.000\n"
          ]
        }
      ]
    },
    {
      "cell_type": "code",
      "source": [
        "submission_df = submission_df.drop('Sentiment', axis=1)"
      ],
      "metadata": {
        "id": "gL4SRPYYekky"
      },
      "execution_count": 78,
      "outputs": []
    },
    {
      "cell_type": "code",
      "source": [
        "submission_df['Sentiment']  = test_preds"
      ],
      "metadata": {
        "id": "p2UqJJwb17ss"
      },
      "execution_count": 79,
      "outputs": []
    },
    {
      "cell_type": "code",
      "source": [
        "submission_df.to_csv('submission2.csv', index=None)"
      ],
      "metadata": {
        "id": "1oex63sH17pF"
      },
      "execution_count": 81,
      "outputs": []
    },
    {
      "cell_type": "markdown",
      "metadata": {
        "id": "wcqmOgu2wyWT"
      },
      "source": [
        "Best Model:\n",
        "\n",
        "Logistic Regression\n",
        "\n",
        "![image.png](data:image/png;base64,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)(including Kaggle score screenshot)"
      ]
    },
    {
      "cell_type": "markdown",
      "metadata": {
        "id": "zhVGx0VZe6Gg"
      },
      "source": [
        "## Submission and Future Work\n",
        "\n",
        "\n",
        "How to make a submission:\n",
        "\n",
        "- Add documentation and explanations\n",
        "- Clean up any stray code/comments\n",
        "- Include a screenshot of your best score\n",
        "- Make a submission on the assignment page\n",
        "- Review evaluation criteria carefully\n",
        "\n",
        "\n",
        "Future work:\n",
        "- Try more machine learning models\n",
        "- Try configuring CountVectorizer differently\n",
        "- Try approaches other than bag of words\n"
      ]
    },
    {
      "cell_type": "code",
      "execution_count": null,
      "metadata": {
        "id": "NnARQ3CNwyWT"
      },
      "outputs": [],
      "source": []
    }
  ],
  "metadata": {
    "colab": {
      "provenance": []
    },
    "kernelspec": {
      "display_name": "Python 3",
      "name": "python3"
    },
    "language_info": {
      "codemirror_mode": {
        "name": "ipython",
        "version": 3
      },
      "file_extension": ".py",
      "mimetype": "text/x-python",
      "name": "python",
      "nbconvert_exporter": "python",
      "pygments_lexer": "ipython3",
      "version": "3.9.6"
    }
  },
  "nbformat": 4,
  "nbformat_minor": 0
}