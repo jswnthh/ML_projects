{
 "cells": [
  {
   "cell_type": "code",
   "execution_count": 20,
   "id": "58366a81",
   "metadata": {},
   "outputs": [],
   "source": [
    "import pandas as pd\n",
    "import numpy as np"
   ]
  },
  {
   "cell_type": "code",
   "execution_count": 2,
   "id": "fb655cfc",
   "metadata": {},
   "outputs": [],
   "source": [
    "df = pd.read_csv('spam.csv')"
   ]
  },
  {
   "cell_type": "code",
   "execution_count": 21,
   "id": "0b54c470",
   "metadata": {},
   "outputs": [
    {
     "data": {
      "text/html": [
       "<div>\n",
       "<style scoped>\n",
       "    .dataframe tbody tr th:only-of-type {\n",
       "        vertical-align: middle;\n",
       "    }\n",
       "\n",
       "    .dataframe tbody tr th {\n",
       "        vertical-align: top;\n",
       "    }\n",
       "\n",
       "    .dataframe thead th {\n",
       "        text-align: right;\n",
       "    }\n",
       "</style>\n",
       "<table border=\"1\" class=\"dataframe\">\n",
       "  <thead>\n",
       "    <tr style=\"text-align: right;\">\n",
       "      <th></th>\n",
       "      <th>Category</th>\n",
       "      <th>Message</th>\n",
       "    </tr>\n",
       "  </thead>\n",
       "  <tbody>\n",
       "    <tr>\n",
       "      <th>2741</th>\n",
       "      <td>ham</td>\n",
       "      <td>Nothing. Can...</td>\n",
       "    </tr>\n",
       "    <tr>\n",
       "      <th>4949</th>\n",
       "      <td>spam</td>\n",
       "      <td>Hi this is Amy, we will be sending you a free ...</td>\n",
       "    </tr>\n",
       "    <tr>\n",
       "      <th>77</th>\n",
       "      <td>ham</td>\n",
       "      <td>I like you peoples very much:) but am very shy...</td>\n",
       "    </tr>\n",
       "    <tr>\n",
       "      <th>273</th>\n",
       "      <td>spam</td>\n",
       "      <td>HMV BONUS SPECIAL 500 pounds of genuine HMV vo...</td>\n",
       "    </tr>\n",
       "    <tr>\n",
       "      <th>5415</th>\n",
       "      <td>ham</td>\n",
       "      <td>You should get more chicken broth if you want ...</td>\n",
       "    </tr>\n",
       "    <tr>\n",
       "      <th>1200</th>\n",
       "      <td>ham</td>\n",
       "      <td>NEFT Transaction with reference number  &amp;lt;#&amp;...</td>\n",
       "    </tr>\n",
       "    <tr>\n",
       "      <th>5058</th>\n",
       "      <td>ham</td>\n",
       "      <td>Hey next sun 1030 there's a basic yoga course....</td>\n",
       "    </tr>\n",
       "    <tr>\n",
       "      <th>212</th>\n",
       "      <td>ham</td>\n",
       "      <td>Home so we can always chat</td>\n",
       "    </tr>\n",
       "    <tr>\n",
       "      <th>5032</th>\n",
       "      <td>ham</td>\n",
       "      <td>Hey... Very inconvenient for your sis a not huh?</td>\n",
       "    </tr>\n",
       "    <tr>\n",
       "      <th>2948</th>\n",
       "      <td>ham</td>\n",
       "      <td>Leave it. U will always be ignorant.</td>\n",
       "    </tr>\n",
       "    <tr>\n",
       "      <th>2470</th>\n",
       "      <td>ham</td>\n",
       "      <td>* Am on my way</td>\n",
       "    </tr>\n",
       "    <tr>\n",
       "      <th>4522</th>\n",
       "      <td>ham</td>\n",
       "      <td>Hi good mornin.. Thanku wish u d same..</td>\n",
       "    </tr>\n",
       "    <tr>\n",
       "      <th>4395</th>\n",
       "      <td>ham</td>\n",
       "      <td>Baaaaaaaabe! Wake up ! I miss you ! I crave yo...</td>\n",
       "    </tr>\n",
       "    <tr>\n",
       "      <th>3296</th>\n",
       "      <td>ham</td>\n",
       "      <td>Dunno lei ü all decide lor. How abt leona? Oop...</td>\n",
       "    </tr>\n",
       "    <tr>\n",
       "      <th>4132</th>\n",
       "      <td>ham</td>\n",
       "      <td>Its Ur luck to Love someone. Its Ur fortune to...</td>\n",
       "    </tr>\n",
       "  </tbody>\n",
       "</table>\n",
       "</div>"
      ],
      "text/plain": [
       "     Category                                            Message\n",
       "2741      ham                                    Nothing. Can...\n",
       "4949     spam  Hi this is Amy, we will be sending you a free ...\n",
       "77        ham  I like you peoples very much:) but am very shy...\n",
       "273      spam  HMV BONUS SPECIAL 500 pounds of genuine HMV vo...\n",
       "5415      ham  You should get more chicken broth if you want ...\n",
       "1200      ham  NEFT Transaction with reference number  &lt;#&...\n",
       "5058      ham  Hey next sun 1030 there's a basic yoga course....\n",
       "212       ham                         Home so we can always chat\n",
       "5032      ham   Hey... Very inconvenient for your sis a not huh?\n",
       "2948      ham               Leave it. U will always be ignorant.\n",
       "2470      ham                                     * Am on my way\n",
       "4522      ham            Hi good mornin.. Thanku wish u d same..\n",
       "4395      ham  Baaaaaaaabe! Wake up ! I miss you ! I crave yo...\n",
       "3296      ham  Dunno lei ü all decide lor. How abt leona? Oop...\n",
       "4132      ham  Its Ur luck to Love someone. Its Ur fortune to..."
      ]
     },
     "execution_count": 21,
     "metadata": {},
     "output_type": "execute_result"
    }
   ],
   "source": [
    "df.sample(15)"
   ]
  },
  {
   "cell_type": "markdown",
   "id": "05f294ee",
   "metadata": {},
   "source": [
    "- encode spam and ham; use lambda function\n",
    "- split training and testing\n",
    "- create bag of words(CountVectorizer from sklearn)\n",
    "- create Naive Bayes model\n",
    "- test \n",
    "- Evaluate"
   ]
  },
  {
   "cell_type": "markdown",
   "id": "18cb0c4d",
   "metadata": {},
   "source": [
    "# encode spam and ham; use lambda function"
   ]
  },
  {
   "cell_type": "code",
   "execution_count": 27,
   "id": "c42615a9",
   "metadata": {},
   "outputs": [],
   "source": [
    "codes = [lamda x: x in df[\"Category\"]]"
   ]
  },
  {
   "cell_type": "code",
   "execution_count": 40,
   "id": "6266a868",
   "metadata": {},
   "outputs": [
    {
     "data": {
      "text/plain": [
       "0    4825\n",
       "1     747\n",
       "Name: Codes, dtype: int64"
      ]
     },
     "execution_count": 40,
     "metadata": {},
     "output_type": "execute_result"
    }
   ],
   "source": [
    "df[\"Codes\"] = df['Category'].apply(lambda x: 1 if x == 'spam' else 0)\n",
    "df[\"Codes\"].value_counts()"
   ]
  },
  {
   "cell_type": "code",
   "execution_count": 44,
   "id": "bd141bb5",
   "metadata": {},
   "outputs": [
    {
     "data": {
      "text/html": [
       "<div>\n",
       "<style scoped>\n",
       "    .dataframe tbody tr th:only-of-type {\n",
       "        vertical-align: middle;\n",
       "    }\n",
       "\n",
       "    .dataframe tbody tr th {\n",
       "        vertical-align: top;\n",
       "    }\n",
       "\n",
       "    .dataframe thead th {\n",
       "        text-align: right;\n",
       "    }\n",
       "</style>\n",
       "<table border=\"1\" class=\"dataframe\">\n",
       "  <thead>\n",
       "    <tr style=\"text-align: right;\">\n",
       "      <th></th>\n",
       "      <th>Category</th>\n",
       "      <th>Message</th>\n",
       "      <th>Codes</th>\n",
       "    </tr>\n",
       "  </thead>\n",
       "  <tbody>\n",
       "    <tr>\n",
       "      <th>5394</th>\n",
       "      <td>ham</td>\n",
       "      <td>I dont know exactly could you ask chechi.</td>\n",
       "      <td>0</td>\n",
       "    </tr>\n",
       "    <tr>\n",
       "      <th>5127</th>\n",
       "      <td>ham</td>\n",
       "      <td>Cuz ibored. And don wanna study</td>\n",
       "      <td>0</td>\n",
       "    </tr>\n",
       "    <tr>\n",
       "      <th>2897</th>\n",
       "      <td>spam</td>\n",
       "      <td>pdate_Now - Double mins and 1000 txts on Orang...</td>\n",
       "      <td>1</td>\n",
       "    </tr>\n",
       "    <tr>\n",
       "      <th>4657</th>\n",
       "      <td>ham</td>\n",
       "      <td>K, I'll work something out</td>\n",
       "      <td>0</td>\n",
       "    </tr>\n",
       "    <tr>\n",
       "      <th>721</th>\n",
       "      <td>ham</td>\n",
       "      <td>Oh is it? Send me the address</td>\n",
       "      <td>0</td>\n",
       "    </tr>\n",
       "    <tr>\n",
       "      <th>3066</th>\n",
       "      <td>ham</td>\n",
       "      <td>Sounds good, keep me posted</td>\n",
       "      <td>0</td>\n",
       "    </tr>\n",
       "    <tr>\n",
       "      <th>5075</th>\n",
       "      <td>ham</td>\n",
       "      <td>I want to sent  &amp;lt;#&amp;gt; mesages today. Thats...</td>\n",
       "      <td>0</td>\n",
       "    </tr>\n",
       "    <tr>\n",
       "      <th>2860</th>\n",
       "      <td>ham</td>\n",
       "      <td>Do you know why god created gap between your f...</td>\n",
       "      <td>0</td>\n",
       "    </tr>\n",
       "    <tr>\n",
       "      <th>3090</th>\n",
       "      <td>ham</td>\n",
       "      <td>What Today-sunday..sunday is holiday..so no wo...</td>\n",
       "      <td>0</td>\n",
       "    </tr>\n",
       "    <tr>\n",
       "      <th>633</th>\n",
       "      <td>ham</td>\n",
       "      <td>Oh that was a forwarded message. I thought you...</td>\n",
       "      <td>0</td>\n",
       "    </tr>\n",
       "  </tbody>\n",
       "</table>\n",
       "</div>"
      ],
      "text/plain": [
       "     Category                                            Message  Codes\n",
       "5394      ham          I dont know exactly could you ask chechi.      0\n",
       "5127      ham                    Cuz ibored. And don wanna study      0\n",
       "2897     spam  pdate_Now - Double mins and 1000 txts on Orang...      1\n",
       "4657      ham                         K, I'll work something out      0\n",
       "721       ham                      Oh is it? Send me the address      0\n",
       "3066      ham                        Sounds good, keep me posted      0\n",
       "5075      ham  I want to sent  &lt;#&gt; mesages today. Thats...      0\n",
       "2860      ham  Do you know why god created gap between your f...      0\n",
       "3090      ham  What Today-sunday..sunday is holiday..so no wo...      0\n",
       "633       ham  Oh that was a forwarded message. I thought you...      0"
      ]
     },
     "execution_count": 44,
     "metadata": {},
     "output_type": "execute_result"
    }
   ],
   "source": [
    "df.sample(10)"
   ]
  },
  {
   "cell_type": "code",
   "execution_count": null,
   "id": "160c6f71",
   "metadata": {},
   "outputs": [],
   "source": []
  },
  {
   "cell_type": "markdown",
   "id": "75bf6a5e",
   "metadata": {},
   "source": [
    "# split training and testing"
   ]
  },
  {
   "cell_type": "code",
   "execution_count": 38,
   "id": "ab9d2479",
   "metadata": {},
   "outputs": [],
   "source": [
    "from sklearn.model_selection import train_test_split"
   ]
  },
  {
   "cell_type": "code",
   "execution_count": 142,
   "id": "c1ad8faa",
   "metadata": {},
   "outputs": [],
   "source": [
    "x, y = df.drop([\"Codes\", \"Category\"], axis=1), df[\"Codes\"]"
   ]
  },
  {
   "cell_type": "code",
   "execution_count": null,
   "id": "d4ba72bf",
   "metadata": {},
   "outputs": [],
   "source": []
  },
  {
   "cell_type": "code",
   "execution_count": null,
   "id": "eac9c17e",
   "metadata": {},
   "outputs": [],
   "source": []
  },
  {
   "cell_type": "code",
   "execution_count": 143,
   "id": "8603f04c",
   "metadata": {},
   "outputs": [],
   "source": [
    "x_train, x_test, y_train, y_test = train_test_split(x, y, test_size = 0.2)"
   ]
  },
  {
   "cell_type": "code",
   "execution_count": 144,
   "id": "a4e56421",
   "metadata": {},
   "outputs": [
    {
     "data": {
      "text/html": [
       "<div>\n",
       "<style scoped>\n",
       "    .dataframe tbody tr th:only-of-type {\n",
       "        vertical-align: middle;\n",
       "    }\n",
       "\n",
       "    .dataframe tbody tr th {\n",
       "        vertical-align: top;\n",
       "    }\n",
       "\n",
       "    .dataframe thead th {\n",
       "        text-align: right;\n",
       "    }\n",
       "</style>\n",
       "<table border=\"1\" class=\"dataframe\">\n",
       "  <thead>\n",
       "    <tr style=\"text-align: right;\">\n",
       "      <th></th>\n",
       "      <th>Message</th>\n",
       "    </tr>\n",
       "  </thead>\n",
       "  <tbody>\n",
       "    <tr>\n",
       "      <th>2112</th>\n",
       "      <td>Yar he quite clever but aft many guesses lor. ...</td>\n",
       "    </tr>\n",
       "    <tr>\n",
       "      <th>4589</th>\n",
       "      <td>I wanted to wish you a Happy New Year and I wa...</td>\n",
       "    </tr>\n",
       "    <tr>\n",
       "      <th>3298</th>\n",
       "      <td>Todays Voda numbers ending 5226 are selected t...</td>\n",
       "    </tr>\n",
       "    <tr>\n",
       "      <th>4661</th>\n",
       "      <td>You call him and tell now infront of them. Cal...</td>\n",
       "    </tr>\n",
       "    <tr>\n",
       "      <th>2099</th>\n",
       "      <td>No dice, art class 6 thru 9 :( thanks though. ...</td>\n",
       "    </tr>\n",
       "    <tr>\n",
       "      <th>...</th>\n",
       "      <td>...</td>\n",
       "    </tr>\n",
       "    <tr>\n",
       "      <th>3763</th>\n",
       "      <td>FREE for 1st week! No1 Nokia tone 4 ur mob eve...</td>\n",
       "    </tr>\n",
       "    <tr>\n",
       "      <th>2577</th>\n",
       "      <td>In sch but neva mind u eat 1st lor..</td>\n",
       "    </tr>\n",
       "    <tr>\n",
       "      <th>4953</th>\n",
       "      <td>Welcome to Select, an O2 service with added be...</td>\n",
       "    </tr>\n",
       "    <tr>\n",
       "      <th>4305</th>\n",
       "      <td>Good good, billy mates all gone. Just been jog...</td>\n",
       "    </tr>\n",
       "    <tr>\n",
       "      <th>939</th>\n",
       "      <td>Urgent! call 09061749602 from Landline. Your c...</td>\n",
       "    </tr>\n",
       "  </tbody>\n",
       "</table>\n",
       "<p>1115 rows × 1 columns</p>\n",
       "</div>"
      ],
      "text/plain": [
       "                                                Message\n",
       "2112  Yar he quite clever but aft many guesses lor. ...\n",
       "4589  I wanted to wish you a Happy New Year and I wa...\n",
       "3298  Todays Voda numbers ending 5226 are selected t...\n",
       "4661  You call him and tell now infront of them. Cal...\n",
       "2099  No dice, art class 6 thru 9 :( thanks though. ...\n",
       "...                                                 ...\n",
       "3763  FREE for 1st week! No1 Nokia tone 4 ur mob eve...\n",
       "2577               In sch but neva mind u eat 1st lor..\n",
       "4953  Welcome to Select, an O2 service with added be...\n",
       "4305  Good good, billy mates all gone. Just been jog...\n",
       "939   Urgent! call 09061749602 from Landline. Your c...\n",
       "\n",
       "[1115 rows x 1 columns]"
      ]
     },
     "execution_count": 144,
     "metadata": {},
     "output_type": "execute_result"
    }
   ],
   "source": [
    "x_test"
   ]
  },
  {
   "cell_type": "markdown",
   "id": "3532d281",
   "metadata": {},
   "source": [
    "# create bag of words(CountVectorizer from sklearn)"
   ]
  },
  {
   "cell_type": "code",
   "execution_count": 145,
   "id": "4ad9e7b3",
   "metadata": {},
   "outputs": [],
   "source": [
    "from sklearn.feature_extraction.text import CountVectorizer"
   ]
  },
  {
   "cell_type": "code",
   "execution_count": 194,
   "id": "f9dc6cf3",
   "metadata": {},
   "outputs": [
    {
     "data": {
      "text/plain": [
       "array([[0, 0, 0, ..., 0, 0, 0],\n",
       "       [0, 0, 0, ..., 0, 0, 0],\n",
       "       [0, 0, 0, ..., 0, 0, 0],\n",
       "       ...,\n",
       "       [0, 0, 0, ..., 0, 0, 0],\n",
       "       [0, 0, 0, ..., 0, 0, 0],\n",
       "       [0, 0, 0, ..., 0, 0, 0]], dtype=int64)"
      ]
     },
     "execution_count": 194,
     "metadata": {},
     "output_type": "execute_result"
    }
   ],
   "source": [
    "cv = CountVectorizer()\n",
    "cv\n",
    "\n",
    "# fit the vectorizer on the corpus and convert to array\n",
    "x_train_cv = cv.fit_transform(x_train.Message)\n",
    "x_train_cv.toarray()"
   ]
  },
  {
   "cell_type": "code",
   "execution_count": null,
   "id": "bbde83f7",
   "metadata": {},
   "outputs": [],
   "source": []
  },
  {
   "cell_type": "markdown",
   "id": "e5d92182",
   "metadata": {},
   "source": [
    "# Building Model"
   ]
  },
  {
   "cell_type": "code",
   "execution_count": 148,
   "id": "123c7614",
   "metadata": {},
   "outputs": [],
   "source": [
    "from sklearn.naive_bayes import MultinomialNB\n",
    "\n",
    "\n",
    "model = MultinomialNB()\n",
    "model.fit(x_train_cv, y_train)\n",
    "\n",
    "x_test_cv = cv.transform(x_test.Message)\n",
    "score = model.score(x_test_cv, y_test)\n",
    "print(f\"The accuracy of the model is: {score*100:.2f}%\")"
   ]
  },
  {
   "cell_type": "code",
   "execution_count": 149,
   "id": "031ca979",
   "metadata": {},
   "outputs": [],
   "source": []
  },
  {
   "cell_type": "code",
   "execution_count": 150,
   "id": "c9fdf1f5",
   "metadata": {},
   "outputs": [
    {
     "data": {
      "text/html": [
       "<style>#sk-container-id-9 {color: black;background-color: white;}#sk-container-id-9 pre{padding: 0;}#sk-container-id-9 div.sk-toggleable {background-color: white;}#sk-container-id-9 label.sk-toggleable__label {cursor: pointer;display: block;width: 100%;margin-bottom: 0;padding: 0.3em;box-sizing: border-box;text-align: center;}#sk-container-id-9 label.sk-toggleable__label-arrow:before {content: \"▸\";float: left;margin-right: 0.25em;color: #696969;}#sk-container-id-9 label.sk-toggleable__label-arrow:hover:before {color: black;}#sk-container-id-9 div.sk-estimator:hover label.sk-toggleable__label-arrow:before {color: black;}#sk-container-id-9 div.sk-toggleable__content {max-height: 0;max-width: 0;overflow: hidden;text-align: left;background-color: #f0f8ff;}#sk-container-id-9 div.sk-toggleable__content pre {margin: 0.2em;color: black;border-radius: 0.25em;background-color: #f0f8ff;}#sk-container-id-9 input.sk-toggleable__control:checked~div.sk-toggleable__content {max-height: 200px;max-width: 100%;overflow: auto;}#sk-container-id-9 input.sk-toggleable__control:checked~label.sk-toggleable__label-arrow:before {content: \"▾\";}#sk-container-id-9 div.sk-estimator input.sk-toggleable__control:checked~label.sk-toggleable__label {background-color: #d4ebff;}#sk-container-id-9 div.sk-label input.sk-toggleable__control:checked~label.sk-toggleable__label {background-color: #d4ebff;}#sk-container-id-9 input.sk-hidden--visually {border: 0;clip: rect(1px 1px 1px 1px);clip: rect(1px, 1px, 1px, 1px);height: 1px;margin: -1px;overflow: hidden;padding: 0;position: absolute;width: 1px;}#sk-container-id-9 div.sk-estimator {font-family: monospace;background-color: #f0f8ff;border: 1px dotted black;border-radius: 0.25em;box-sizing: border-box;margin-bottom: 0.5em;}#sk-container-id-9 div.sk-estimator:hover {background-color: #d4ebff;}#sk-container-id-9 div.sk-parallel-item::after {content: \"\";width: 100%;border-bottom: 1px solid gray;flex-grow: 1;}#sk-container-id-9 div.sk-label:hover label.sk-toggleable__label {background-color: #d4ebff;}#sk-container-id-9 div.sk-serial::before {content: \"\";position: absolute;border-left: 1px solid gray;box-sizing: border-box;top: 0;bottom: 0;left: 50%;z-index: 0;}#sk-container-id-9 div.sk-serial {display: flex;flex-direction: column;align-items: center;background-color: white;padding-right: 0.2em;padding-left: 0.2em;position: relative;}#sk-container-id-9 div.sk-item {position: relative;z-index: 1;}#sk-container-id-9 div.sk-parallel {display: flex;align-items: stretch;justify-content: center;background-color: white;position: relative;}#sk-container-id-9 div.sk-item::before, #sk-container-id-9 div.sk-parallel-item::before {content: \"\";position: absolute;border-left: 1px solid gray;box-sizing: border-box;top: 0;bottom: 0;left: 50%;z-index: -1;}#sk-container-id-9 div.sk-parallel-item {display: flex;flex-direction: column;z-index: 1;position: relative;background-color: white;}#sk-container-id-9 div.sk-parallel-item:first-child::after {align-self: flex-end;width: 50%;}#sk-container-id-9 div.sk-parallel-item:last-child::after {align-self: flex-start;width: 50%;}#sk-container-id-9 div.sk-parallel-item:only-child::after {width: 0;}#sk-container-id-9 div.sk-dashed-wrapped {border: 1px dashed gray;margin: 0 0.4em 0.5em 0.4em;box-sizing: border-box;padding-bottom: 0.4em;background-color: white;}#sk-container-id-9 div.sk-label label {font-family: monospace;font-weight: bold;display: inline-block;line-height: 1.2em;}#sk-container-id-9 div.sk-label-container {text-align: center;}#sk-container-id-9 div.sk-container {/* jupyter's `normalize.less` sets `[hidden] { display: none; }` but bootstrap.min.css set `[hidden] { display: none !important; }` so we also need the `!important` here to be able to override the default hidden behavior on the sphinx rendered scikit-learn.org. See: https://github.com/scikit-learn/scikit-learn/issues/21755 */display: inline-block !important;position: relative;}#sk-container-id-9 div.sk-text-repr-fallback {display: none;}</style><div id=\"sk-container-id-9\" class=\"sk-top-container\"><div class=\"sk-text-repr-fallback\"><pre>MultinomialNB()</pre><b>In a Jupyter environment, please rerun this cell to show the HTML representation or trust the notebook. <br />On GitHub, the HTML representation is unable to render, please try loading this page with nbviewer.org.</b></div><div class=\"sk-container\" hidden><div class=\"sk-item\"><div class=\"sk-estimator sk-toggleable\"><input class=\"sk-toggleable__control sk-hidden--visually\" id=\"sk-estimator-id-9\" type=\"checkbox\" checked><label for=\"sk-estimator-id-9\" class=\"sk-toggleable__label sk-toggleable__label-arrow\">MultinomialNB</label><div class=\"sk-toggleable__content\"><pre>MultinomialNB()</pre></div></div></div></div></div>"
      ],
      "text/plain": [
       "MultinomialNB()"
      ]
     },
     "execution_count": 150,
     "metadata": {},
     "output_type": "execute_result"
    }
   ],
   "source": []
  },
  {
   "cell_type": "code",
   "execution_count": 151,
   "id": "b0ce13c6",
   "metadata": {},
   "outputs": [
    {
     "data": {
      "text/plain": [
       "array([0], dtype=int64)"
      ]
     },
     "execution_count": 151,
     "metadata": {},
     "output_type": "execute_result"
    }
   ],
   "source": [
    "email_ham = [\"hey, i like you but this wont work\"]\n",
    "email_ham_cv = cv.transform(email_ham)\n",
    "model.predict(email_ham_cv)"
   ]
  },
  {
   "cell_type": "code",
   "execution_count": 152,
   "id": "c95edcc3",
   "metadata": {},
   "outputs": [
    {
     "data": {
      "text/plain": [
       "array([1], dtype=int64)"
      ]
     },
     "execution_count": 152,
     "metadata": {},
     "output_type": "execute_result"
    }
   ],
   "source": [
    "email_spam = [\"10,0000rs is deposited in your rummy account, click to avail.\"]\n",
    "email_spam_cv = cv.transform(email_spam)\n",
    "model.predict(email_spam_cv)"
   ]
  },
  {
   "cell_type": "markdown",
   "id": "30747cd4",
   "metadata": {},
   "source": [
    "# Test"
   ]
  },
  {
   "cell_type": "code",
   "execution_count": 155,
   "id": "9dff50c3",
   "metadata": {},
   "outputs": [
    {
     "name": "stdout",
     "output_type": "stream",
     "text": [
      "The accuracy of the model is: 98.48%\n"
     ]
    }
   ],
   "source": [
    "x_test_cv = cv.transform(x_test.Message)\n",
    "score = model.score(x_test_cv, y_test)\n",
    "print(f\"The accuracy of the model is: {score*100:.2f}%\")"
   ]
  },
  {
   "cell_type": "code",
   "execution_count": null,
   "id": "e50c0b0b",
   "metadata": {},
   "outputs": [],
   "source": []
  },
  {
   "cell_type": "markdown",
   "id": "3b0574c4",
   "metadata": {},
   "source": [
    "# Tuning\n",
    "- Assumption: will the models performance increases if i, eliminate the elements with lowest frequency ?"
   ]
  },
  {
   "cell_type": "code",
   "execution_count": 206,
   "id": "318656f6",
   "metadata": {},
   "outputs": [
    {
     "name": "stdout",
     "output_type": "stream",
     "text": [
      "The accuracy of the model is: 98.21%\n"
     ]
    }
   ],
   "source": [
    "from sklearn.feature_extraction.text import CountVectorizer\n",
    "\n",
    "cv = CountVectorizer()\n",
    "x_train_cv = cv.fit_transform(x_train.Message)\n",
    "\n",
    "# Calculate the frequency of each word in the training data\n",
    "word_freq = {}\n",
    "for key, value in cv.vocabulary_.items():\n",
    "    word_freq[key] = x_train_cv[:, value].sum()\n",
    "#print(word_freq)\n",
    "\n",
    "# Determine the cutoff frequency below which words will be removed\n",
    "cutoff_freq = 3\n",
    "\n",
    "# Identify the words to keep\n",
    "keep_words = [key for key, freq in word_freq.items() if freq > cutoff_freq]\n",
    "#print(keep_words)\n",
    "\n",
    "# Create a new CountVectorizer with only the words to keep\n",
    "cv = CountVectorizer(vocabulary=keep_words)\n",
    "\n",
    "# Fit the new vectorizer on the training data and transform it\n",
    "x_train_cv = cv.fit_transform(x_train.Message)\n",
    "\n",
    "# Train the model and calculate the accuracy as before\n",
    "from sklearn.naive_bayes import MultinomialNB\n",
    "\n",
    "model = MultinomialNB()\n",
    "model.fit(x_train_cv, y_train)\n",
    "\n",
    "x_test_cv = cv.transform(x_test.Message)\n",
    "score = model.score(x_test_cv, y_test)\n",
    "print(f\"The accuracy of the model is: {score*100:.2f}%\")\n"
   ]
  },
  {
   "cell_type": "markdown",
   "id": "feea6f5b",
   "metadata": {},
   "source": [
    "## Assumption is wrong"
   ]
  },
  {
   "cell_type": "code",
   "execution_count": null,
   "id": "2c1467e0",
   "metadata": {},
   "outputs": [],
   "source": []
  },
  {
   "cell_type": "markdown",
   "id": "4c7ea119",
   "metadata": {},
   "source": [
    "# lets put the predictions and target variables in a data frame"
   ]
  },
  {
   "cell_type": "code",
   "execution_count": 232,
   "id": "35433266",
   "metadata": {},
   "outputs": [],
   "source": [
    "# Predict labels for test set\n",
    "y_pred = model.predict(x_test_cv)\n",
    "\n",
    "# Create DataFrame with predictions and actual labels\n",
    "results = pd.DataFrame({'Message': x_test.Message, 'Actual': y_test, 'Predicted': y_pred})\n",
    "\n",
    "#results.sample(20)"
   ]
  },
  {
   "cell_type": "code",
   "execution_count": 233,
   "id": "480867b4",
   "metadata": {},
   "outputs": [
    {
     "data": {
      "image/png": "[encoded data removed]",
      "text/plain": [
       "<Figure size 640x480 with 2 Axes>"
      ]
     },
     "metadata": {},
     "output_type": "display_data"
    }
   ],
   "source": [
    "from sklearn.metrics import confusion_matrix\n",
    "import seaborn as sns\n",
    "import matplotlib.pyplot as plt\n",
    "\n",
    "# Get the predicted labels for the test set\n",
    "y_pred = model.predict(x_test_cv)\n",
    "\n",
    "# Create a confusion matrix\n",
    "cm = confusion_matrix(y_test, y_pred)\n",
    "\n",
    "# Plot the heatmap\n",
    "sns.heatmap(cm, annot=True, fmt='d', cmap='Blues')\n",
    "\n",
    "# Add labels and title\n",
    "plt.xlabel('Predicted label')\n",
    "plt.ylabel('True label')\n",
    "plt.title('Confusion Matrix')\n",
    "\n",
    "plt.show()\n"
   ]
  },
  {
   "cell_type": "code",
   "execution_count": null,
   "id": "7ba6190c",
   "metadata": {},
   "outputs": [],
   "source": []
  },
  {
   "cell_type": "code",
   "execution_count": null,
   "id": "5981e641",
   "metadata": {},
   "outputs": [],
   "source": []
  },
  {
   "cell_type": "markdown",
   "id": "a1d4a819",
   "metadata": {},
   "source": [
    "# Demonstration of how CountVectorizer works"
   ]
  },
  {
   "cell_type": "code",
   "execution_count": 15,
   "id": "8073d549",
   "metadata": {},
   "outputs": [],
   "source": [
    "class CountVectorizer:\n",
    "    def __init__(self):\n",
    "        self.vocab = {}\n",
    "        self.word_counts = []\n",
    "        \n",
    "    def fit_transform(self, corpus):\n",
    "        for document in corpus:\n",
    "            # split document into words and count the frequency of each word\n",
    "            word_counts = {}\n",
    "            words = document.split()\n",
    "            for word in words:\n",
    "                if word in word_counts:\n",
    "                    word_counts[word] += 1\n",
    "                else:\n",
    "                    word_counts[word] = 1\n",
    "                    \n",
    "                if word not in self.vocab:\n",
    "                    self.vocab[word] = len(self.vocab)\n",
    "            \n",
    "            # append the word counts to the document-term matrix\n",
    "            self.word_counts.append(word_counts)\n",
    "        \n",
    "        # create the document-term matrix using the word counts and vocabulary\n",
    "        dt_matrix = []\n",
    "        for word_count in self.word_counts:\n",
    "            row = [0] * len(self.vocab)\n",
    "            for word, count in word_count.items():\n",
    "                row[self.vocab[word]] = count\n",
    "            dt_matrix.append(row)\n",
    "        \n",
    "        return dt_matrix\n"
   ]
  },
  {
   "cell_type": "code",
   "execution_count": 19,
   "id": "a499f4c2",
   "metadata": {},
   "outputs": [
    {
     "data": {
      "text/plain": [
       "array([[1, 1, 1, 1, 1, 0, 0, 0, 0, 0, 0, 0, 0],\n",
       "       [1, 1, 1, 0, 1, 1, 1, 0, 0, 0, 0, 0, 0],\n",
       "       [0, 1, 1, 0, 0, 0, 0, 1, 1, 1, 1, 0, 0],\n",
       "       [0, 0, 1, 1, 0, 0, 0, 0, 1, 0, 0, 1, 1]])"
      ]
     },
     "execution_count": 19,
     "metadata": {},
     "output_type": "execute_result"
    }
   ],
   "source": [
    "corpus = [\n",
    "    \"This is the first document.\",\n",
    "    \"This document is the second document.\",\n",
    "    \"And this is the third one.\",\n",
    "    \"Is this the first document?\",\n",
    "]\n",
    "\n",
    "cv = CountVectorizer()\n",
    "dt_matrix = cv.fit_transform(corpus)\n",
    "np.array(dt_matrix)\n"
   ]
  },
  {
   "cell_type": "code",
   "execution_count": null,
   "id": "7520ccc2",
   "metadata": {},
   "outputs": [],
   "source": []
  }
 ],
 "metadata": {
  "kernelspec": {
   "display_name": "Python 3 (ipykernel)",
   "language": "python",
   "name": "python3"
  },
  "language_info": {
   "codemirror_mode": {
    "name": "ipython",
    "version": 3
   },
   "file_extension": ".py",
   "mimetype": "text/x-python",
   "name": "python",
   "nbconvert_exporter": "python",
   "pygments_lexer": "ipython3",
   "version": "3.10.6"
  }
 },
 "nbformat": 4,
 "nbformat_minor": 5
}
