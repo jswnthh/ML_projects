{
 "cells": [
  {
   "cell_type": "code",
   "execution_count": 1,
   "id": "132a3d0f",
   "metadata": {},
   "outputs": [],
   "source": [
    "import pandas as pd\n",
    "import numpy as np\n",
    "import matplotlib.pyplot as plt\n",
    "import seaborn as sns"
   ]
  },
  {
   "cell_type": "code",
   "execution_count": 59,
   "id": "44d8f028",
   "metadata": {},
   "outputs": [
    {
     "data": {
      "text/html": [
       "<div>\n",
       "<style scoped>\n",
       "    .dataframe tbody tr th:only-of-type {\n",
       "        vertical-align: middle;\n",
       "    }\n",
       "\n",
       "    .dataframe tbody tr th {\n",
       "        vertical-align: top;\n",
       "    }\n",
       "\n",
       "    .dataframe thead th {\n",
       "        text-align: right;\n",
       "    }\n",
       "</style>\n",
       "<table border=\"1\" class=\"dataframe\">\n",
       "  <thead>\n",
       "    <tr style=\"text-align: right;\">\n",
       "      <th></th>\n",
       "      <th>InvoiceNo</th>\n",
       "      <th>StockCode</th>\n",
       "      <th>Description</th>\n",
       "      <th>Quantity</th>\n",
       "      <th>InvoiceDate</th>\n",
       "      <th>UnitPrice</th>\n",
       "      <th>CustomerID</th>\n",
       "      <th>Country</th>\n",
       "    </tr>\n",
       "  </thead>\n",
       "  <tbody>\n",
       "    <tr>\n",
       "      <th>0</th>\n",
       "      <td>536365</td>\n",
       "      <td>85123A</td>\n",
       "      <td>WHITE HANGING HEART T-LIGHT HOLDER</td>\n",
       "      <td>6</td>\n",
       "      <td>12/1/2010 8:26</td>\n",
       "      <td>2.55</td>\n",
       "      <td>17850.0</td>\n",
       "      <td>United Kingdom</td>\n",
       "    </tr>\n",
       "    <tr>\n",
       "      <th>1</th>\n",
       "      <td>536365</td>\n",
       "      <td>71053</td>\n",
       "      <td>WHITE METAL LANTERN</td>\n",
       "      <td>6</td>\n",
       "      <td>12/1/2010 8:26</td>\n",
       "      <td>3.39</td>\n",
       "      <td>17850.0</td>\n",
       "      <td>United Kingdom</td>\n",
       "    </tr>\n",
       "    <tr>\n",
       "      <th>2</th>\n",
       "      <td>536365</td>\n",
       "      <td>84406B</td>\n",
       "      <td>CREAM CUPID HEARTS COAT HANGER</td>\n",
       "      <td>8</td>\n",
       "      <td>12/1/2010 8:26</td>\n",
       "      <td>2.75</td>\n",
       "      <td>17850.0</td>\n",
       "      <td>United Kingdom</td>\n",
       "    </tr>\n",
       "    <tr>\n",
       "      <th>3</th>\n",
       "      <td>536365</td>\n",
       "      <td>84029G</td>\n",
       "      <td>KNITTED UNION FLAG HOT WATER BOTTLE</td>\n",
       "      <td>6</td>\n",
       "      <td>12/1/2010 8:26</td>\n",
       "      <td>3.39</td>\n",
       "      <td>17850.0</td>\n",
       "      <td>United Kingdom</td>\n",
       "    </tr>\n",
       "    <tr>\n",
       "      <th>4</th>\n",
       "      <td>536365</td>\n",
       "      <td>84029E</td>\n",
       "      <td>RED WOOLLY HOTTIE WHITE HEART.</td>\n",
       "      <td>6</td>\n",
       "      <td>12/1/2010 8:26</td>\n",
       "      <td>3.39</td>\n",
       "      <td>17850.0</td>\n",
       "      <td>United Kingdom</td>\n",
       "    </tr>\n",
       "    <tr>\n",
       "      <th>...</th>\n",
       "      <td>...</td>\n",
       "      <td>...</td>\n",
       "      <td>...</td>\n",
       "      <td>...</td>\n",
       "      <td>...</td>\n",
       "      <td>...</td>\n",
       "      <td>...</td>\n",
       "      <td>...</td>\n",
       "    </tr>\n",
       "    <tr>\n",
       "      <th>541904</th>\n",
       "      <td>581587</td>\n",
       "      <td>22613</td>\n",
       "      <td>PACK OF 20 SPACEBOY NAPKINS</td>\n",
       "      <td>12</td>\n",
       "      <td>12/9/2011 12:50</td>\n",
       "      <td>0.85</td>\n",
       "      <td>12680.0</td>\n",
       "      <td>France</td>\n",
       "    </tr>\n",
       "    <tr>\n",
       "      <th>541905</th>\n",
       "      <td>581587</td>\n",
       "      <td>22899</td>\n",
       "      <td>CHILDREN'S APRON DOLLY GIRL</td>\n",
       "      <td>6</td>\n",
       "      <td>12/9/2011 12:50</td>\n",
       "      <td>2.10</td>\n",
       "      <td>12680.0</td>\n",
       "      <td>France</td>\n",
       "    </tr>\n",
       "    <tr>\n",
       "      <th>541906</th>\n",
       "      <td>581587</td>\n",
       "      <td>23254</td>\n",
       "      <td>CHILDRENS CUTLERY DOLLY GIRL</td>\n",
       "      <td>4</td>\n",
       "      <td>12/9/2011 12:50</td>\n",
       "      <td>4.15</td>\n",
       "      <td>12680.0</td>\n",
       "      <td>France</td>\n",
       "    </tr>\n",
       "    <tr>\n",
       "      <th>541907</th>\n",
       "      <td>581587</td>\n",
       "      <td>23255</td>\n",
       "      <td>CHILDRENS CUTLERY CIRCUS PARADE</td>\n",
       "      <td>4</td>\n",
       "      <td>12/9/2011 12:50</td>\n",
       "      <td>4.15</td>\n",
       "      <td>12680.0</td>\n",
       "      <td>France</td>\n",
       "    </tr>\n",
       "    <tr>\n",
       "      <th>541908</th>\n",
       "      <td>581587</td>\n",
       "      <td>22138</td>\n",
       "      <td>BAKING SET 9 PIECE RETROSPOT</td>\n",
       "      <td>3</td>\n",
       "      <td>12/9/2011 12:50</td>\n",
       "      <td>4.95</td>\n",
       "      <td>12680.0</td>\n",
       "      <td>France</td>\n",
       "    </tr>\n",
       "  </tbody>\n",
       "</table>\n",
       "<p>541909 rows × 8 columns</p>\n",
       "</div>"
      ],
      "text/plain": [
       "       InvoiceNo StockCode                          Description  Quantity  \\\n",
       "0         536365    85123A   WHITE HANGING HEART T-LIGHT HOLDER         6   \n",
       "1         536365     71053                  WHITE METAL LANTERN         6   \n",
       "2         536365    84406B       CREAM CUPID HEARTS COAT HANGER         8   \n",
       "3         536365    84029G  KNITTED UNION FLAG HOT WATER BOTTLE         6   \n",
       "4         536365    84029E       RED WOOLLY HOTTIE WHITE HEART.         6   \n",
       "...          ...       ...                                  ...       ...   \n",
       "541904    581587     22613          PACK OF 20 SPACEBOY NAPKINS        12   \n",
       "541905    581587     22899         CHILDREN'S APRON DOLLY GIRL          6   \n",
       "541906    581587     23254        CHILDRENS CUTLERY DOLLY GIRL          4   \n",
       "541907    581587     23255      CHILDRENS CUTLERY CIRCUS PARADE         4   \n",
       "541908    581587     22138        BAKING SET 9 PIECE RETROSPOT          3   \n",
       "\n",
       "            InvoiceDate  UnitPrice  CustomerID         Country  \n",
       "0        12/1/2010 8:26       2.55     17850.0  United Kingdom  \n",
       "1        12/1/2010 8:26       3.39     17850.0  United Kingdom  \n",
       "2        12/1/2010 8:26       2.75     17850.0  United Kingdom  \n",
       "3        12/1/2010 8:26       3.39     17850.0  United Kingdom  \n",
       "4        12/1/2010 8:26       3.39     17850.0  United Kingdom  \n",
       "...                 ...        ...         ...             ...  \n",
       "541904  12/9/2011 12:50       0.85     12680.0          France  \n",
       "541905  12/9/2011 12:50       2.10     12680.0          France  \n",
       "541906  12/9/2011 12:50       4.15     12680.0          France  \n",
       "541907  12/9/2011 12:50       4.15     12680.0          France  \n",
       "541908  12/9/2011 12:50       4.95     12680.0          France  \n",
       "\n",
       "[541909 rows x 8 columns]"
      ]
     },
     "execution_count": 59,
     "metadata": {},
     "output_type": "execute_result"
    }
   ],
   "source": [
    "df = pd.read_csv('OnlineRetail.csv', encoding='unicode_escape')\n",
    "df"
   ]
  },
  {
   "cell_type": "code",
   "execution_count": null,
   "id": "672f3f34",
   "metadata": {},
   "outputs": [],
   "source": []
  },
  {
   "cell_type": "code",
   "execution_count": null,
   "id": "893c08cd",
   "metadata": {},
   "outputs": [],
   "source": [
    "df.isnull().sum()"
   ]
  },
  {
   "cell_type": "markdown",
   "id": "c00eea06",
   "metadata": {},
   "source": [
    "there are significant amount of null values in CustomerID column. Having considering the project's scope, i.e to explore differnt ML models, im just ignore it."
   ]
  },
  {
   "cell_type": "code",
   "execution_count": null,
   "id": "b591e157",
   "metadata": {},
   "outputs": [],
   "source": [
    "df['Country'].unique()"
   ]
  },
  {
   "cell_type": "code",
   "execution_count": null,
   "id": "66164aa7",
   "metadata": {},
   "outputs": [],
   "source": []
  },
  {
   "cell_type": "code",
   "execution_count": null,
   "id": "250176a1",
   "metadata": {},
   "outputs": [],
   "source": []
  },
  {
   "cell_type": "markdown",
   "id": "c8a87b61",
   "metadata": {},
   "source": [
    "# Knowing the metrics"
   ]
  },
  {
   "cell_type": "code",
   "execution_count": null,
   "id": "475dda99",
   "metadata": {},
   "outputs": [],
   "source": [
    "df.info()"
   ]
  },
  {
   "cell_type": "code",
   "execution_count": 8,
   "id": "c3f2a5f6",
   "metadata": {},
   "outputs": [],
   "source": [
    "df['InvoiceDate'] = pd.to_datetime(df['InvoiceDate'])"
   ]
  },
  {
   "cell_type": "code",
   "execution_count": null,
   "id": "d6738ffb",
   "metadata": {},
   "outputs": [],
   "source": [
    "df.head()"
   ]
  },
  {
   "cell_type": "code",
   "execution_count": 9,
   "id": "00f96e0e",
   "metadata": {},
   "outputs": [],
   "source": [
    "df['Day'] = df['InvoiceDate'].dt.day\n",
    "df['Month'] = df['InvoiceDate'].dt.month\n",
    "df['Year'] = df['InvoiceDate'].dt.year\n",
    "df['Week'] = df['InvoiceDate'].dt.isocalendar().week"
   ]
  },
  {
   "cell_type": "code",
   "execution_count": null,
   "id": "0a58cab6",
   "metadata": {},
   "outputs": [],
   "source": []
  },
  {
   "cell_type": "markdown",
   "id": "d43a3b65",
   "metadata": {},
   "source": [
    "since this project based on sales optimization, we can safely assume revenue is what we need to maximize so lets understand the current state of revenue"
   ]
  },
  {
   "cell_type": "markdown",
   "id": "66fb9342",
   "metadata": {},
   "source": [
    "# Understanding Revenue"
   ]
  },
  {
   "cell_type": "code",
   "execution_count": 16,
   "id": "76d910ae",
   "metadata": {},
   "outputs": [],
   "source": [
    "df['Revenue'] = df['UnitPrice'] * df['Quantity']"
   ]
  },
  {
   "cell_type": "code",
   "execution_count": 17,
   "id": "dbd95d0d",
   "metadata": {},
   "outputs": [
    {
     "data": {
      "text/plain": [
       "Month\n",
       "1      560000.260\n",
       "2      498062.650\n",
       "3      683267.080\n",
       "4      493207.121\n",
       "5      723333.510\n",
       "6      691123.120\n",
       "7      681300.111\n",
       "8      682680.510\n",
       "9     1019687.622\n",
       "10    1070704.670\n",
       "11    1461756.250\n",
       "12    1182625.030\n",
       "Name: Revenue, dtype: float64"
      ]
     },
     "execution_count": 17,
     "metadata": {},
     "output_type": "execute_result"
    }
   ],
   "source": [
    "df.groupby('Month')['Revenue'].sum()"
   ]
  },
  {
   "cell_type": "markdown",
   "id": "3eb312e5",
   "metadata": {},
   "source": [
    "although this approach is an appropriate way to figure the revenue, we need to take into account that the 12th month is repeated twice so we need to figure a way around it"
   ]
  },
  {
   "cell_type": "code",
   "execution_count": 18,
   "id": "baa3098f",
   "metadata": {},
   "outputs": [],
   "source": [
    "#df.groupby('MonthYear')['Revenue'].sum()"
   ]
  },
  {
   "cell_type": "code",
   "execution_count": 19,
   "id": "3c95db5a",
   "metadata": {},
   "outputs": [
    {
     "data": {
      "text/plain": [
       "Country\n",
       "Australia                137077.270\n",
       "Austria                   10154.320\n",
       "Bahrain                     548.400\n",
       "Belgium                   40910.960\n",
       "Brazil                     1143.600\n",
       "Canada                     3666.380\n",
       "Channel Islands           20086.290\n",
       "Cyprus                    12946.290\n",
       "Czech Republic              707.720\n",
       "Denmark                   18768.140\n",
       "EIRE                     263276.820\n",
       "European Community         1291.750\n",
       "Finland                   22326.740\n",
       "France                   197403.900\n",
       "Germany                  221698.210\n",
       "Greece                     4710.520\n",
       "Hong Kong                 10117.040\n",
       "Iceland                    4310.000\n",
       "Israel                     7907.820\n",
       "Italy                     16890.510\n",
       "Japan                     35340.620\n",
       "Lebanon                    1693.880\n",
       "Lithuania                  1661.060\n",
       "Malta                      2505.470\n",
       "Netherlands              284661.540\n",
       "Norway                    35163.460\n",
       "Poland                     7213.140\n",
       "Portugal                  29367.020\n",
       "RSA                        1002.310\n",
       "Saudi Arabia                131.170\n",
       "Singapore                  9120.390\n",
       "Spain                     54774.580\n",
       "Sweden                    36595.910\n",
       "Switzerland               56385.350\n",
       "USA                        1730.920\n",
       "United Arab Emirates       1902.280\n",
       "United Kingdom          8187806.364\n",
       "Unspecified                4749.790\n",
       "Name: Revenue, dtype: float64"
      ]
     },
     "execution_count": 19,
     "metadata": {},
     "output_type": "execute_result"
    }
   ],
   "source": [
    "df.groupby('Country')['Revenue'].sum()"
   ]
  },
  {
   "cell_type": "code",
   "execution_count": 20,
   "id": "653b4269",
   "metadata": {},
   "outputs": [],
   "source": [
    "df['MonthYear'] = df['InvoiceDate'].dt.to_period('M')"
   ]
  },
  {
   "cell_type": "code",
   "execution_count": 21,
   "id": "7928b5e0",
   "metadata": {},
   "outputs": [
    {
     "data": {
      "text/html": [
       "<div>\n",
       "<style scoped>\n",
       "    .dataframe tbody tr th:only-of-type {\n",
       "        vertical-align: middle;\n",
       "    }\n",
       "\n",
       "    .dataframe tbody tr th {\n",
       "        vertical-align: top;\n",
       "    }\n",
       "\n",
       "    .dataframe thead th {\n",
       "        text-align: right;\n",
       "    }\n",
       "</style>\n",
       "<table border=\"1\" class=\"dataframe\">\n",
       "  <thead>\n",
       "    <tr style=\"text-align: right;\">\n",
       "      <th></th>\n",
       "      <th>MonthYear</th>\n",
       "      <th>Revenue</th>\n",
       "    </tr>\n",
       "  </thead>\n",
       "  <tbody>\n",
       "    <tr>\n",
       "      <th>0</th>\n",
       "      <td>2010-12</td>\n",
       "      <td>748957.020</td>\n",
       "    </tr>\n",
       "    <tr>\n",
       "      <th>1</th>\n",
       "      <td>2011-01</td>\n",
       "      <td>560000.260</td>\n",
       "    </tr>\n",
       "    <tr>\n",
       "      <th>2</th>\n",
       "      <td>2011-02</td>\n",
       "      <td>498062.650</td>\n",
       "    </tr>\n",
       "    <tr>\n",
       "      <th>3</th>\n",
       "      <td>2011-03</td>\n",
       "      <td>683267.080</td>\n",
       "    </tr>\n",
       "    <tr>\n",
       "      <th>4</th>\n",
       "      <td>2011-04</td>\n",
       "      <td>493207.121</td>\n",
       "    </tr>\n",
       "    <tr>\n",
       "      <th>5</th>\n",
       "      <td>2011-05</td>\n",
       "      <td>723333.510</td>\n",
       "    </tr>\n",
       "    <tr>\n",
       "      <th>6</th>\n",
       "      <td>2011-06</td>\n",
       "      <td>691123.120</td>\n",
       "    </tr>\n",
       "    <tr>\n",
       "      <th>7</th>\n",
       "      <td>2011-07</td>\n",
       "      <td>681300.111</td>\n",
       "    </tr>\n",
       "    <tr>\n",
       "      <th>8</th>\n",
       "      <td>2011-08</td>\n",
       "      <td>682680.510</td>\n",
       "    </tr>\n",
       "    <tr>\n",
       "      <th>9</th>\n",
       "      <td>2011-09</td>\n",
       "      <td>1019687.622</td>\n",
       "    </tr>\n",
       "    <tr>\n",
       "      <th>10</th>\n",
       "      <td>2011-10</td>\n",
       "      <td>1070704.670</td>\n",
       "    </tr>\n",
       "    <tr>\n",
       "      <th>11</th>\n",
       "      <td>2011-11</td>\n",
       "      <td>1461756.250</td>\n",
       "    </tr>\n",
       "    <tr>\n",
       "      <th>12</th>\n",
       "      <td>2011-12</td>\n",
       "      <td>433668.010</td>\n",
       "    </tr>\n",
       "  </tbody>\n",
       "</table>\n",
       "</div>"
      ],
      "text/plain": [
       "   MonthYear      Revenue\n",
       "0    2010-12   748957.020\n",
       "1    2011-01   560000.260\n",
       "2    2011-02   498062.650\n",
       "3    2011-03   683267.080\n",
       "4    2011-04   493207.121\n",
       "5    2011-05   723333.510\n",
       "6    2011-06   691123.120\n",
       "7    2011-07   681300.111\n",
       "8    2011-08   682680.510\n",
       "9    2011-09  1019687.622\n",
       "10   2011-10  1070704.670\n",
       "11   2011-11  1461756.250\n",
       "12   2011-12   433668.010"
      ]
     },
     "execution_count": 21,
     "metadata": {},
     "output_type": "execute_result"
    }
   ],
   "source": [
    "df_revenue_month = df.groupby(['MonthYear'])['Revenue'].sum().reset_index()\n",
    "df_revenue_month"
   ]
  },
  {
   "cell_type": "code",
   "execution_count": null,
   "id": "0708aa52",
   "metadata": {},
   "outputs": [],
   "source": [
    "df_revenue_country = df.groupby(['Country'])['Revenue'].sum().sort_values(ascending=False).astype(int).reset_index()\n",
    "df_revenue_country"
   ]
  },
  {
   "cell_type": "code",
   "execution_count": null,
   "id": "bc6cf6e3",
   "metadata": {},
   "outputs": [],
   "source": [
    "import seaborn as sns\n",
    "sns.set(style='darkgrid',\n",
    "        palette='viridis',\n",
    "        font_scale=1,\n",
    "        font='calibri',\n",
    "        rc={'figure.figsize':(8,4), \"legend.fontsize\": 14})\n",
    "\n",
    "sns.set_context(\"paper\", rc={\n",
    "    \"lines.linewidth\": 1.5,\n",
    "    \"axes.labelsize\": 14,\n",
    "    \"xtick.labelsize\": 12,\n",
    "    \"ytick.labelsize\": 12\n",
    "})\n",
    "sns.set_style({'grid.color': '.95', 'axes.edgecolor': '.3'})"
   ]
  },
  {
   "cell_type": "code",
   "execution_count": null,
   "id": "69b258b3",
   "metadata": {},
   "outputs": [],
   "source": [
    "import seaborn as sns\n",
    "import matplotlib.pyplot as plt\n",
    "\n",
    "# Create the subplots\n",
    "fig, axs = plt.subplots(1, 2, figsize=(12, 6))\n",
    "\n",
    "# Plot the first subplot - Monthly Revenue\n",
    "sns.barplot(x=df_revenue_month['MonthYear'], y=df_revenue_month['Revenue'], palette='viridis', ax=axs[0])\n",
    "axs[0].set_xlabel('Month-Year')\n",
    "axs[0].set_ylabel('Revenue')\n",
    "axs[0].set_title('Monthly Revenue')\n",
    "axs[0].tick_params(axis='x', rotation=45)\n",
    "\n",
    "# Plot the second subplot - Revenue by Country\n",
    "sns.barplot(x=df_revenue_country['Revenue'], y=df_revenue_country['Country'], palette='viridis', ax=axs[1])\n",
    "axs[1].set_xlabel('Country')\n",
    "axs[1].set_ylabel('Revenue')\n",
    "axs[1].set_title('Revenue by Country')\n",
    "axs[1].tick_params(axis='x', rotation=45)\n",
    "\n",
    "# Adjust the spacing between subplots\n",
    "plt.tight_layout()\n",
    "\n",
    "# Display the plot\n",
    "plt.show()\n"
   ]
  },
  {
   "cell_type": "markdown",
   "id": "fac76f28",
   "metadata": {},
   "source": [
    "well we can see that UK has the most records and as per the suggestions from internet, we can just go ahead with the UK customers"
   ]
  },
  {
   "cell_type": "markdown",
   "id": "f02c0882",
   "metadata": {},
   "source": [
    "# Monthly growth rate"
   ]
  },
  {
   "cell_type": "code",
   "execution_count": null,
   "id": "1a34f820",
   "metadata": {},
   "outputs": [],
   "source": [
    "df_revenue_month['Growth_rate'] = df['Revenue'].pct_change()\n",
    "df_revenue_month"
   ]
  },
  {
   "cell_type": "code",
   "execution_count": null,
   "id": "2e3ca623",
   "metadata": {},
   "outputs": [],
   "source": [
    "df_growth_rate_plot = df_revenue_month.iloc[1:]"
   ]
  },
  {
   "cell_type": "code",
   "execution_count": null,
   "id": "57263ad3",
   "metadata": {},
   "outputs": [],
   "source": [
    "# Import the necessary libraries\n",
    "import matplotlib.pyplot as plt\n",
    "import seaborn as sns\n",
    "\n",
    "# Create the bar plot using seaborn\n",
    "sns.barplot(data=df_growth_rate_plot, x='MonthYear', y='Growth_rate', palette='viridis')\n",
    "\n",
    "# Customize the plot\n",
    "plt.xlabel('Month-Year')\n",
    "plt.ylabel('Revenue')\n",
    "plt.title('Monthly Revenue')\n",
    "\n",
    "# Rotate x-axis labels if needed\n",
    "plt.xticks(rotation=45)\n",
    "\n",
    "# Display the plot\n",
    "plt.show()\n"
   ]
  },
  {
   "cell_type": "markdown",
   "id": "bf53f9f4",
   "metadata": {},
   "source": [
    "# Filtering country with highest customer base"
   ]
  },
  {
   "cell_type": "code",
   "execution_count": 23,
   "id": "8b423601",
   "metadata": {},
   "outputs": [],
   "source": [
    "df_uk = df.query(\"Country=='United Kingdom'\").reset_index(drop=True)"
   ]
  },
  {
   "cell_type": "markdown",
   "id": "f01b9863",
   "metadata": {},
   "source": [
    "# Monthly active customers"
   ]
  },
  {
   "cell_type": "code",
   "execution_count": null,
   "id": "e8d78a52",
   "metadata": {},
   "outputs": [],
   "source": [
    "df_active = df_uk.groupby('MonthYear')['CustomerID'].nunique().reset_index()\n",
    "df_active"
   ]
  },
  {
   "cell_type": "code",
   "execution_count": null,
   "id": "4ff60d5a",
   "metadata": {},
   "outputs": [],
   "source": [
    "plt.figure(figsize=(10,5))\n",
    "sns.barplot(data=df_active, x='MonthYear', y='CustomerID', palette='viridis')"
   ]
  },
  {
   "cell_type": "markdown",
   "id": "934d3c0a",
   "metadata": {},
   "source": [
    "# Monthly Order Count"
   ]
  },
  {
   "cell_type": "code",
   "execution_count": null,
   "id": "f9151d8c",
   "metadata": {},
   "outputs": [],
   "source": [
    "df_order = df_uk.groupby('MonthYear')['Quantity'].sum().reset_index()"
   ]
  },
  {
   "cell_type": "code",
   "execution_count": null,
   "id": "d1e5dc13",
   "metadata": {},
   "outputs": [],
   "source": [
    "df_order"
   ]
  },
  {
   "cell_type": "code",
   "execution_count": null,
   "id": "53d68e4c",
   "metadata": {},
   "outputs": [],
   "source": [
    "plt.figure(figsize=(10,5))\n",
    "sns.barplot(data=df_order, x='MonthYear', y='Quantity', palette='viridis')"
   ]
  },
  {
   "cell_type": "markdown",
   "id": "d8ed590a",
   "metadata": {},
   "source": [
    "# Average Revenue Per Order"
   ]
  },
  {
   "cell_type": "code",
   "execution_count": null,
   "id": "7edb7a0f",
   "metadata": {},
   "outputs": [],
   "source": [
    "df_avg_rev = df_uk.groupby('MonthYear')['Revenue'].mean().reset_index()"
   ]
  },
  {
   "cell_type": "code",
   "execution_count": null,
   "id": "33d495e1",
   "metadata": {},
   "outputs": [],
   "source": [
    "df_avg_rev"
   ]
  },
  {
   "cell_type": "code",
   "execution_count": null,
   "id": "d180475b",
   "metadata": {},
   "outputs": [],
   "source": [
    "plt.figure(figsize=(10,5))\n",
    "sns.barplot(data=df_avg_rev, x='MonthYear', y='Revenue', palette='viridis')"
   ]
  },
  {
   "cell_type": "code",
   "execution_count": null,
   "id": "a20c6027",
   "metadata": {},
   "outputs": [],
   "source": [
    "df_cusID_min = df_uk.groupby('CustomerID')['InvoiceDate'].min().reset_index()"
   ]
  },
  {
   "cell_type": "code",
   "execution_count": null,
   "id": "85bccb2a",
   "metadata": {},
   "outputs": [],
   "source": [
    "df_cusID_min.columns = ['CustomerID', 'MinPurchaseDate']"
   ]
  },
  {
   "cell_type": "code",
   "execution_count": null,
   "id": "fff8cfd0",
   "metadata": {},
   "outputs": [],
   "source": [
    "df_cusID_min['MinPurchaseMonthYear'] = df_cusID_min['MinPurchaseDate'].dt.to_period('M')"
   ]
  },
  {
   "cell_type": "code",
   "execution_count": null,
   "id": "3e8e3c45",
   "metadata": {},
   "outputs": [],
   "source": [
    "df_cusID_min.head()"
   ]
  },
  {
   "cell_type": "code",
   "execution_count": null,
   "id": "092954d0",
   "metadata": {},
   "outputs": [],
   "source": [
    "df_uk = pd.merge(df_uk, df_cusID_min, on='CustomerID' )"
   ]
  },
  {
   "cell_type": "code",
   "execution_count": null,
   "id": "42533014",
   "metadata": {},
   "outputs": [],
   "source": [
    "df_uk['UserType'] = 'New'\n",
    "df_uk.loc[df_uk['MonthYear']>df_uk['MinPurchaseMonthYear'],'UserType'] = 'Existing'"
   ]
  },
  {
   "cell_type": "code",
   "execution_count": null,
   "id": "1dbf40b0",
   "metadata": {},
   "outputs": [],
   "source": [
    "df_user_type_revenue['MonthYear'] = df_user_type_revenue['MonthYear'].astype(str)"
   ]
  },
  {
   "cell_type": "code",
   "execution_count": null,
   "id": "74d915d3",
   "metadata": {},
   "outputs": [],
   "source": [
    "df_user_type_revenue = df_uk.groupby(['MonthYear','UserType'])['Revenue'].sum().reset_index()\n",
    "df_user_type_revenue"
   ]
  },
  {
   "cell_type": "code",
   "execution_count": null,
   "id": "5c5a02da",
   "metadata": {},
   "outputs": [],
   "source": [
    "df_user_type_plot = df_user_type_revenue.loc[1:22]\n",
    "\n",
    "plt.figure(figsize=(10,6))\n",
    "sns.lineplot(data=df_user_type_plot,\n",
    "            x='MonthYear',\n",
    "            y='Revenue',\n",
    "           hue='UserType',\n",
    "            palette='cubehelix')\n"
   ]
  },
  {
   "cell_type": "code",
   "execution_count": null,
   "id": "10c867e6",
   "metadata": {},
   "outputs": [],
   "source": [
    "df_user_type_plot.head()"
   ]
  },
  {
   "cell_type": "markdown",
   "id": "9d7850f8",
   "metadata": {},
   "source": [
    "# New User Ratio"
   ]
  },
  {
   "cell_type": "code",
   "execution_count": null,
   "id": "6599a33b",
   "metadata": {},
   "outputs": [],
   "source": [
    "df_new_user_ratio = (df_uk.query(\"UserType == 'New'\").groupby(['MonthYear'])['CustomerID'].nunique() / df_uk.query(\"UserType == 'Existing'\").groupby(['MonthYear'])['CustomerID'].nunique()).round(2)\n",
    "df_new_user_ratio = df_new_user_ratio.reset_index()"
   ]
  },
  {
   "cell_type": "code",
   "execution_count": null,
   "id": "2a9fd43e",
   "metadata": {},
   "outputs": [],
   "source": [
    "df_new_user_ratio.columns = ['MonthYear', 'New_Cus_Ratio']"
   ]
  },
  {
   "cell_type": "code",
   "execution_count": null,
   "id": "7fd3d102",
   "metadata": {},
   "outputs": [],
   "source": [
    "df_new_user_ratio.dropna()"
   ]
  },
  {
   "cell_type": "code",
   "execution_count": null,
   "id": "fc9e4d0e",
   "metadata": {},
   "outputs": [],
   "source": [
    "plt.figure(figsize=(10,8))\n",
    "sns.lineplot(data = df_new_user_ratio,\n",
    "            x = 'MonthYear',\n",
    "            y = 'New_Cus_Ratio',\n",
    "            palette = 'cubehelix')"
   ]
  },
  {
   "cell_type": "code",
   "execution_count": null,
   "id": "bb268e7f",
   "metadata": {},
   "outputs": [],
   "source": [
    "df_new_user_ratio['MonthYear'] = df_new_user_ratio['MonthYear'].astype(str)"
   ]
  },
  {
   "cell_type": "markdown",
   "id": "b9d3cc92",
   "metadata": {},
   "source": [
    "# User Retention"
   ]
  },
  {
   "cell_type": "code",
   "execution_count": null,
   "id": "96a2d8c8",
   "metadata": {},
   "outputs": [],
   "source": [
    "df_uk_purchase = df_uk.groupby(['MonthYear','CustomerID'])['Revenue'].sum().reset_index()"
   ]
  },
  {
   "cell_type": "code",
   "execution_count": null,
   "id": "e843c159",
   "metadata": {},
   "outputs": [],
   "source": [
    "df_retention = pd.crosstab(df_uk_purchase['CustomerID'],\n",
    "            df_uk_purchase['MonthYear']).reset_index()"
   ]
  },
  {
   "cell_type": "code",
   "execution_count": null,
   "id": "02b647f6",
   "metadata": {},
   "outputs": [],
   "source": [
    "months = df_retention.columns[2:]"
   ]
  },
  {
   "cell_type": "code",
   "execution_count": null,
   "id": "13b2f5fc",
   "metadata": {},
   "outputs": [],
   "source": [
    "months"
   ]
  },
  {
   "cell_type": "code",
   "execution_count": null,
   "id": "b694d656",
   "metadata": {},
   "outputs": [],
   "source": [
    "retention_array = []\n",
    "prev_month = None\n",
    "\n",
    "for selected_month in months:\n",
    "    retention_data = {}\n",
    "    retention_data['MonthYear'] = int(selected_month.year * 100 + selected_month.month)\n",
    "    retention_data['TotalUserCount'] = df_retention[selected_month].sum()\n",
    "    \n",
    "    if prev_month is not None:\n",
    "        retained_users = df_retention[(df_retention[selected_month] > 0) & (df_retention[prev_month] > 0)][selected_month]\n",
    "        retention_data['RetainedUserCount'] = retained_users.sum()\n",
    "    \n",
    "    retention_array.append(retention_data)\n",
    "    prev_month = selected_month\n"
   ]
  },
  {
   "cell_type": "code",
   "execution_count": null,
   "id": "017cf796",
   "metadata": {},
   "outputs": [],
   "source": [
    "df_retention_month = pd.DataFrame(retention_array)"
   ]
  },
  {
   "cell_type": "code",
   "execution_count": null,
   "id": "58c9d8ce",
   "metadata": {},
   "outputs": [],
   "source": [
    "df_retention_month = df_retention_month[1:]"
   ]
  },
  {
   "cell_type": "code",
   "execution_count": null,
   "id": "869704a0",
   "metadata": {},
   "outputs": [],
   "source": [
    "df_retention_month"
   ]
  },
  {
   "cell_type": "code",
   "execution_count": null,
   "id": "eee3808d",
   "metadata": {},
   "outputs": [],
   "source": [
    "df_retention_month['RetentionRate'] = df_retention_month['RetainedUserCount']/df_retention_month['TotalUserCount']"
   ]
  },
  {
   "cell_type": "code",
   "execution_count": null,
   "id": "44c0f0d3",
   "metadata": {},
   "outputs": [],
   "source": [
    "df_retention_month = df_retention_month[:-1]"
   ]
  },
  {
   "cell_type": "code",
   "execution_count": null,
   "id": "c61cd105",
   "metadata": {},
   "outputs": [],
   "source": [
    "sns.lineplot(data = df_retention_month, \n",
    "           x='MonthYear',\n",
    "           y='RetentionRate',\n",
    "           palette = 'Blues')"
   ]
  },
  {
   "cell_type": "markdown",
   "id": "7394435f",
   "metadata": {},
   "source": [
    "# Churn Rate"
   ]
  },
  {
   "cell_type": "code",
   "execution_count": null,
   "id": "e4215b2c",
   "metadata": {},
   "outputs": [],
   "source": [
    "df_retention_month.loc[:, 'ChurnRate'] = 1 - df_retention_month['RetentionRate']"
   ]
  },
  {
   "cell_type": "code",
   "execution_count": null,
   "id": "72a86dd7",
   "metadata": {},
   "outputs": [],
   "source": [
    "df_retention_month"
   ]
  },
  {
   "cell_type": "code",
   "execution_count": null,
   "id": "d94f67fc",
   "metadata": {},
   "outputs": [],
   "source": [
    "sns.lineplot(data = df_retention_month, \n",
    "            x='MonthYear',\n",
    "            y='ChurnRate',\n",
    "            palette = 'Blues')\n",
    "\n",
    "plt.tight_layout"
   ]
  },
  {
   "cell_type": "code",
   "execution_count": null,
   "id": "8e3c2e67",
   "metadata": {},
   "outputs": [],
   "source": []
  },
  {
   "cell_type": "markdown",
   "id": "2c725730",
   "metadata": {},
   "source": [
    "# Customer Segmentation"
   ]
  },
  {
   "cell_type": "code",
   "execution_count": 32,
   "id": "6c82fdfd",
   "metadata": {},
   "outputs": [],
   "source": [
    "df = df.drop(['Day','Month','Week','Year'], axis = 1)"
   ]
  },
  {
   "cell_type": "code",
   "execution_count": 60,
   "id": "2b5825fb",
   "metadata": {},
   "outputs": [
    {
     "name": "stdout",
     "output_type": "stream",
     "text": [
      "<class 'pandas.core.frame.DataFrame'>\n",
      "RangeIndex: 541909 entries, 0 to 541908\n",
      "Data columns (total 8 columns):\n",
      " #   Column       Non-Null Count   Dtype  \n",
      "---  ------       --------------   -----  \n",
      " 0   InvoiceNo    541909 non-null  object \n",
      " 1   StockCode    541909 non-null  object \n",
      " 2   Description  540455 non-null  object \n",
      " 3   Quantity     541909 non-null  int64  \n",
      " 4   InvoiceDate  541909 non-null  object \n",
      " 5   UnitPrice    541909 non-null  float64\n",
      " 6   CustomerID   406829 non-null  float64\n",
      " 7   Country      541909 non-null  object \n",
      "dtypes: float64(2), int64(1), object(5)\n",
      "memory usage: 33.1+ MB\n"
     ]
    }
   ],
   "source": [
    "df.info()"
   ]
  },
  {
   "cell_type": "code",
   "execution_count": 61,
   "id": "d60d0b37",
   "metadata": {},
   "outputs": [],
   "source": [
    "df[\"InvoiceDate\"] = pd.to_datetime(df['InvoiceDate'])"
   ]
  },
  {
   "cell_type": "code",
   "execution_count": 63,
   "id": "6388bb42",
   "metadata": {},
   "outputs": [],
   "source": [
    "df[['Date', 'Time']] = pd.DataFrame({'Date': df['InvoiceDate'].dt.date, 'Time': df['InvoiceDate'].dt.time})"
   ]
  },
  {
   "cell_type": "code",
   "execution_count": 65,
   "id": "7b9606a4",
   "metadata": {},
   "outputs": [],
   "source": [
    "df['MonthYear'] = pd.to_datetime(df['InvoiceDate']).dt.strftime('%Y-%m')"
   ]
  },
  {
   "cell_type": "code",
   "execution_count": 67,
   "id": "5c888848",
   "metadata": {},
   "outputs": [],
   "source": [
    "df = df.drop(\"InvoiceDate\", axis = 1)"
   ]
  },
  {
   "cell_type": "code",
   "execution_count": null,
   "id": "e8a6d5c9",
   "metadata": {},
   "outputs": [],
   "source": []
  },
  {
   "cell_type": "markdown",
   "id": "4a93cbb3",
   "metadata": {},
   "source": [
    "# Recency"
   ]
  },
  {
   "cell_type": "code",
   "execution_count": 91,
   "id": "3d305f1d",
   "metadata": {},
   "outputs": [],
   "source": [
    "df_uk = df.query(\"Country == 'United Kingdom'\")"
   ]
  },
  {
   "cell_type": "code",
   "execution_count": 92,
   "id": "30c1d6c5",
   "metadata": {},
   "outputs": [],
   "source": [
    "df_user = pd.DataFrame(df_uk[\"CustomerID\"].unique())\n",
    "df_user.columns = [\"CustomerID\"]"
   ]
  },
  {
   "cell_type": "code",
   "execution_count": 93,
   "id": "c720bfad",
   "metadata": {},
   "outputs": [],
   "source": [
    "# group all the customer id's with the most recent purchase\n",
    "df_maxPurchase = df_uk.groupby(\"CustomerID\")[\"Date\"].max().reset_index()"
   ]
  },
  {
   "cell_type": "code",
   "execution_count": 100,
   "id": "ac6a6f4b",
   "metadata": {},
   "outputs": [],
   "source": [
    "df_maxPurchase.columns = [\"CustomerID\",\"MaxPurchaseDate\"]"
   ]
  },
  {
   "cell_type": "code",
   "execution_count": 101,
   "id": "3eb85d3e",
   "metadata": {},
   "outputs": [],
   "source": [
    "#we take our observation point as the max invoice date in our dataset\n",
    "df_maxPurchase['Recency'] = (df_maxPurchase['MaxPurchaseDate'].max() - df_maxPurchase['MaxPurchaseDate']).dt.days"
   ]
  },
  {
   "cell_type": "code",
   "execution_count": 103,
   "id": "9eb3a5ee",
   "metadata": {},
   "outputs": [
    {
     "data": {
      "text/html": [
       "<div>\n",
       "<style scoped>\n",
       "    .dataframe tbody tr th:only-of-type {\n",
       "        vertical-align: middle;\n",
       "    }\n",
       "\n",
       "    .dataframe tbody tr th {\n",
       "        vertical-align: top;\n",
       "    }\n",
       "\n",
       "    .dataframe thead th {\n",
       "        text-align: right;\n",
       "    }\n",
       "</style>\n",
       "<table border=\"1\" class=\"dataframe\">\n",
       "  <thead>\n",
       "    <tr style=\"text-align: right;\">\n",
       "      <th></th>\n",
       "      <th>CustomerID</th>\n",
       "      <th>MaxPurchaseDate</th>\n",
       "      <th>Recency</th>\n",
       "    </tr>\n",
       "  </thead>\n",
       "  <tbody>\n",
       "    <tr>\n",
       "      <th>0</th>\n",
       "      <td>12346.0</td>\n",
       "      <td>2011-01-18</td>\n",
       "      <td>325</td>\n",
       "    </tr>\n",
       "    <tr>\n",
       "      <th>1</th>\n",
       "      <td>12747.0</td>\n",
       "      <td>2011-12-07</td>\n",
       "      <td>2</td>\n",
       "    </tr>\n",
       "    <tr>\n",
       "      <th>2</th>\n",
       "      <td>12748.0</td>\n",
       "      <td>2011-12-09</td>\n",
       "      <td>0</td>\n",
       "    </tr>\n",
       "    <tr>\n",
       "      <th>3</th>\n",
       "      <td>12749.0</td>\n",
       "      <td>2011-12-06</td>\n",
       "      <td>3</td>\n",
       "    </tr>\n",
       "    <tr>\n",
       "      <th>4</th>\n",
       "      <td>12820.0</td>\n",
       "      <td>2011-12-06</td>\n",
       "      <td>3</td>\n",
       "    </tr>\n",
       "  </tbody>\n",
       "</table>\n",
       "</div>"
      ],
      "text/plain": [
       "   CustomerID MaxPurchaseDate  Recency\n",
       "0     12346.0      2011-01-18      325\n",
       "1     12747.0      2011-12-07        2\n",
       "2     12748.0      2011-12-09        0\n",
       "3     12749.0      2011-12-06        3\n",
       "4     12820.0      2011-12-06        3"
      ]
     },
     "execution_count": 103,
     "metadata": {},
     "output_type": "execute_result"
    }
   ],
   "source": [
    "df_maxPurchase.head()"
   ]
  },
  {
   "cell_type": "code",
   "execution_count": 105,
   "id": "d8991759",
   "metadata": {},
   "outputs": [
    {
     "data": {
      "text/plain": [
       "count    3950.000000\n",
       "mean       91.323038\n",
       "std       100.236848\n",
       "min         0.000000\n",
       "25%        16.000000\n",
       "50%        50.000000\n",
       "75%       143.000000\n",
       "max       373.000000\n",
       "Name: Recency, dtype: float64"
      ]
     },
     "execution_count": 105,
     "metadata": {},
     "output_type": "execute_result"
    }
   ],
   "source": [
    "df_maxPurchase[\"Recency\"].describe()"
   ]
  },
  {
   "cell_type": "code",
   "execution_count": 122,
   "id": "e9bb02f9",
   "metadata": {},
   "outputs": [
    {
     "data": {
      "image/png": "[encoded data removed]",
      "text/plain": [
       "<Figure size 1000x600 with 2 Axes>"
      ]
     },
     "metadata": {},
     "output_type": "display_data"
    },
    {
     "data": {
      "text/plain": [
       "<Figure size 640x480 with 0 Axes>"
      ]
     },
     "metadata": {},
     "output_type": "display_data"
    }
   ],
   "source": [
    "fig, axes = plt.subplots(2, figsize=(10, 6))\n",
    "\n",
    "sns.histplot(data=df_maxPurchase,\n",
    "             x='Recency',\n",
    "             bins=15,\n",
    "             kde=True,\n",
    "             ax=axes[0])\n",
    "\n",
    "sns.boxplot(data=df_maxPurchase,\n",
    "            x='Recency',\n",
    "            ax=axes[1])\n",
    "\n",
    "plt.show()\n",
    "plt.tight_layout()"
   ]
  },
  {
   "cell_type": "code",
   "execution_count": null,
   "id": "4a677103",
   "metadata": {},
   "outputs": [],
   "source": []
  }
 ],
 "metadata": {
  "kernelspec": {
   "display_name": "Python 3 (ipykernel)",
   "language": "python",
   "name": "python3"
  },
  "language_info": {
   "codemirror_mode": {
    "name": "ipython",
    "version": 3
   },
   "file_extension": ".py",
   "mimetype": "text/x-python",
   "name": "python",
   "nbconvert_exporter": "python",
   "pygments_lexer": "ipython3",
   "version": "3.10.6"
  }
 },
 "nbformat": 4,
 "nbformat_minor": 5
}
